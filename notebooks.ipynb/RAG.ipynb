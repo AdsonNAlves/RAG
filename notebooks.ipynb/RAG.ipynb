{
 "cells": [
  {
   "cell_type": "code",
   "execution_count": 7,
   "id": "75dca5a4",
   "metadata": {},
   "outputs": [],
   "source": [
    "! pip install -q -U langchain-ollama  python-dotenv gradio langchain plotly scikit-learn matplotlib langchain-community\n",
    "! pip install pymilvus -q"
   ]
  },
  {
   "cell_type": "code",
   "execution_count": 8,
   "id": "07b3989d",
   "metadata": {},
   "outputs": [],
   "source": [
    "# imports\n",
    "import os\n",
    "import glob\n",
    "from dotenv import load_dotenv\n",
    "import gradio as gr"
   ]
  },
  {
   "cell_type": "code",
   "execution_count": 9,
   "id": "a278322d",
   "metadata": {},
   "outputs": [],
   "source": [
    "# imports for langchain, plotly and Chroma\n",
    "from langchain.vectorstores import Milvus\n",
    "from langchain.document_loaders import DirectoryLoader, TextLoader\n",
    "from langchain.text_splitter import CharacterTextSplitter\n",
    "from langchain.schema import Document\n",
    "# from langchain_openai import OpenAIEmbeddings, ChatOpenAI\n",
    "# from langchain_chroma import Chroma\n",
    "import matplotlib.pyplot as plt\n",
    "from sklearn.manifold import TSNE\n",
    "import numpy as np\n",
    "import plotly.graph_objects as go\n",
    "from langchain.memory import ConversationBufferMemory\n",
    "from langchain.chains import ConversationalRetrievalChain\n",
    "from langchain.embeddings import HuggingFaceEmbeddings\n",
    "\n",
    "from langchain_ollama import OllamaEmbeddings, ChatOllama"
   ]
  },
  {
   "cell_type": "code",
   "execution_count": null,
   "id": "10f281b7",
   "metadata": {},
   "outputs": [],
   "source": [
    "# # Load environment variables in a file called .env\n",
    "# load_dotenv(override=True)\n",
    "# os.environ['OPENAI_API_KEY'] = os.getenv('OPENAI_API_KEY', 'your-key-if-not-using-env')"
   ]
  },
  {
   "cell_type": "code",
   "execution_count": null,
   "id": "45883772",
   "metadata": {},
   "outputs": [],
   "source": [
    "# ! ollama pull nomic-embed-text\n",
    "# ! ollama pull mistral-openorca\n",
    "! ollama pull phi4-mini\n",
    "! ollama serve"
   ]
  },
  {
   "cell_type": "code",
   "execution_count": null,
   "id": "82dd8610",
   "metadata": {},
   "outputs": [],
   "source": [
    "! podman ps"
   ]
  },
  {
   "cell_type": "code",
   "execution_count": 50,
   "id": "aae3d388",
   "metadata": {},
   "outputs": [
    {
     "name": "stdout",
     "output_type": "stream",
     "text": [
      "\u001b[4m>>>> Executing external compose provider \"/opt/homebrew/bin/docker-compose\". Please see podman-compose(1) for how to disable this message. <<<<\n",
      "\n",
      "\u001b[0m\u001b[33mWARN\u001b[0m[0000] /Users/adsonalves/Desktop/FIT/Prediza/docker-compose.yml: the attribute `version` is obsolete, it will be ignored, please remove it to avoid potential confusion \n",
      "\u001b[1A\u001b[1B\u001b[0G\u001b[?25l[+] Running 3/0\n",
      " \u001b[32m✔\u001b[0m Network milvus               \u001b[32mCreated\u001b[0m                                    \u001b[34m0.0s \u001b[0m\n",
      " \u001b[32m✔\u001b[0m Container milvus-etcd        \u001b[32mCreated\u001b[0m                                    \u001b[34m0.1s \u001b[0m\n",
      " \u001b[32m✔\u001b[0m Container milvus-minio       \u001b[32mCreated\u001b[0m                                    \u001b[34m0.1s \u001b[0m\n",
      " \u001b[33m⠋\u001b[0m Container milvus-standalone  Creating                                   \u001b[34m0.0s \u001b[0m\n",
      "\u001b[?25h\u001b[1A\u001b[1A\u001b[1A\u001b[1A\u001b[1A\u001b[0G\u001b[?25l[+] Running 2/4\n",
      " \u001b[32m✔\u001b[0m Network milvus               \u001b[32mCreated\u001b[0m                                    \u001b[34m0.0s \u001b[0m\n",
      " \u001b[33m⠙\u001b[0m Container milvus-etcd        Starting                                   \u001b[34m0.2s \u001b[0m\n",
      " \u001b[33m⠙\u001b[0m Container milvus-minio       Starting                                   \u001b[34m0.2s \u001b[0m\n",
      " \u001b[32m✔\u001b[0m Container milvus-standalone  \u001b[32mCreated\u001b[0m                                    \u001b[34m0.0s \u001b[0m\n",
      "\u001b[?25h\u001b[1A\u001b[1A\u001b[1A\u001b[1A\u001b[1A\u001b[0G\u001b[?25l[+] Running 3/4\n",
      " \u001b[32m✔\u001b[0m Network milvus               \u001b[32mCreated\u001b[0m                                    \u001b[34m0.0s \u001b[0m\n",
      " \u001b[32m✔\u001b[0m Container milvus-etcd        \u001b[32mStarted\u001b[0m                                    \u001b[34m0.2s \u001b[0m\n",
      " \u001b[32m✔\u001b[0m Container milvus-minio       \u001b[32mStarted\u001b[0m                                    \u001b[34m0.2s \u001b[0m\n",
      " \u001b[33m⠙\u001b[0m Container milvus-standalone  Starting                                   \u001b[34m0.2s \u001b[0m\n",
      "\u001b[?25h\u001b[1A\u001b[1A\u001b[1A\u001b[1A\u001b[1A\u001b[0G\u001b[?25l\u001b[34m[+] Running 4/4\u001b[0m\n",
      " \u001b[32m✔\u001b[0m Network milvus               \u001b[32mCreated\u001b[0m                                    \u001b[34m0.0s \u001b[0m\n",
      " \u001b[32m✔\u001b[0m Container milvus-etcd        \u001b[32mStarted\u001b[0m                                    \u001b[34m0.2s \u001b[0m\n",
      " \u001b[32m✔\u001b[0m Container milvus-minio       \u001b[32mStarted\u001b[0m                                    \u001b[34m0.2s \u001b[0m\n",
      " \u001b[32m✔\u001b[0m Container milvus-standalone  \u001b[32mStarted\u001b[0m                                    \u001b[34m0.3s \u001b[0m\n",
      "\u001b[?25h"
     ]
    }
   ],
   "source": [
    "! cd .. && podman compose up -d"
   ]
  },
  {
   "cell_type": "code",
   "execution_count": 10,
   "id": "7f68f7d5",
   "metadata": {},
   "outputs": [
    {
     "name": "stdout",
     "output_type": "stream",
     "text": [
      "CONTAINER ID  IMAGE                             COMMAND               CREATED        STATUS        PORTS                                             NAMES\n",
      "1502ec8eda38  docker.io/library/postgres:15     postgres              5 minutes ago  Up 5 minutes  0.0.0.0:5433->5432/tcp                            postgres\n",
      "94b3d6e966bd  quay.io/minio/minio:latest        server /data --co...  5 minutes ago  Up 5 minutes  0.0.0.0:9000-9001->9000-9001/tcp                  minio\n",
      "6a5410eda16d  quay.io/coreos/etcd:v3.5.5        /usr/local/bin/et...  5 minutes ago  Up 5 minutes  0.0.0.0:2379-2380->2379-2380/tcp                  etcd\n",
      "7f0d49f4b498  docker.io/bitnami/spark:3.5       /opt/bitnami/scri...  5 minutes ago  Up 5 minutes  0.0.0.0:7077->7077/tcp, 0.0.0.0:8080->8080/tcp    spark\n",
      "6e783e464708  docker.io/ollama/ollama:latest    serve                 5 minutes ago  Up 5 minutes  0.0.0.0:11434->11434/tcp                          ollama\n",
      "a171887c1445  docker.io/milvusdb/milvus:v2.3.9  milvus run standa...  5 minutes ago  Up 5 minutes  0.0.0.0:9091->9091/tcp, 0.0.0.0:19530->19530/tcp  milvus\n"
     ]
    }
   ],
   "source": [
    "! podman ps"
   ]
  },
  {
   "cell_type": "code",
   "execution_count": 11,
   "id": "9f874c05",
   "metadata": {},
   "outputs": [
    {
     "name": "stdout",
     "output_type": "stream",
     "text": [
      "Coleções: []\n"
     ]
    }
   ],
   "source": [
    "from pymilvus import connections, utility\n",
    "\n",
    "# Conecte-se ao Milvus na porta 19530\n",
    "connections.connect(alias=\"default\", host=\"localhost\", port=\"19530\")\n",
    "\n",
    "# Agora você pode listar coleções\n",
    "collections = utility.list_collections()\n",
    "print(\"Coleções:\", collections)"
   ]
  },
  {
   "cell_type": "code",
   "execution_count": 13,
   "id": "e785b62e",
   "metadata": {},
   "outputs": [
    {
     "name": "stdout",
     "output_type": "stream",
     "text": [
      "Conectado: True\n"
     ]
    }
   ],
   "source": [
    "from pymilvus import connections\n",
    "\n",
    "status = connections.has_connection(\"default\")\n",
    "print(\"Conectado:\", status)\n"
   ]
  },
  {
   "cell_type": "code",
   "execution_count": null,
   "id": "277a8c6c",
   "metadata": {},
   "outputs": [],
   "source": [
    "# !  cd .. && podman compose down && rm -rf volumes"
   ]
  },
  {
   "cell_type": "code",
   "execution_count": 58,
   "id": "df005413",
   "metadata": {},
   "outputs": [],
   "source": [
    "# MODEL = \"gpt-4o-mini\"\n",
    "MODEL = \"nomic-embed-text\""
   ]
  },
  {
   "cell_type": "code",
   "execution_count": 59,
   "id": "9c133cb5",
   "metadata": {},
   "outputs": [
    {
     "name": "stdout",
     "output_type": "stream",
     "text": [
      "Total number of chunks: 17\n",
      "Document types found: {'services', 'company', 'infos'}\n"
     ]
    }
   ],
   "source": [
    "folders = glob.glob(\"../knowledge_base/*\")\n",
    "\n",
    "def add_metadata(doc, doc_type):\n",
    "    doc.metadata[\"doc_type\"] = doc_type\n",
    "    return doc\n",
    "\n",
    "text_loader_kwargs = {'encoding': 'utf-8'}\n",
    "\n",
    "documents = []\n",
    "\n",
    "for folder in folders:\n",
    "    doc_type = os.path.basename(folder)\n",
    "    loader = DirectoryLoader(folder, glob=\"**/*.txt\", loader_cls=TextLoader, loader_kwargs=text_loader_kwargs)\n",
    "    folder_docs = loader.load()\n",
    "    documents.extend([add_metadata(doc, doc_type) for doc in folder_docs])\n",
    "\n",
    "text_splitter = CharacterTextSplitter(chunk_size=1000, chunk_overlap=200)\n",
    "chunks = text_splitter.split_documents(documents)\n",
    "\n",
    "print(f\"Total number of chunks: {len(chunks)}\")\n",
    "print(f\"Document types found: {set(doc.metadata['doc_type'] for doc in documents)}\")"
   ]
  },
  {
   "cell_type": "code",
   "execution_count": 60,
   "id": "42cf1917",
   "metadata": {},
   "outputs": [],
   "source": [
    "embeddings = OllamaEmbeddings(model=MODEL)"
   ]
  },
  {
   "cell_type": "code",
   "execution_count": 61,
   "id": "54990563",
   "metadata": {},
   "outputs": [],
   "source": [
    "vector_store = Milvus.from_documents(\n",
    "    chunks,\n",
    "    embedding=embeddings,\n",
    "    connection_args={\"host\": \"localhost\", \"port\": \"19530\"},\n",
    "    collection_name=\"knowledge_base_prediza\"\n",
    ")"
   ]
  },
  {
   "cell_type": "code",
   "execution_count": 70,
   "id": "0cfa6788",
   "metadata": {},
   "outputs": [
    {
     "name": "stdout",
     "output_type": "stream",
     "text": [
      "Coleções no Milvus:\n",
      "- knowledge_base_prediza\n"
     ]
    }
   ],
   "source": [
    "from pymilvus import connections, utility\n",
    "\n",
    "# connections.connect(alias=\"default\", host=\"localhost\", port=\"19530\")\n",
    "\n",
    "collections = utility.list_collections()\n",
    "print(\"Coleções no Milvus:\")\n",
    "for collection in collections:\n",
    "    print(\"-\", collection)"
   ]
  },
  {
   "cell_type": "code",
   "execution_count": 67,
   "id": "1f0da71c",
   "metadata": {},
   "outputs": [
    {
     "name": "stdout",
     "output_type": "stream",
     "text": [
      "Coleção carregada com sucesso.\n",
      "Número de vetores na coleção: 0\n"
     ]
    }
   ],
   "source": [
    "## Resolveu o problema de carregamento no DB Milvus --- erro (aparece nulo mas ta la, confia)\n",
    "from pymilvus import Collection\n",
    "\n",
    "collection = Collection(\"knowledge_base_prediza\")\n",
    "collection.load()\n",
    "print(\"Coleção carregada com sucesso.\")\n",
    "print(\"Número de vetores na coleção:\", collection.num_entities)"
   ]
  },
  {
   "cell_type": "code",
   "execution_count": 69,
   "id": "f1a7903f",
   "metadata": {},
   "outputs": [
    {
     "name": "stdout",
     "output_type": "stream",
     "text": [
      "A coleção 'knowledge_base_prediza' tem 0 documentos.\n"
     ]
    }
   ],
   "source": [
    "from pymilvus import Collection\n",
    "\n",
    "collection_name = \"knowledge_base_prediza\"\n",
    "collection = Collection(name=collection_name)\n",
    "\n",
    "num_documents = collection.num_entities\n",
    "print(f\"A coleção '{collection_name}' tem {num_documents} documentos.\")\n"
   ]
  },
  {
   "cell_type": "code",
   "execution_count": null,
   "id": "28142e48",
   "metadata": {},
   "outputs": [
    {
     "name": "stdout",
     "output_type": "stream",
     "text": [
      "Apagando a coleção: knowledge_base_prediza\n",
      "Coleções restantes: []\n"
     ]
    }
   ],
   "source": [
    "# # para deletar todas colecoes no milvus \n",
    "\n",
    "# from pymilvus import connections, utility\n",
    "\n",
    "# # Conecte-se ao Milvus\n",
    "# # connections.connect(alias=\"default\", host=\"localhost\", port=\"19530\")\n",
    "\n",
    "# # Liste todas as coleções\n",
    "# collections = utility.list_collections()\n",
    "\n",
    "# # Apague cada coleção\n",
    "# for collection_name in collections:\n",
    "#     print(f\"Apagando a coleção: {collection_name}\")\n",
    "#     utility.drop_collection(collection_name)\n",
    "\n",
    "# # Verifique novamente as coleções após a remoção\n",
    "# remaining_collections = utility.list_collections()\n",
    "# print(\"Coleções restantes:\", remaining_collections)"
   ]
  },
  {
   "cell_type": "code",
   "execution_count": 71,
   "id": "c4a88021",
   "metadata": {},
   "outputs": [
    {
     "data": {
      "application/vnd.plotly.v1+json": {
       "config": {
        "plotlyServerURL": "https://plot.ly"
       },
       "data": [
        {
         "customdata": [
          [
           "Antracnose\n(Colletotrichum truncatum)\n\nAntracnose: sintomas, manejo, tempo de vida\n\nA antracnose é uma doença da soja, causada pelo fungo Colletotrichum truncatum em regiões tropicais do Brasil, incluindo o Cerrado Brasileiro e a região do MaToPiBa. No sul do Brasil, em safras chuvosas também tem se destacado como um grande desafio ao manejo da antracnose. Danos na redução da população de plantas, na produtividade e na qualidade de semente podem ocorrer pelo ataque desse fungo.\n\nO alto impacto que a antracnose apresenta sobre a produtividade é devido à inicialmente pode prejudicar o desenvolvimento inicial de plantas quando ataca cotilédones e posteriormente por afetar diretamente as vagens, podendo causar abortamento total das vagens ou danos parciais ao enchimento dos grãos."
          ],
          [
           "Desenvolvimento da antracnose\nA disseminação da antracnose ocorre a partir de sementes infectadas e restos culturais infectados, sendo auxiliada pelo vento e respingos da chuva. Alta população de plantas ou após o fechamento das linhas, associada ao molhamento foliar prolongado e temperatura entre 18 e 25ºC são condições favoráveis para o estabelecimento da doença.\n\nPlântulas originadas de sementes infectadas podem morrer durante a germinação ou germinar com necrose dos cotilédones que se estende para o hipocótilo e radícula, provocando tombamento.\n\nA esporulação do fungo é observada com temperaturas inferiores a 35ºC. Infecções nos cotilédones, haste e folhas ocorrem predominantemente no estádio vegetativo com o inóculo inicial oriundo da semente ou restos culturais. Com o início da floração há transmissão do inóculo para a flor, impedindo a fecundação e formação dos grãos, ou para o legume, contaminando o grão em formação."
          ],
          [
           "Atraso na colheita ou muita chuva no final do ciclo promovem a contaminação massiva dos grãos. Para que ocorra a doença é necessária a interação do patógeno Colletotrichum truncatum, hospedeiro suscetível e ambiente favorável, gerando o triângulo da doença.\n\n\nCom o início da floração há transmissão do inóculo da folha para a flor\n\nA flor infectada pelo patógeno é impedida de ser fecundada, resultando em abortamento de legumes e originando legumes sem grãos. As folhas e flores infectadas também podem servir de inóculo para os legumes, contaminando os grãos em formação. Através da infecção do patógeno nos legumes, poderá haver abertura desses.\n\nEstratégias de Manejo da antracnose:"
          ],
          [
           "Estratégias de Manejo da antracnose:\n\nRotação de culturas com espécies não-hospedeiras ao patógeno.\nUso de sementes sadias livres do patógeno\nTratamento das sementes com fungicidas eficientes\nAdequação do arranjo populacional de plantas\nNíveis nutricionais adequados são importantes para as defesas da planta\nUso de cultivares menos suscetíveis\nControle químico com o uso de fungicidas\n\nMonitoramento das áreas\n\nDeve-se ter uma atenção especial ao monitoramento da antracnose ainda na fase vegetativa da soja, que é quando iniciam as lesões nas folhas. Muitas vezes, por falta de atenção, os sintomas passam despercebidos, e após o patógeno atingir flores e legumes o controle estará praticamente comprometido. Significativos danos na produtividade e qualidade dos grãos advém dos erros de posicionamento do controle.\n\nO monitoramento deve ser realizado com cautela, pois é uma doença da soja silenciosa, que ocorre no interior do dossel."
          ],
          [
           "O monitoramento deve ser realizado com cautela, pois é uma doença da soja silenciosa, que ocorre no interior do dossel.\n\nO Posicionamento de Fungicidas\nO planejamento do programa fungicida deverá contemplar ação sobre antracnose em áreas de risco e com condições favoráveis de clima. A proteção inicial deverá ocorrer ainda no tratamento de semente, o qual é essencial para reduzir a transmissibilidade do fungo se caso esteja presente na semente e para dar uma proteção ao desenvolvimento inicial das plantas. Após isso, aplicações de fungicidas em parte aérea deverão dar continuidade à essa proteção. Lembrando, que mais importante que utilizar fungicidas eficientes, é o momento em que serão feitas as aplicações."
          ],
          [
           "Para um controle efetivo iniciar cedo as aplicações é fundamental. Em áreas de elevada pressão, região tropical, Tocantins, sob condições favoráveis, pesquisadores têm notado que aplicações entre 15 e 20 dias após a emergência podem ser necessárias. Em áreas de menor pressão poderá ser um pouco mais tarde.\n\nO manejo de fungicida ainda nos estádios vegetativos da soja serão decisivos. Nesses estádios se consegue ainda depositar eficientemente produto no dossel inferior das plantas e se consegue dessa forma reduzir à construção de inóculo sobre a planta.\n\nÉ importante que no início da floração (R1) seja feita uma aplicação. À floração é um momento bastante crítico devido à possível transferência de inóculo das folhas para as flores. Aplicações subsequentes à floração também serão importantes, pois poderá haver transmissão de inóculo diretamente às vagens. O período de início de formação de vagens também é bastante crítico."
          ],
          [
           "Recomenda-se trabalhar com intervalos entre aplicações não superiores a 15 dias e usar produtos eficientes, corretamente selecionados, com adição de reforços para ampliar espectro de controle e reduzir risco de resistência."
          ],
          [
           "Oct 10, 2021\nAgricultura Preditiva\nO uso de inteligencia artificial e a analise preditiva de doenças e pragas no ambiente de cultivo, bem como a predição de eventos climáticos como a geada ajudam os produtores rurais a reduzir significativamente o custo operacional, a aplicação de defensivos e atua com foco na prevenção de doenças."
          ]
         ],
         "hovertemplate": "doc_type=infos<br>x=%{x}<br>y=%{y}<br>text=%{customdata[0]}<extra></extra>",
         "legendgroup": "infos",
         "marker": {
          "color": "#636efa",
          "symbol": "circle"
         },
         "mode": "markers",
         "name": "infos",
         "orientation": "v",
         "showlegend": true,
         "type": "scatter",
         "x": {
          "bdata": "x9k8+6B92T8JWalPdbfaP+ZNLzZ7VNg//Cu9UG3i1D8maOGcjrXHP8DQNgAMg8Q/VhISNUHMxb+eRzIHkA61vw==",
          "dtype": "f8"
         },
         "xaxis": "x",
         "y": {
          "bdata": "gqbgKwWXor8xzXnYOt6lP5PtA7/AU6A/cVuWYdUloL/OCnPekht/v22N1S2bCrY/vFMZbo+Qyj/1nnjzfNHQvw==",
          "dtype": "f8"
         },
         "yaxis": "y"
        },
        {
         "customdata": [
          [
           "A Prediza fornece serviços de :\n\nRuído ambiental\nO ruído excessivo e a poluição sonora geram transtornos diversos para toda a comunidade no entorno de uma empresa. Com o monitoramento de ruído ambiental para cidades, indústrias e empresas que trabalham com geração de energia, entre outros, ajudamos a enfrentar com eficiência este desafio. Isso é feito via coleta e geração de dados que auxiliam nas decisões estratégicas que permitam a supressão dos riscos ligados à produção de ruídos, bem como corrigir problemas e aumentar a eficiência produtiva.\nOnde a plataforma inteligente da Prediza pode fazer! \n\nMonitoramento permanente e contínuo de ruido ambiental, conforme a malha amostral e pontos de ruido.\n\nA partir dos dados monitorados, realizamos a simulação acústica considerando características predominantes do evento.\n\nGeração de mapas de ruído, considerando o comportamento das curvas isofônicas no meio ambiente."
          ],
          [
           "Geração de mapas de ruído, considerando o comportamento das curvas isofônicas no meio ambiente.\n\nRelatórios de campanha de monitoramento de ruído conforme os níveis de critérios estabelecidos pela legislação.\n\nUtilize a modelagem acústica para a adequação de sua malha amostral.\n\nPossibilidade de adicionar fontes sonoras de interesse para otimizar e delimitar o limite de interferência ambiental.\n\nApontamento dos locais de riscos ambientais. \n\nRelatórios detalhados\nFornecemos relatórios em tempo real do monitoramento de ruído. Estes contêm o conjunto de dados estruturados e organizados conforme os parâmetros acústicos desejados de todos os pontos de monitoramento.\n\nRuído ambiental\nAtravés da leitura de variável das máquinas (Machine-to-Machine), por exemplo: aerogeradores ou dados do chão de fábrica (CLP), é possível identificar e prever pontos de stress e manutenção preventiva e influência do equipamento no meio ambiente."
          ],
          [
           "A Prediza fornece serviços de desenvolvedores, onde, podemos criar sua machine learning de acordo com suas necessidades, utilize modelos preditivos e tenha acesso a técnicas de classificação, de árvore de decisão e visão computacional para gerar informações e previsões para seu negócio."
          ],
          [
           "A Prediza fornece serviços de:\nAgricultura Preditiva - Visto que na agricultura, melhores soluções tecnológicas significam melhores resultados. Com a análise preditiva e visão computacional, a Prediza traz informações em tempo real para previsibilidade mais precisa de riscos. Assim eleva a segurança no manejo, a diminuição de custos e o aumento de produtividade. Tudo isso significa mais desempenho para o negócio e mais proteção para o meio ambiente."
          ],
          [
           "Detecção de Doenças - Analisando a suscetibilidade de cada cultivar em cada estádio fenológico. Assim predizemos a ocorrência de doenças como, por exemplo, o míldio e a glomerella na videira, o ódio e a ferrugem asiática na soja e antracnose na mangueira, entre várias outras.\nPor ser um método de antecipação, é possível fazer reais tratamentos preventivos reais, evitando o problema antes de ocorrer.\nAssim, reduzimos a quantidade de aplicações e entradas no campo, bem como gastos financeiros causados pela aplicação excessiva de produtos de tratamentos de calendário, o que leva a um manejo mais seguro e sustentável, com diminuição de custos e aumento de produtividade."
          ],
          [
           "Análise de Microclima, visto que chuvas mal distribuídas, geada, evapotranspiração e estiagem são ameaças sempre crescentes, devido às mudanças climáticas e particularidades específicas de cada região produtora.\nA instabilidade e mudança climática, aliadas a condições extremas, que se apresenta em determinadas regiões, traz a necessidade de contar com projetos da análise preditiva com georreferência na propriedade para a previsão precisa dessas ações no microclima.\n\nAlém do serviços de caderno de campo e rastreabilidade, visto que caderno de campo inteligente com georreferenciamento, relatórios de atividade de manejo, página de rastreabilidade, impressão de etiquetas, QR Code, visualização de atividades atrasadas e pendentes são apenas algumas das funcionalidades do nosso serviço. Tudo isso sem custo adicional e sem custo de licença por usuário."
          ],
          [
           "A Prediza fornece serviços de sensoriamento remoto integrado à plataforma de inteligência artificial.\n\nMuito além de imagens de NDVI, fornecemos um conjunto de índices, oriundos de satélites como Landsat e Sentinel, para acompanhar o uso do solo, a qualidade da vegetação e o ciclo fenológico de cada cultivar.\n\nTenha os principais índices utilizados incorporados à plataforma da Prediza:\n\nÍndice de Vegetação De Borda Vermelha (RECl)\nPermite entender a atividade fotossintética na cobertura do dossel\n\nVegetação Ajustado Ao Solo Modificado (MSAVI)\nÉ utilizado para mitigar os efeitos do solo quando o NDVI não fornece informação confiável.\n\nÍndice De vegetação Da diferença De Verde Normalizado (GNDVI)\nO GNDVI é baseado no NDVI para identificar o teor de nitrogênio da vegetação.\n\nÍndice De Água Por Diferença Normalizada (NDWI)\nSão utilizados para demarcar áreas alagadas, avaliar a turbidez da água e identificar solos com excesso de umidade."
          ],
          [
           "Índice De Água Por Diferença Normalizada (NDWI)\nSão utilizados para demarcar áreas alagadas, avaliar a turbidez da água e identificar solos com excesso de umidade.\n\nÍndice De Vegetação Ajustado Ao Solo (SAVI)\nO SAVI é utilizado em regiões aridas e semiáridas para acompanhar a vegetação.\n\nÍndice De Vegetação Ajustado Ao Solo Otimizado (OSAVI)\nO OSAVI é baeado no SAVI e utilizado para monitorar vegetações de baixa densidade.\n\nÍndice De Vegetação Resistente À Atmosfera (ARVI)\nO ARVI é utilizado para monitorar o índice de vegetação quando a região possuí muita poluição do ar.\n\nOutros índices\nÍndice De Vegetação Melhorado (EVI)\nÍndice De Queima Por Razão Normalizada (NBR)\nÍndice De Pigmento Insensível À Estrutura (SIPI)\nÍndice De Clorofila Verde (GCI)\nÍndice De Neve De Diferença Normalizada (NDSI)"
          ]
         ],
         "hovertemplate": "doc_type=services<br>x=%{x}<br>y=%{y}<br>text=%{customdata[0]}<extra></extra>",
         "legendgroup": "services",
         "marker": {
          "color": "#EF553B",
          "symbol": "circle"
         },
         "mode": "markers",
         "name": "services",
         "orientation": "v",
         "showlegend": true,
         "type": "scatter",
         "x": {
          "bdata": "+GHZUjRy0L8HW/qpmivNvynNdbs89tG/nynEiJLAxL+JBGojBSDCP3QxknX2Kci/ZP4PdnhV0r/Po+DIl1fIvw==",
          "dtype": "f8"
         },
         "xaxis": "x",
         "y": {
          "bdata": "Gak2Ho4xwD+doTgX9qXUP/E0RFqqINK/1Xj6HwbP0r/cf7yXVwKhPyosyoku5Ei/HbuSz5DauD+kc2VMvVLRPw==",
          "dtype": "f8"
         },
         "yaxis": "y"
        },
        {
         "customdata": [
          [
           "Sobre a Prediza\nA Prediza é uma empresa de ciência da computação aplicada na agricultura, energia e meio ambiente. Apoiando nas tomadas de decisões com uso de inteligência baseada em dados do meio ambiente, do solo, da planta, do microclima e do manejo da lavoura para gerar maior rentabilidade e produtividade.\n\nA Prediza desenvolve soluções de inteligência artificial e IoT para a agricultura.\n\nPioneira em inteligência artificial, ciência de dados e internet das coisas para mapear e predizer cenários de riscos que impactam a produção agricola. Simplificamos e otimizamos a tomanda de decisão para o planejamento, gestão e manejo no campo.\n\nAcelerada pela Ventiur Aceleradora, investida pelo Ministério de Ciência, Tecnologia e Inovação pelo programa FINEP Startup e possui o Grupo Piccin e Molinos Ca*uelas como socios investidores.\n\nA Prediza está localizada no parque tecnológico, TECNOUCS, da Universidade de Caxias do Sul no Rio Grande do Sul."
          ]
         ],
         "hovertemplate": "doc_type=company<br>x=%{x}<br>y=%{y}<br>text=%{customdata[0]}<extra></extra>",
         "legendgroup": "company",
         "marker": {
          "color": "#00cc96",
          "symbol": "circle"
         },
         "mode": "markers",
         "name": "company",
         "orientation": "v",
         "showlegend": true,
         "type": "scatter",
         "x": {
          "bdata": "sKuMsYXzxL8=",
          "dtype": "f8"
         },
         "xaxis": "x",
         "y": {
          "bdata": "3o7ibO5X078=",
          "dtype": "f8"
         },
         "yaxis": "y"
        }
       ],
       "layout": {
        "legend": {
         "title": {
          "text": "doc_type"
         },
         "tracegroupgap": 0
        },
        "template": {
         "data": {
          "bar": [
           {
            "error_x": {
             "color": "#2a3f5f"
            },
            "error_y": {
             "color": "#2a3f5f"
            },
            "marker": {
             "line": {
              "color": "#E5ECF6",
              "width": 0.5
             },
             "pattern": {
              "fillmode": "overlay",
              "size": 10,
              "solidity": 0.2
             }
            },
            "type": "bar"
           }
          ],
          "barpolar": [
           {
            "marker": {
             "line": {
              "color": "#E5ECF6",
              "width": 0.5
             },
             "pattern": {
              "fillmode": "overlay",
              "size": 10,
              "solidity": 0.2
             }
            },
            "type": "barpolar"
           }
          ],
          "carpet": [
           {
            "aaxis": {
             "endlinecolor": "#2a3f5f",
             "gridcolor": "white",
             "linecolor": "white",
             "minorgridcolor": "white",
             "startlinecolor": "#2a3f5f"
            },
            "baxis": {
             "endlinecolor": "#2a3f5f",
             "gridcolor": "white",
             "linecolor": "white",
             "minorgridcolor": "white",
             "startlinecolor": "#2a3f5f"
            },
            "type": "carpet"
           }
          ],
          "choropleth": [
           {
            "colorbar": {
             "outlinewidth": 0,
             "ticks": ""
            },
            "type": "choropleth"
           }
          ],
          "contour": [
           {
            "colorbar": {
             "outlinewidth": 0,
             "ticks": ""
            },
            "colorscale": [
             [
              0,
              "#0d0887"
             ],
             [
              0.1111111111111111,
              "#46039f"
             ],
             [
              0.2222222222222222,
              "#7201a8"
             ],
             [
              0.3333333333333333,
              "#9c179e"
             ],
             [
              0.4444444444444444,
              "#bd3786"
             ],
             [
              0.5555555555555556,
              "#d8576b"
             ],
             [
              0.6666666666666666,
              "#ed7953"
             ],
             [
              0.7777777777777778,
              "#fb9f3a"
             ],
             [
              0.8888888888888888,
              "#fdca26"
             ],
             [
              1,
              "#f0f921"
             ]
            ],
            "type": "contour"
           }
          ],
          "contourcarpet": [
           {
            "colorbar": {
             "outlinewidth": 0,
             "ticks": ""
            },
            "type": "contourcarpet"
           }
          ],
          "heatmap": [
           {
            "colorbar": {
             "outlinewidth": 0,
             "ticks": ""
            },
            "colorscale": [
             [
              0,
              "#0d0887"
             ],
             [
              0.1111111111111111,
              "#46039f"
             ],
             [
              0.2222222222222222,
              "#7201a8"
             ],
             [
              0.3333333333333333,
              "#9c179e"
             ],
             [
              0.4444444444444444,
              "#bd3786"
             ],
             [
              0.5555555555555556,
              "#d8576b"
             ],
             [
              0.6666666666666666,
              "#ed7953"
             ],
             [
              0.7777777777777778,
              "#fb9f3a"
             ],
             [
              0.8888888888888888,
              "#fdca26"
             ],
             [
              1,
              "#f0f921"
             ]
            ],
            "type": "heatmap"
           }
          ],
          "histogram": [
           {
            "marker": {
             "pattern": {
              "fillmode": "overlay",
              "size": 10,
              "solidity": 0.2
             }
            },
            "type": "histogram"
           }
          ],
          "histogram2d": [
           {
            "colorbar": {
             "outlinewidth": 0,
             "ticks": ""
            },
            "colorscale": [
             [
              0,
              "#0d0887"
             ],
             [
              0.1111111111111111,
              "#46039f"
             ],
             [
              0.2222222222222222,
              "#7201a8"
             ],
             [
              0.3333333333333333,
              "#9c179e"
             ],
             [
              0.4444444444444444,
              "#bd3786"
             ],
             [
              0.5555555555555556,
              "#d8576b"
             ],
             [
              0.6666666666666666,
              "#ed7953"
             ],
             [
              0.7777777777777778,
              "#fb9f3a"
             ],
             [
              0.8888888888888888,
              "#fdca26"
             ],
             [
              1,
              "#f0f921"
             ]
            ],
            "type": "histogram2d"
           }
          ],
          "histogram2dcontour": [
           {
            "colorbar": {
             "outlinewidth": 0,
             "ticks": ""
            },
            "colorscale": [
             [
              0,
              "#0d0887"
             ],
             [
              0.1111111111111111,
              "#46039f"
             ],
             [
              0.2222222222222222,
              "#7201a8"
             ],
             [
              0.3333333333333333,
              "#9c179e"
             ],
             [
              0.4444444444444444,
              "#bd3786"
             ],
             [
              0.5555555555555556,
              "#d8576b"
             ],
             [
              0.6666666666666666,
              "#ed7953"
             ],
             [
              0.7777777777777778,
              "#fb9f3a"
             ],
             [
              0.8888888888888888,
              "#fdca26"
             ],
             [
              1,
              "#f0f921"
             ]
            ],
            "type": "histogram2dcontour"
           }
          ],
          "mesh3d": [
           {
            "colorbar": {
             "outlinewidth": 0,
             "ticks": ""
            },
            "type": "mesh3d"
           }
          ],
          "parcoords": [
           {
            "line": {
             "colorbar": {
              "outlinewidth": 0,
              "ticks": ""
             }
            },
            "type": "parcoords"
           }
          ],
          "pie": [
           {
            "automargin": true,
            "type": "pie"
           }
          ],
          "scatter": [
           {
            "fillpattern": {
             "fillmode": "overlay",
             "size": 10,
             "solidity": 0.2
            },
            "type": "scatter"
           }
          ],
          "scatter3d": [
           {
            "line": {
             "colorbar": {
              "outlinewidth": 0,
              "ticks": ""
             }
            },
            "marker": {
             "colorbar": {
              "outlinewidth": 0,
              "ticks": ""
             }
            },
            "type": "scatter3d"
           }
          ],
          "scattercarpet": [
           {
            "marker": {
             "colorbar": {
              "outlinewidth": 0,
              "ticks": ""
             }
            },
            "type": "scattercarpet"
           }
          ],
          "scattergeo": [
           {
            "marker": {
             "colorbar": {
              "outlinewidth": 0,
              "ticks": ""
             }
            },
            "type": "scattergeo"
           }
          ],
          "scattergl": [
           {
            "marker": {
             "colorbar": {
              "outlinewidth": 0,
              "ticks": ""
             }
            },
            "type": "scattergl"
           }
          ],
          "scattermap": [
           {
            "marker": {
             "colorbar": {
              "outlinewidth": 0,
              "ticks": ""
             }
            },
            "type": "scattermap"
           }
          ],
          "scattermapbox": [
           {
            "marker": {
             "colorbar": {
              "outlinewidth": 0,
              "ticks": ""
             }
            },
            "type": "scattermapbox"
           }
          ],
          "scatterpolar": [
           {
            "marker": {
             "colorbar": {
              "outlinewidth": 0,
              "ticks": ""
             }
            },
            "type": "scatterpolar"
           }
          ],
          "scatterpolargl": [
           {
            "marker": {
             "colorbar": {
              "outlinewidth": 0,
              "ticks": ""
             }
            },
            "type": "scatterpolargl"
           }
          ],
          "scatterternary": [
           {
            "marker": {
             "colorbar": {
              "outlinewidth": 0,
              "ticks": ""
             }
            },
            "type": "scatterternary"
           }
          ],
          "surface": [
           {
            "colorbar": {
             "outlinewidth": 0,
             "ticks": ""
            },
            "colorscale": [
             [
              0,
              "#0d0887"
             ],
             [
              0.1111111111111111,
              "#46039f"
             ],
             [
              0.2222222222222222,
              "#7201a8"
             ],
             [
              0.3333333333333333,
              "#9c179e"
             ],
             [
              0.4444444444444444,
              "#bd3786"
             ],
             [
              0.5555555555555556,
              "#d8576b"
             ],
             [
              0.6666666666666666,
              "#ed7953"
             ],
             [
              0.7777777777777778,
              "#fb9f3a"
             ],
             [
              0.8888888888888888,
              "#fdca26"
             ],
             [
              1,
              "#f0f921"
             ]
            ],
            "type": "surface"
           }
          ],
          "table": [
           {
            "cells": {
             "fill": {
              "color": "#EBF0F8"
             },
             "line": {
              "color": "white"
             }
            },
            "header": {
             "fill": {
              "color": "#C8D4E3"
             },
             "line": {
              "color": "white"
             }
            },
            "type": "table"
           }
          ]
         },
         "layout": {
          "annotationdefaults": {
           "arrowcolor": "#2a3f5f",
           "arrowhead": 0,
           "arrowwidth": 1
          },
          "autotypenumbers": "strict",
          "coloraxis": {
           "colorbar": {
            "outlinewidth": 0,
            "ticks": ""
           }
          },
          "colorscale": {
           "diverging": [
            [
             0,
             "#8e0152"
            ],
            [
             0.1,
             "#c51b7d"
            ],
            [
             0.2,
             "#de77ae"
            ],
            [
             0.3,
             "#f1b6da"
            ],
            [
             0.4,
             "#fde0ef"
            ],
            [
             0.5,
             "#f7f7f7"
            ],
            [
             0.6,
             "#e6f5d0"
            ],
            [
             0.7,
             "#b8e186"
            ],
            [
             0.8,
             "#7fbc41"
            ],
            [
             0.9,
             "#4d9221"
            ],
            [
             1,
             "#276419"
            ]
           ],
           "sequential": [
            [
             0,
             "#0d0887"
            ],
            [
             0.1111111111111111,
             "#46039f"
            ],
            [
             0.2222222222222222,
             "#7201a8"
            ],
            [
             0.3333333333333333,
             "#9c179e"
            ],
            [
             0.4444444444444444,
             "#bd3786"
            ],
            [
             0.5555555555555556,
             "#d8576b"
            ],
            [
             0.6666666666666666,
             "#ed7953"
            ],
            [
             0.7777777777777778,
             "#fb9f3a"
            ],
            [
             0.8888888888888888,
             "#fdca26"
            ],
            [
             1,
             "#f0f921"
            ]
           ],
           "sequentialminus": [
            [
             0,
             "#0d0887"
            ],
            [
             0.1111111111111111,
             "#46039f"
            ],
            [
             0.2222222222222222,
             "#7201a8"
            ],
            [
             0.3333333333333333,
             "#9c179e"
            ],
            [
             0.4444444444444444,
             "#bd3786"
            ],
            [
             0.5555555555555556,
             "#d8576b"
            ],
            [
             0.6666666666666666,
             "#ed7953"
            ],
            [
             0.7777777777777778,
             "#fb9f3a"
            ],
            [
             0.8888888888888888,
             "#fdca26"
            ],
            [
             1,
             "#f0f921"
            ]
           ]
          },
          "colorway": [
           "#636efa",
           "#EF553B",
           "#00cc96",
           "#ab63fa",
           "#FFA15A",
           "#19d3f3",
           "#FF6692",
           "#B6E880",
           "#FF97FF",
           "#FECB52"
          ],
          "font": {
           "color": "#2a3f5f"
          },
          "geo": {
           "bgcolor": "white",
           "lakecolor": "white",
           "landcolor": "#E5ECF6",
           "showlakes": true,
           "showland": true,
           "subunitcolor": "white"
          },
          "hoverlabel": {
           "align": "left"
          },
          "hovermode": "closest",
          "mapbox": {
           "style": "light"
          },
          "paper_bgcolor": "white",
          "plot_bgcolor": "#E5ECF6",
          "polar": {
           "angularaxis": {
            "gridcolor": "white",
            "linecolor": "white",
            "ticks": ""
           },
           "bgcolor": "#E5ECF6",
           "radialaxis": {
            "gridcolor": "white",
            "linecolor": "white",
            "ticks": ""
           }
          },
          "scene": {
           "xaxis": {
            "backgroundcolor": "#E5ECF6",
            "gridcolor": "white",
            "gridwidth": 2,
            "linecolor": "white",
            "showbackground": true,
            "ticks": "",
            "zerolinecolor": "white"
           },
           "yaxis": {
            "backgroundcolor": "#E5ECF6",
            "gridcolor": "white",
            "gridwidth": 2,
            "linecolor": "white",
            "showbackground": true,
            "ticks": "",
            "zerolinecolor": "white"
           },
           "zaxis": {
            "backgroundcolor": "#E5ECF6",
            "gridcolor": "white",
            "gridwidth": 2,
            "linecolor": "white",
            "showbackground": true,
            "ticks": "",
            "zerolinecolor": "white"
           }
          },
          "shapedefaults": {
           "line": {
            "color": "#2a3f5f"
           }
          },
          "ternary": {
           "aaxis": {
            "gridcolor": "white",
            "linecolor": "white",
            "ticks": ""
           },
           "baxis": {
            "gridcolor": "white",
            "linecolor": "white",
            "ticks": ""
           },
           "bgcolor": "#E5ECF6",
           "caxis": {
            "gridcolor": "white",
            "linecolor": "white",
            "ticks": ""
           }
          },
          "title": {
           "x": 0.05
          },
          "xaxis": {
           "automargin": true,
           "gridcolor": "white",
           "linecolor": "white",
           "ticks": "",
           "title": {
            "standoff": 15
           },
           "zerolinecolor": "white",
           "zerolinewidth": 2
          },
          "yaxis": {
           "automargin": true,
           "gridcolor": "white",
           "linecolor": "white",
           "ticks": "",
           "title": {
            "standoff": 15
           },
           "zerolinecolor": "white",
           "zerolinewidth": 2
          }
         }
        },
        "title": {
         "text": "Visualização dos Embeddings por Tipo de Documento"
        },
        "xaxis": {
         "anchor": "y",
         "domain": [
          0,
          1
         ],
         "title": {
          "text": "x"
         }
        },
        "yaxis": {
         "anchor": "x",
         "domain": [
          0,
          1
         ],
         "title": {
          "text": "y"
         }
        }
       }
      }
     },
     "metadata": {},
     "output_type": "display_data"
    }
   ],
   "source": [
    "from sklearn.decomposition import PCA\n",
    "import plotly.express as px\n",
    "import pandas as pd\n",
    "\n",
    "# Gera embeddings e metadados\n",
    "emb_vectors = [embeddings.embed_query(chunk.page_content) for chunk in chunks]\n",
    "texts = [chunk.page_content for chunk in chunks]\n",
    "doc_types = [chunk.metadata.get(\"doc_type\", \"desconhecido\") for chunk in chunks]\n",
    "\n",
    "# Reduz os vetores para 2D\n",
    "pca = PCA(n_components=2)\n",
    "emb_2d = pca.fit_transform(emb_vectors)\n",
    "\n",
    "# Cria DataFrame\n",
    "df = pd.DataFrame({\n",
    "    \"x\": emb_2d[:, 0],\n",
    "    \"y\": emb_2d[:, 1],\n",
    "    \"text\": texts,\n",
    "    \"doc_type\": doc_types\n",
    "})\n",
    "\n",
    "# Plota com Plotly, colorido por tipo de documento\n",
    "fig = px.scatter(\n",
    "    df, x=\"x\", y=\"y\",\n",
    "    color=\"doc_type\",\n",
    "    hover_data=[\"text\"],\n",
    "    title=\"Visualização dos Embeddings por Tipo de Documento\"\n",
    ")\n",
    "fig.show()"
   ]
  },
  {
   "cell_type": "code",
   "execution_count": 72,
   "id": "83652d00",
   "metadata": {},
   "outputs": [
    {
     "data": {
      "application/vnd.plotly.v1+json": {
       "config": {
        "plotlyServerURL": "https://plot.ly"
       },
       "data": [
        {
         "customdata": [
          [
           "Antracnose\n(Colletotrichum truncatum)\n\nAntracnose: sintomas, manejo, tempo de vida\n\nA antracnose é uma doença da soja, causada pelo fungo Colletotrichum truncatum em regiões tropicais do Brasil, incluindo o Cerrado Brasileiro e a região do MaToPiBa. No sul do Brasil, em safras chuvosas também tem se destacado como um grande desafio ao manejo da antracnose. Danos na redução da população de plantas, na produtividade e na qualidade de semente podem ocorrer pelo ataque desse fungo.\n\nO alto impacto que a antracnose apresenta sobre a produtividade é devido à inicialmente pode prejudicar o desenvolvimento inicial de plantas quando ataca cotilédones e posteriormente por afetar diretamente as vagens, podendo causar abortamento total das vagens ou danos parciais ao enchimento dos grãos."
          ],
          [
           "Desenvolvimento da antracnose\nA disseminação da antracnose ocorre a partir de sementes infectadas e restos culturais infectados, sendo auxiliada pelo vento e respingos da chuva. Alta população de plantas ou após o fechamento das linhas, associada ao molhamento foliar prolongado e temperatura entre 18 e 25ºC são condições favoráveis para o estabelecimento da doença.\n\nPlântulas originadas de sementes infectadas podem morrer durante a germinação ou germinar com necrose dos cotilédones que se estende para o hipocótilo e radícula, provocando tombamento.\n\nA esporulação do fungo é observada com temperaturas inferiores a 35ºC. Infecções nos cotilédones, haste e folhas ocorrem predominantemente no estádio vegetativo com o inóculo inicial oriundo da semente ou restos culturais. Com o início da floração há transmissão do inóculo para a flor, impedindo a fecundação e formação dos grãos, ou para o legume, contaminando o grão em formação."
          ],
          [
           "Atraso na colheita ou muita chuva no final do ciclo promovem a contaminação massiva dos grãos. Para que ocorra a doença é necessária a interação do patógeno Colletotrichum truncatum, hospedeiro suscetível e ambiente favorável, gerando o triângulo da doença.\n\n\nCom o início da floração há transmissão do inóculo da folha para a flor\n\nA flor infectada pelo patógeno é impedida de ser fecundada, resultando em abortamento de legumes e originando legumes sem grãos. As folhas e flores infectadas também podem servir de inóculo para os legumes, contaminando os grãos em formação. Através da infecção do patógeno nos legumes, poderá haver abertura desses.\n\nEstratégias de Manejo da antracnose:"
          ],
          [
           "Estratégias de Manejo da antracnose:\n\nRotação de culturas com espécies não-hospedeiras ao patógeno.\nUso de sementes sadias livres do patógeno\nTratamento das sementes com fungicidas eficientes\nAdequação do arranjo populacional de plantas\nNíveis nutricionais adequados são importantes para as defesas da planta\nUso de cultivares menos suscetíveis\nControle químico com o uso de fungicidas\n\nMonitoramento das áreas\n\nDeve-se ter uma atenção especial ao monitoramento da antracnose ainda na fase vegetativa da soja, que é quando iniciam as lesões nas folhas. Muitas vezes, por falta de atenção, os sintomas passam despercebidos, e após o patógeno atingir flores e legumes o controle estará praticamente comprometido. Significativos danos na produtividade e qualidade dos grãos advém dos erros de posicionamento do controle.\n\nO monitoramento deve ser realizado com cautela, pois é uma doença da soja silenciosa, que ocorre no interior do dossel."
          ],
          [
           "O monitoramento deve ser realizado com cautela, pois é uma doença da soja silenciosa, que ocorre no interior do dossel.\n\nO Posicionamento de Fungicidas\nO planejamento do programa fungicida deverá contemplar ação sobre antracnose em áreas de risco e com condições favoráveis de clima. A proteção inicial deverá ocorrer ainda no tratamento de semente, o qual é essencial para reduzir a transmissibilidade do fungo se caso esteja presente na semente e para dar uma proteção ao desenvolvimento inicial das plantas. Após isso, aplicações de fungicidas em parte aérea deverão dar continuidade à essa proteção. Lembrando, que mais importante que utilizar fungicidas eficientes, é o momento em que serão feitas as aplicações."
          ],
          [
           "Para um controle efetivo iniciar cedo as aplicações é fundamental. Em áreas de elevada pressão, região tropical, Tocantins, sob condições favoráveis, pesquisadores têm notado que aplicações entre 15 e 20 dias após a emergência podem ser necessárias. Em áreas de menor pressão poderá ser um pouco mais tarde.\n\nO manejo de fungicida ainda nos estádios vegetativos da soja serão decisivos. Nesses estádios se consegue ainda depositar eficientemente produto no dossel inferior das plantas e se consegue dessa forma reduzir à construção de inóculo sobre a planta.\n\nÉ importante que no início da floração (R1) seja feita uma aplicação. À floração é um momento bastante crítico devido à possível transferência de inóculo das folhas para as flores. Aplicações subsequentes à floração também serão importantes, pois poderá haver transmissão de inóculo diretamente às vagens. O período de início de formação de vagens também é bastante crítico."
          ],
          [
           "Recomenda-se trabalhar com intervalos entre aplicações não superiores a 15 dias e usar produtos eficientes, corretamente selecionados, com adição de reforços para ampliar espectro de controle e reduzir risco de resistência."
          ],
          [
           "Oct 10, 2021\nAgricultura Preditiva\nO uso de inteligencia artificial e a analise preditiva de doenças e pragas no ambiente de cultivo, bem como a predição de eventos climáticos como a geada ajudam os produtores rurais a reduzir significativamente o custo operacional, a aplicação de defensivos e atua com foco na prevenção de doenças."
          ]
         ],
         "hovertemplate": "doc_type=infos<br>x=%{x}<br>y=%{y}<br>z=%{z}<br>text=%{customdata[0]}<extra></extra>",
         "legendgroup": "infos",
         "marker": {
          "color": "#636efa",
          "symbol": "circle"
         },
         "mode": "markers",
         "name": "infos",
         "scene": "scene",
         "showlegend": true,
         "type": "scatter3d",
         "x": {
          "bdata": "CM2rk2x92T/V57cucLfaPxzMZyOjVNg/7vQN9IDi1D9PI9yNb7XHP2acuFntgsQ/7GBIdlPMxb9iH5K/cA21vw==",
          "dtype": "f8"
         },
         "y": {
          "bdata": "t0edhQ9Xor8efFX2+MelP329EW6jNKA/YjUMsnwwoL+d4hosvVd+v9EBrrY1ErY/5wPHgHOUyj9RfAbXNd3Qvw==",
          "dtype": "f8"
         },
         "z": {
          "bdata": "TJ58dNozsD8Ti1Ym3LmkP+c5Goph5LQ/AErEV8k/jb941yIzvcqlv9vTGONeCra/fDLOKBEQ0r+RBFMHyNdLPw==",
          "dtype": "f8"
         }
        },
        {
         "customdata": [
          [
           "A Prediza fornece serviços de :\n\nRuído ambiental\nO ruído excessivo e a poluição sonora geram transtornos diversos para toda a comunidade no entorno de uma empresa. Com o monitoramento de ruído ambiental para cidades, indústrias e empresas que trabalham com geração de energia, entre outros, ajudamos a enfrentar com eficiência este desafio. Isso é feito via coleta e geração de dados que auxiliam nas decisões estratégicas que permitam a supressão dos riscos ligados à produção de ruídos, bem como corrigir problemas e aumentar a eficiência produtiva.\nOnde a plataforma inteligente da Prediza pode fazer! \n\nMonitoramento permanente e contínuo de ruido ambiental, conforme a malha amostral e pontos de ruido.\n\nA partir dos dados monitorados, realizamos a simulação acústica considerando características predominantes do evento.\n\nGeração de mapas de ruído, considerando o comportamento das curvas isofônicas no meio ambiente."
          ],
          [
           "Geração de mapas de ruído, considerando o comportamento das curvas isofônicas no meio ambiente.\n\nRelatórios de campanha de monitoramento de ruído conforme os níveis de critérios estabelecidos pela legislação.\n\nUtilize a modelagem acústica para a adequação de sua malha amostral.\n\nPossibilidade de adicionar fontes sonoras de interesse para otimizar e delimitar o limite de interferência ambiental.\n\nApontamento dos locais de riscos ambientais. \n\nRelatórios detalhados\nFornecemos relatórios em tempo real do monitoramento de ruído. Estes contêm o conjunto de dados estruturados e organizados conforme os parâmetros acústicos desejados de todos os pontos de monitoramento.\n\nRuído ambiental\nAtravés da leitura de variável das máquinas (Machine-to-Machine), por exemplo: aerogeradores ou dados do chão de fábrica (CLP), é possível identificar e prever pontos de stress e manutenção preventiva e influência do equipamento no meio ambiente."
          ],
          [
           "A Prediza fornece serviços de desenvolvedores, onde, podemos criar sua machine learning de acordo com suas necessidades, utilize modelos preditivos e tenha acesso a técnicas de classificação, de árvore de decisão e visão computacional para gerar informações e previsões para seu negócio."
          ],
          [
           "A Prediza fornece serviços de:\nAgricultura Preditiva - Visto que na agricultura, melhores soluções tecnológicas significam melhores resultados. Com a análise preditiva e visão computacional, a Prediza traz informações em tempo real para previsibilidade mais precisa de riscos. Assim eleva a segurança no manejo, a diminuição de custos e o aumento de produtividade. Tudo isso significa mais desempenho para o negócio e mais proteção para o meio ambiente."
          ],
          [
           "Detecção de Doenças - Analisando a suscetibilidade de cada cultivar em cada estádio fenológico. Assim predizemos a ocorrência de doenças como, por exemplo, o míldio e a glomerella na videira, o ódio e a ferrugem asiática na soja e antracnose na mangueira, entre várias outras.\nPor ser um método de antecipação, é possível fazer reais tratamentos preventivos reais, evitando o problema antes de ocorrer.\nAssim, reduzimos a quantidade de aplicações e entradas no campo, bem como gastos financeiros causados pela aplicação excessiva de produtos de tratamentos de calendário, o que leva a um manejo mais seguro e sustentável, com diminuição de custos e aumento de produtividade."
          ],
          [
           "Análise de Microclima, visto que chuvas mal distribuídas, geada, evapotranspiração e estiagem são ameaças sempre crescentes, devido às mudanças climáticas e particularidades específicas de cada região produtora.\nA instabilidade e mudança climática, aliadas a condições extremas, que se apresenta em determinadas regiões, traz a necessidade de contar com projetos da análise preditiva com georreferência na propriedade para a previsão precisa dessas ações no microclima.\n\nAlém do serviços de caderno de campo e rastreabilidade, visto que caderno de campo inteligente com georreferenciamento, relatórios de atividade de manejo, página de rastreabilidade, impressão de etiquetas, QR Code, visualização de atividades atrasadas e pendentes são apenas algumas das funcionalidades do nosso serviço. Tudo isso sem custo adicional e sem custo de licença por usuário."
          ],
          [
           "A Prediza fornece serviços de sensoriamento remoto integrado à plataforma de inteligência artificial.\n\nMuito além de imagens de NDVI, fornecemos um conjunto de índices, oriundos de satélites como Landsat e Sentinel, para acompanhar o uso do solo, a qualidade da vegetação e o ciclo fenológico de cada cultivar.\n\nTenha os principais índices utilizados incorporados à plataforma da Prediza:\n\nÍndice de Vegetação De Borda Vermelha (RECl)\nPermite entender a atividade fotossintética na cobertura do dossel\n\nVegetação Ajustado Ao Solo Modificado (MSAVI)\nÉ utilizado para mitigar os efeitos do solo quando o NDVI não fornece informação confiável.\n\nÍndice De vegetação Da diferença De Verde Normalizado (GNDVI)\nO GNDVI é baseado no NDVI para identificar o teor de nitrogênio da vegetação.\n\nÍndice De Água Por Diferença Normalizada (NDWI)\nSão utilizados para demarcar áreas alagadas, avaliar a turbidez da água e identificar solos com excesso de umidade."
          ],
          [
           "Índice De Água Por Diferença Normalizada (NDWI)\nSão utilizados para demarcar áreas alagadas, avaliar a turbidez da água e identificar solos com excesso de umidade.\n\nÍndice De Vegetação Ajustado Ao Solo (SAVI)\nO SAVI é utilizado em regiões aridas e semiáridas para acompanhar a vegetação.\n\nÍndice De Vegetação Ajustado Ao Solo Otimizado (OSAVI)\nO OSAVI é baeado no SAVI e utilizado para monitorar vegetações de baixa densidade.\n\nÍndice De Vegetação Resistente À Atmosfera (ARVI)\nO ARVI é utilizado para monitorar o índice de vegetação quando a região possuí muita poluição do ar.\n\nOutros índices\nÍndice De Vegetação Melhorado (EVI)\nÍndice De Queima Por Razão Normalizada (NBR)\nÍndice De Pigmento Insensível À Estrutura (SIPI)\nÍndice De Clorofila Verde (GCI)\nÍndice De Neve De Diferença Normalizada (NDSI)"
          ]
         ],
         "hovertemplate": "doc_type=services<br>x=%{x}<br>y=%{y}<br>z=%{z}<br>text=%{customdata[0]}<extra></extra>",
         "legendgroup": "services",
         "marker": {
          "color": "#EF553B",
          "symbol": "circle"
         },
         "mode": "markers",
         "name": "services",
         "scene": "scene",
         "showlegend": true,
         "type": "scatter3d",
         "x": {
          "bdata": "yl4Xh15y0L9vf5V3TivNv+JQvEgl9tG/tlUF2JDAxL/M9BfRJSDCP13fgh0iKsi/EUzOXIZV0r+rkfOZeFfIvw==",
          "dtype": "f8"
         },
         "y": {
          "bdata": "FdU61JU6wD9dNlSE5KDUP8Bku2pMJdK/Z89191fN0r9sXHU1veqgP1fqALKdl0C/wH1ed8bluD+23tNkuE/RPw==",
          "dtype": "f8"
         },
         "z": {
          "bdata": "oy9vV6QNzr8DhFtue+HJv6hYcvpkbqy/Mp0U9c9BrL9ET422HS6/v9ub9jFrCq0/PqXWZkHN2D/xQ3TaRgvaPw==",
          "dtype": "f8"
         }
        },
        {
         "customdata": [
          [
           "Sobre a Prediza\nA Prediza é uma empresa de ciência da computação aplicada na agricultura, energia e meio ambiente. Apoiando nas tomadas de decisões com uso de inteligência baseada em dados do meio ambiente, do solo, da planta, do microclima e do manejo da lavoura para gerar maior rentabilidade e produtividade.\n\nA Prediza desenvolve soluções de inteligência artificial e IoT para a agricultura.\n\nPioneira em inteligência artificial, ciência de dados e internet das coisas para mapear e predizer cenários de riscos que impactam a produção agricola. Simplificamos e otimizamos a tomanda de decisão para o planejamento, gestão e manejo no campo.\n\nAcelerada pela Ventiur Aceleradora, investida pelo Ministério de Ciência, Tecnologia e Inovação pelo programa FINEP Startup e possui o Grupo Piccin e Molinos Ca*uelas como socios investidores.\n\nA Prediza está localizada no parque tecnológico, TECNOUCS, da Universidade de Caxias do Sul no Rio Grande do Sul."
          ]
         ],
         "hovertemplate": "doc_type=company<br>x=%{x}<br>y=%{y}<br>z=%{z}<br>text=%{customdata[0]}<extra></extra>",
         "legendgroup": "company",
         "marker": {
          "color": "#00cc96",
          "symbol": "circle"
         },
         "mode": "markers",
         "name": "company",
         "scene": "scene",
         "showlegend": true,
         "type": "scatter3d",
         "x": {
          "bdata": "8fH4NerzxL8=",
          "dtype": "f8"
         },
         "y": {
          "bdata": "LmixTpVQ078=",
          "dtype": "f8"
         },
         "z": {
          "bdata": "lhuUiYVQrT8=",
          "dtype": "f8"
         }
        }
       ],
       "layout": {
        "legend": {
         "title": {
          "text": "doc_type"
         },
         "tracegroupgap": 0
        },
        "scene": {
         "domain": {
          "x": [
           0,
           1
          ],
          "y": [
           0,
           1
          ]
         },
         "xaxis": {
          "title": {
           "text": "x"
          }
         },
         "yaxis": {
          "title": {
           "text": "y"
          }
         },
         "zaxis": {
          "title": {
           "text": "z"
          }
         }
        },
        "template": {
         "data": {
          "bar": [
           {
            "error_x": {
             "color": "#2a3f5f"
            },
            "error_y": {
             "color": "#2a3f5f"
            },
            "marker": {
             "line": {
              "color": "#E5ECF6",
              "width": 0.5
             },
             "pattern": {
              "fillmode": "overlay",
              "size": 10,
              "solidity": 0.2
             }
            },
            "type": "bar"
           }
          ],
          "barpolar": [
           {
            "marker": {
             "line": {
              "color": "#E5ECF6",
              "width": 0.5
             },
             "pattern": {
              "fillmode": "overlay",
              "size": 10,
              "solidity": 0.2
             }
            },
            "type": "barpolar"
           }
          ],
          "carpet": [
           {
            "aaxis": {
             "endlinecolor": "#2a3f5f",
             "gridcolor": "white",
             "linecolor": "white",
             "minorgridcolor": "white",
             "startlinecolor": "#2a3f5f"
            },
            "baxis": {
             "endlinecolor": "#2a3f5f",
             "gridcolor": "white",
             "linecolor": "white",
             "minorgridcolor": "white",
             "startlinecolor": "#2a3f5f"
            },
            "type": "carpet"
           }
          ],
          "choropleth": [
           {
            "colorbar": {
             "outlinewidth": 0,
             "ticks": ""
            },
            "type": "choropleth"
           }
          ],
          "contour": [
           {
            "colorbar": {
             "outlinewidth": 0,
             "ticks": ""
            },
            "colorscale": [
             [
              0,
              "#0d0887"
             ],
             [
              0.1111111111111111,
              "#46039f"
             ],
             [
              0.2222222222222222,
              "#7201a8"
             ],
             [
              0.3333333333333333,
              "#9c179e"
             ],
             [
              0.4444444444444444,
              "#bd3786"
             ],
             [
              0.5555555555555556,
              "#d8576b"
             ],
             [
              0.6666666666666666,
              "#ed7953"
             ],
             [
              0.7777777777777778,
              "#fb9f3a"
             ],
             [
              0.8888888888888888,
              "#fdca26"
             ],
             [
              1,
              "#f0f921"
             ]
            ],
            "type": "contour"
           }
          ],
          "contourcarpet": [
           {
            "colorbar": {
             "outlinewidth": 0,
             "ticks": ""
            },
            "type": "contourcarpet"
           }
          ],
          "heatmap": [
           {
            "colorbar": {
             "outlinewidth": 0,
             "ticks": ""
            },
            "colorscale": [
             [
              0,
              "#0d0887"
             ],
             [
              0.1111111111111111,
              "#46039f"
             ],
             [
              0.2222222222222222,
              "#7201a8"
             ],
             [
              0.3333333333333333,
              "#9c179e"
             ],
             [
              0.4444444444444444,
              "#bd3786"
             ],
             [
              0.5555555555555556,
              "#d8576b"
             ],
             [
              0.6666666666666666,
              "#ed7953"
             ],
             [
              0.7777777777777778,
              "#fb9f3a"
             ],
             [
              0.8888888888888888,
              "#fdca26"
             ],
             [
              1,
              "#f0f921"
             ]
            ],
            "type": "heatmap"
           }
          ],
          "histogram": [
           {
            "marker": {
             "pattern": {
              "fillmode": "overlay",
              "size": 10,
              "solidity": 0.2
             }
            },
            "type": "histogram"
           }
          ],
          "histogram2d": [
           {
            "colorbar": {
             "outlinewidth": 0,
             "ticks": ""
            },
            "colorscale": [
             [
              0,
              "#0d0887"
             ],
             [
              0.1111111111111111,
              "#46039f"
             ],
             [
              0.2222222222222222,
              "#7201a8"
             ],
             [
              0.3333333333333333,
              "#9c179e"
             ],
             [
              0.4444444444444444,
              "#bd3786"
             ],
             [
              0.5555555555555556,
              "#d8576b"
             ],
             [
              0.6666666666666666,
              "#ed7953"
             ],
             [
              0.7777777777777778,
              "#fb9f3a"
             ],
             [
              0.8888888888888888,
              "#fdca26"
             ],
             [
              1,
              "#f0f921"
             ]
            ],
            "type": "histogram2d"
           }
          ],
          "histogram2dcontour": [
           {
            "colorbar": {
             "outlinewidth": 0,
             "ticks": ""
            },
            "colorscale": [
             [
              0,
              "#0d0887"
             ],
             [
              0.1111111111111111,
              "#46039f"
             ],
             [
              0.2222222222222222,
              "#7201a8"
             ],
             [
              0.3333333333333333,
              "#9c179e"
             ],
             [
              0.4444444444444444,
              "#bd3786"
             ],
             [
              0.5555555555555556,
              "#d8576b"
             ],
             [
              0.6666666666666666,
              "#ed7953"
             ],
             [
              0.7777777777777778,
              "#fb9f3a"
             ],
             [
              0.8888888888888888,
              "#fdca26"
             ],
             [
              1,
              "#f0f921"
             ]
            ],
            "type": "histogram2dcontour"
           }
          ],
          "mesh3d": [
           {
            "colorbar": {
             "outlinewidth": 0,
             "ticks": ""
            },
            "type": "mesh3d"
           }
          ],
          "parcoords": [
           {
            "line": {
             "colorbar": {
              "outlinewidth": 0,
              "ticks": ""
             }
            },
            "type": "parcoords"
           }
          ],
          "pie": [
           {
            "automargin": true,
            "type": "pie"
           }
          ],
          "scatter": [
           {
            "fillpattern": {
             "fillmode": "overlay",
             "size": 10,
             "solidity": 0.2
            },
            "type": "scatter"
           }
          ],
          "scatter3d": [
           {
            "line": {
             "colorbar": {
              "outlinewidth": 0,
              "ticks": ""
             }
            },
            "marker": {
             "colorbar": {
              "outlinewidth": 0,
              "ticks": ""
             }
            },
            "type": "scatter3d"
           }
          ],
          "scattercarpet": [
           {
            "marker": {
             "colorbar": {
              "outlinewidth": 0,
              "ticks": ""
             }
            },
            "type": "scattercarpet"
           }
          ],
          "scattergeo": [
           {
            "marker": {
             "colorbar": {
              "outlinewidth": 0,
              "ticks": ""
             }
            },
            "type": "scattergeo"
           }
          ],
          "scattergl": [
           {
            "marker": {
             "colorbar": {
              "outlinewidth": 0,
              "ticks": ""
             }
            },
            "type": "scattergl"
           }
          ],
          "scattermap": [
           {
            "marker": {
             "colorbar": {
              "outlinewidth": 0,
              "ticks": ""
             }
            },
            "type": "scattermap"
           }
          ],
          "scattermapbox": [
           {
            "marker": {
             "colorbar": {
              "outlinewidth": 0,
              "ticks": ""
             }
            },
            "type": "scattermapbox"
           }
          ],
          "scatterpolar": [
           {
            "marker": {
             "colorbar": {
              "outlinewidth": 0,
              "ticks": ""
             }
            },
            "type": "scatterpolar"
           }
          ],
          "scatterpolargl": [
           {
            "marker": {
             "colorbar": {
              "outlinewidth": 0,
              "ticks": ""
             }
            },
            "type": "scatterpolargl"
           }
          ],
          "scatterternary": [
           {
            "marker": {
             "colorbar": {
              "outlinewidth": 0,
              "ticks": ""
             }
            },
            "type": "scatterternary"
           }
          ],
          "surface": [
           {
            "colorbar": {
             "outlinewidth": 0,
             "ticks": ""
            },
            "colorscale": [
             [
              0,
              "#0d0887"
             ],
             [
              0.1111111111111111,
              "#46039f"
             ],
             [
              0.2222222222222222,
              "#7201a8"
             ],
             [
              0.3333333333333333,
              "#9c179e"
             ],
             [
              0.4444444444444444,
              "#bd3786"
             ],
             [
              0.5555555555555556,
              "#d8576b"
             ],
             [
              0.6666666666666666,
              "#ed7953"
             ],
             [
              0.7777777777777778,
              "#fb9f3a"
             ],
             [
              0.8888888888888888,
              "#fdca26"
             ],
             [
              1,
              "#f0f921"
             ]
            ],
            "type": "surface"
           }
          ],
          "table": [
           {
            "cells": {
             "fill": {
              "color": "#EBF0F8"
             },
             "line": {
              "color": "white"
             }
            },
            "header": {
             "fill": {
              "color": "#C8D4E3"
             },
             "line": {
              "color": "white"
             }
            },
            "type": "table"
           }
          ]
         },
         "layout": {
          "annotationdefaults": {
           "arrowcolor": "#2a3f5f",
           "arrowhead": 0,
           "arrowwidth": 1
          },
          "autotypenumbers": "strict",
          "coloraxis": {
           "colorbar": {
            "outlinewidth": 0,
            "ticks": ""
           }
          },
          "colorscale": {
           "diverging": [
            [
             0,
             "#8e0152"
            ],
            [
             0.1,
             "#c51b7d"
            ],
            [
             0.2,
             "#de77ae"
            ],
            [
             0.3,
             "#f1b6da"
            ],
            [
             0.4,
             "#fde0ef"
            ],
            [
             0.5,
             "#f7f7f7"
            ],
            [
             0.6,
             "#e6f5d0"
            ],
            [
             0.7,
             "#b8e186"
            ],
            [
             0.8,
             "#7fbc41"
            ],
            [
             0.9,
             "#4d9221"
            ],
            [
             1,
             "#276419"
            ]
           ],
           "sequential": [
            [
             0,
             "#0d0887"
            ],
            [
             0.1111111111111111,
             "#46039f"
            ],
            [
             0.2222222222222222,
             "#7201a8"
            ],
            [
             0.3333333333333333,
             "#9c179e"
            ],
            [
             0.4444444444444444,
             "#bd3786"
            ],
            [
             0.5555555555555556,
             "#d8576b"
            ],
            [
             0.6666666666666666,
             "#ed7953"
            ],
            [
             0.7777777777777778,
             "#fb9f3a"
            ],
            [
             0.8888888888888888,
             "#fdca26"
            ],
            [
             1,
             "#f0f921"
            ]
           ],
           "sequentialminus": [
            [
             0,
             "#0d0887"
            ],
            [
             0.1111111111111111,
             "#46039f"
            ],
            [
             0.2222222222222222,
             "#7201a8"
            ],
            [
             0.3333333333333333,
             "#9c179e"
            ],
            [
             0.4444444444444444,
             "#bd3786"
            ],
            [
             0.5555555555555556,
             "#d8576b"
            ],
            [
             0.6666666666666666,
             "#ed7953"
            ],
            [
             0.7777777777777778,
             "#fb9f3a"
            ],
            [
             0.8888888888888888,
             "#fdca26"
            ],
            [
             1,
             "#f0f921"
            ]
           ]
          },
          "colorway": [
           "#636efa",
           "#EF553B",
           "#00cc96",
           "#ab63fa",
           "#FFA15A",
           "#19d3f3",
           "#FF6692",
           "#B6E880",
           "#FF97FF",
           "#FECB52"
          ],
          "font": {
           "color": "#2a3f5f"
          },
          "geo": {
           "bgcolor": "white",
           "lakecolor": "white",
           "landcolor": "#E5ECF6",
           "showlakes": true,
           "showland": true,
           "subunitcolor": "white"
          },
          "hoverlabel": {
           "align": "left"
          },
          "hovermode": "closest",
          "mapbox": {
           "style": "light"
          },
          "paper_bgcolor": "white",
          "plot_bgcolor": "#E5ECF6",
          "polar": {
           "angularaxis": {
            "gridcolor": "white",
            "linecolor": "white",
            "ticks": ""
           },
           "bgcolor": "#E5ECF6",
           "radialaxis": {
            "gridcolor": "white",
            "linecolor": "white",
            "ticks": ""
           }
          },
          "scene": {
           "xaxis": {
            "backgroundcolor": "#E5ECF6",
            "gridcolor": "white",
            "gridwidth": 2,
            "linecolor": "white",
            "showbackground": true,
            "ticks": "",
            "zerolinecolor": "white"
           },
           "yaxis": {
            "backgroundcolor": "#E5ECF6",
            "gridcolor": "white",
            "gridwidth": 2,
            "linecolor": "white",
            "showbackground": true,
            "ticks": "",
            "zerolinecolor": "white"
           },
           "zaxis": {
            "backgroundcolor": "#E5ECF6",
            "gridcolor": "white",
            "gridwidth": 2,
            "linecolor": "white",
            "showbackground": true,
            "ticks": "",
            "zerolinecolor": "white"
           }
          },
          "shapedefaults": {
           "line": {
            "color": "#2a3f5f"
           }
          },
          "ternary": {
           "aaxis": {
            "gridcolor": "white",
            "linecolor": "white",
            "ticks": ""
           },
           "baxis": {
            "gridcolor": "white",
            "linecolor": "white",
            "ticks": ""
           },
           "bgcolor": "#E5ECF6",
           "caxis": {
            "gridcolor": "white",
            "linecolor": "white",
            "ticks": ""
           }
          },
          "title": {
           "x": 0.05
          },
          "xaxis": {
           "automargin": true,
           "gridcolor": "white",
           "linecolor": "white",
           "ticks": "",
           "title": {
            "standoff": 15
           },
           "zerolinecolor": "white",
           "zerolinewidth": 2
          },
          "yaxis": {
           "automargin": true,
           "gridcolor": "white",
           "linecolor": "white",
           "ticks": "",
           "title": {
            "standoff": 15
           },
           "zerolinecolor": "white",
           "zerolinewidth": 2
          }
         }
        },
        "title": {
         "text": "Visualização 3D dos Embeddings por Tipo de Documento"
        }
       }
      }
     },
     "metadata": {},
     "output_type": "display_data"
    }
   ],
   "source": [
    "\n",
    "# Reduz para 3D\n",
    "pca = PCA(n_components=3)\n",
    "emb_3d = pca.fit_transform(emb_vectors)\n",
    "\n",
    "# Cria DataFrame\n",
    "df = pd.DataFrame({\n",
    "    \"x\": emb_3d[:, 0],\n",
    "    \"y\": emb_3d[:, 1],\n",
    "    \"z\": emb_3d[:, 2],\n",
    "    \"text\": texts,\n",
    "    \"doc_type\": doc_types\n",
    "})\n",
    "\n",
    "# Gráfico 3D com Plotly\n",
    "fig = px.scatter_3d(\n",
    "    df, x=\"x\", y=\"y\", z=\"z\",\n",
    "    color=\"doc_type\",\n",
    "    hover_data=[\"text\"],\n",
    "    title=\"Visualização 3D dos Embeddings por Tipo de Documento\"\n",
    ")\n",
    "\n",
    "fig.show()"
   ]
  },
  {
   "cell_type": "code",
   "execution_count": 73,
   "id": "4f0201a4",
   "metadata": {},
   "outputs": [],
   "source": [
    "# create a new Chat with OpenAI\n",
    "llm = ChatOllama(temperature=0.7, model=\"phi4\")\n",
    "# set up the conversation memory for the chat\n",
    "memory = ConversationBufferMemory(memory_key='chat_history', return_messages=True)\n",
    "\n",
    "# the retriever is an abstraction over the VectorStore that will be used during RAG\n",
    "retriever = vector_store.as_retriever()\n",
    "\n",
    "# putting it together: set up the conversation chain with the GPT 3.5 LLM, the vector store and memory\n",
    "conversation_chain = ConversationalRetrievalChain.from_llm(llm=llm, retriever=retriever, memory=memory)\n"
   ]
  },
  {
   "cell_type": "code",
   "execution_count": 74,
   "id": "75ac63a0",
   "metadata": {},
   "outputs": [
    {
     "name": "stdout",
     "output_type": "stream",
     "text": [
      "A Prediza é uma empresa que oferece serviços baseados em análise preditiva e visão computacional para diferentes setores. Nos serviços de Agricultura Preditiva, a Prediza utiliza tecnologia avançada para fornecer informações em tempo real sobre riscos, melhorando a segurança no manejo agrícola, reduzindo custos e aumentando a produtividade. Isso contribui tanto para o desempenho do negócio quanto para a proteção ambiental.\n",
      "\n",
      "Além disso, a Prediza oferece serviços de monitoramento de ruído ambiental, que são essenciais para cidades, indústrias e empresas que trabalham com geração de energia. Com suas soluções, a empresa ajuda na coleta e análise de dados acústicos, auxiliando nas decisões estratégicas para suprimir riscos relacionados à poluição sonora e aumentar a eficiência produtiva. Isso inclui monitoramento contínuo de ruído, simulação acústica e geração de mapas de ruído baseados em curvas isofônicas no ambiente.\n"
     ]
    }
   ],
   "source": [
    "# Let's try a simple question\n",
    "query = \"O que ou quem é Prediza ?\"\n",
    "result = conversation_chain.invoke({\"question\": query})\n",
    "print(result[\"answer\"])"
   ]
  },
  {
   "cell_type": "code",
   "execution_count": 75,
   "id": "492e8fe1",
   "metadata": {},
   "outputs": [],
   "source": [
    "# Wrapping that in a function\n",
    "system_message = \"Você é especialista em responder perguntas precisas sobre a Prediza, uma empresa de ciência da computação aplicada na agricultura, energia e meio ambiente. Seja breve e preciso. Se não souber a resposta, diga. Não invente nada se não tiver recebido contexto relevante.\"\n",
    "\n",
    "def chat(question,system_message=system_message):\n",
    "    messages = [{\"role\": \"system\", \"content\": system_message}]\n",
    "    messages.append({\"role\": \"user\", \"content\": question})\n",
    "    result = conversation_chain.invoke({\"question\": messages})\n",
    "    return result[\"answer\"]"
   ]
  },
  {
   "cell_type": "code",
   "execution_count": 76,
   "id": "34c2aecd",
   "metadata": {},
   "outputs": [
    {
     "name": "stdout",
     "output_type": "stream",
     "text": [
      "* Running on local URL:  http://127.0.0.1:7862\n",
      "* To create a public link, set `share=True` in `launch()`.\n"
     ]
    },
    {
     "data": {
      "text/html": [
       "<div><iframe src=\"http://127.0.0.1:7862/\" width=\"100%\" height=\"500\" allow=\"autoplay; camera; microphone; clipboard-read; clipboard-write;\" frameborder=\"0\" allowfullscreen></iframe></div>"
      ],
      "text/plain": [
       "<IPython.core.display.HTML object>"
      ]
     },
     "metadata": {},
     "output_type": "display_data"
    }
   ],
   "source": [
    "# And in Gradio:\n",
    "view = gr.ChatInterface(chat, type=\"messages\").launch(inbrowser=True)"
   ]
  }
 ],
 "metadata": {
  "kernelspec": {
   "display_name": "env_rag",
   "language": "python",
   "name": "python3"
  },
  "language_info": {
   "codemirror_mode": {
    "name": "ipython",
    "version": 3
   },
   "file_extension": ".py",
   "mimetype": "text/x-python",
   "name": "python",
   "nbconvert_exporter": "python",
   "pygments_lexer": "ipython3",
   "version": "3.13.3"
  }
 },
 "nbformat": 4,
 "nbformat_minor": 5
}
