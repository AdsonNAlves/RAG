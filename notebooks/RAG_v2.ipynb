{
 "cells": [
  {
   "cell_type": "code",
   "execution_count": 11,
   "id": "75dca5a4",
   "metadata": {},
   "outputs": [],
   "source": [
    "! pip install -q -U langchain-ollama  python-dotenv gradio langchain plotly scikit-learn matplotlib langchain-community psycopg2-binary\n",
    "\n",
    "! pip install pymilvus -q"
   ]
  },
  {
   "cell_type": "code",
   "execution_count": 4,
   "id": "07b3989d",
   "metadata": {},
   "outputs": [
    {
     "name": "stderr",
     "output_type": "stream",
     "text": [
      "/Users/adsonalves/Desktop/FIT/Prediza/env_rag/lib/python3.13/site-packages/tqdm/auto.py:21: TqdmWarning: IProgress not found. Please update jupyter and ipywidgets. See https://ipywidgets.readthedocs.io/en/stable/user_install.html\n",
      "  from .autonotebook import tqdm as notebook_tqdm\n"
     ]
    }
   ],
   "source": [
    "# imports\n",
    "import os\n",
    "import glob\n",
    "from dotenv import load_dotenv\n",
    "import gradio as gr"
   ]
  },
  {
   "cell_type": "code",
   "execution_count": 5,
   "id": "a278322d",
   "metadata": {},
   "outputs": [],
   "source": [
    "# imports for langchain, plotly and Chroma\n",
    "from langchain.vectorstores import Milvus\n",
    "from langchain.document_loaders import DirectoryLoader, TextLoader\n",
    "from langchain.text_splitter import CharacterTextSplitter\n",
    "from langchain.schema import Document\n",
    "# from langchain_openai import OpenAIEmbeddings, ChatOpenAI\n",
    "# from langchain_chroma import Chroma\n",
    "import matplotlib.pyplot as plt\n",
    "from sklearn.manifold import TSNE\n",
    "import numpy as np\n",
    "import plotly.graph_objects as go\n",
    "from langchain.memory import ConversationBufferMemory\n",
    "from langchain.chains import ConversationalRetrievalChain\n",
    "from langchain.embeddings import HuggingFaceEmbeddings\n",
    "from langchain_text_splitters import RecursiveCharacterTextSplitter\n",
    "from langchain_ollama import OllamaEmbeddings, ChatOllama\n",
    "## banco postgresql\n",
    "import psycopg2\n",
    "from langchain.docstore.document import Document"
   ]
  },
  {
   "cell_type": "code",
   "execution_count": 2,
   "id": "e785b62e",
   "metadata": {},
   "outputs": [
    {
     "name": "stdout",
     "output_type": "stream",
     "text": [
      "Conectado: True\n"
     ]
    }
   ],
   "source": [
    "from pymilvus import connections\n",
    "\n",
    "# Conecte-se ao Milvus na porta 19530\n",
    "connections.connect(alias=\"default\", host=\"localhost\", port=\"19530\")\n",
    "\n",
    "status = connections.has_connection(\"default\")\n",
    "print(\"Conectado:\", status)\n"
   ]
  },
  {
   "cell_type": "code",
   "execution_count": 6,
   "id": "df005413",
   "metadata": {},
   "outputs": [],
   "source": [
    "\n",
    "MODEL = \"nomic-embed-text\""
   ]
  },
  {
   "cell_type": "code",
   "execution_count": 7,
   "id": "9c133cb5",
   "metadata": {},
   "outputs": [
    {
     "name": "stdout",
     "output_type": "stream",
     "text": [
      "Total de documentos carregados de Postgresql 13 tabelas: 59\n",
      "Total number of chunks: 91\n",
      "Document types found: {'features', 'ndwi_insights', 'savi_interpretation', 'recl_interpretation', 'savi_insights', 'ndvi_interpretation', 'osavi_interpretation', 'osavi_insights', 'recl_insights', 'company', 'osavi_fenologico', 'gndvi_insights', 'ndwi_interpretation', 'gndvi_interpretation'}\n"
     ]
    }
   ],
   "source": [
    "folders = glob.glob(\"../knowledge_base/*\")\n",
    "\n",
    "# Dados diretorio knowledge_base\n",
    "def add_metadata(doc, doc_type):\n",
    "    doc.metadata[\"doc_type\"] = doc_type\n",
    "    return doc\n",
    "\n",
    "text_loader_kwargs = {'encoding': 'utf-8'}\n",
    "\n",
    "documents = []\n",
    "\n",
    "for folder in folders:\n",
    "    doc_type = os.path.basename(folder)\n",
    "    loader = DirectoryLoader(folder, glob=\"**/*.md\", loader_cls=TextLoader, loader_kwargs=text_loader_kwargs)\n",
    "    folder_docs = loader.load()\n",
    "    documents.extend([add_metadata(doc, doc_type) for doc in folder_docs])\n",
    "\n",
    "# Dados de conexão com o PostgreSQL\n",
    "conn = psycopg2.connect(\n",
    "    host=\"localhost\",\n",
    "    port=\"5433\",\n",
    "    database=\"app_db\",\n",
    "    user=\"admin\",\n",
    "    password=\"admin\"\n",
    ")\n",
    "\n",
    "cursor = conn.cursor()\n",
    "\n",
    "# Obter todas as tabelas do schema 'public'\n",
    "cursor.execute(\"\"\"\n",
    "    SELECT tablename\n",
    "    FROM pg_tables\n",
    "    WHERE schemaname = 'public'\n",
    "\"\"\")\n",
    "tables = [row[0] for row in cursor.fetchall()]\n",
    "\n",
    "documents_pg = []\n",
    "\n",
    "# Função auxiliar para formatar cada linha como texto\n",
    "def row_to_content(column_names, row):\n",
    "    return \"\\n\".join(f\"{col}: {val}\" for col, val in zip(column_names, row))\n",
    "\n",
    "# Para cada tabela, buscar os dados e criar Documentos\n",
    "for table in tables:\n",
    "    cursor.execute(f\"SELECT * FROM {table}\")\n",
    "    rows = cursor.fetchall()\n",
    "    colnames = [desc[0] for desc in cursor.description]\n",
    "\n",
    "    for row in rows:\n",
    "        content = row_to_content(colnames, row)\n",
    "        doc = Document(\n",
    "            page_content=content,\n",
    "            metadata={\"source\": \"postgresql\", \"doc_type\": table}\n",
    "        )\n",
    "        documents_pg.append(doc)\n",
    "\n",
    "cursor.close()\n",
    "conn.close()\n",
    "\n",
    "all_documents = documents + documents_pg\n",
    "\n",
    "# text_splitter = CharacterTextSplitter(chunk_size=1000, chunk_overlap=200)\n",
    "text_splitter = RecursiveCharacterTextSplitter(chunk_size=800, chunk_overlap=200, separators=[\"\\n\\n\",\"\\n\",\".\",\" \", \"\"])\n",
    "chunks = text_splitter.split_documents(all_documents)\n",
    "\n",
    "print(f\"Total de documentos carregados de Postgresql {len(tables)} tabelas: {len(documents_pg)}\")\n",
    "print(f\"Total number of chunks: {len(chunks)}\")\n",
    "print(f\"Document types found: {set(doc.metadata['doc_type'] for doc in all_documents)}\")"
   ]
  },
  {
   "cell_type": "code",
   "execution_count": 13,
   "id": "42cf1917",
   "metadata": {},
   "outputs": [],
   "source": [
    "embeddings = OllamaEmbeddings(model=MODEL)"
   ]
  },
  {
   "cell_type": "code",
   "execution_count": 9,
   "id": "54990563",
   "metadata": {},
   "outputs": [],
   "source": [
    "vector_store = Milvus.from_documents(\n",
    "    chunks,\n",
    "    embedding=embeddings,\n",
    "    connection_args={\"host\": \"localhost\", \"port\": \"19530\"},\n",
    "    collection_name=\"knowledge_base_prediza\"\n",
    ")"
   ]
  },
  {
   "cell_type": "code",
   "execution_count": 13,
   "id": "0cfa6788",
   "metadata": {},
   "outputs": [
    {
     "name": "stdout",
     "output_type": "stream",
     "text": [
      "Coleções no Milvus:\n",
      "- prediza_chunks\n"
     ]
    }
   ],
   "source": [
    "from pymilvus import connections, utility\n",
    "\n",
    "collections = utility.list_collections()\n",
    "print(\"Coleções no Milvus:\")\n",
    "for collection in collections:\n",
    "    print(\"-\", collection)"
   ]
  },
  {
   "cell_type": "code",
   "execution_count": 15,
   "id": "f1a7903f",
   "metadata": {},
   "outputs": [
    {
     "name": "stdout",
     "output_type": "stream",
     "text": [
      "A coleção 'prediza_chunks' tem 91 documentos.\n"
     ]
    }
   ],
   "source": [
    "from pymilvus import Collection\n",
    "#collection_name = \"knowledge_base_prediza\"\n",
    "\n",
    "collection_name = \"prediza_chunks\"\n",
    "collection = Collection(name=collection_name)\n",
    "\n",
    "num_documents = collection.num_entities\n",
    "print(f\"A coleção '{collection_name}' tem {num_documents} documentos.\")\n"
   ]
  },
  {
   "cell_type": "code",
   "execution_count": 31,
   "id": "c4a88021",
   "metadata": {},
   "outputs": [
    {
     "data": {
      "application/vnd.plotly.v1+json": {
       "config": {
        "plotlyServerURL": "https://plot.ly"
       },
       "data": [
        {
         "customdata": [
          [
           "# Imagens\n\n\n\n## NDVI\n\nNDVI (Normalized Difference Vegetation Index) é um índice de vegetação utilizado para medir a vitalidade e o estado de saúde das plantas por meio de dados de sensoriamento remoto.\nEle é calculado com base na diferença entre a refletância da luz no infravermelho próximo (NIR) e na faixa do vermelho (Red).\n\nFórmula: (NIR - Red) / (NIR + Red)\n\n### Cores típicas nos softwares para NDVI\n\n* Vermelho/Marrom: Valores baixos — solo exposto, água, áreas sem vegetação.\n\n* Amarelo/Laranja: Vegetação fraca ou estressada — áreas com pouco vigor.\n\n* Verde claro a verde escuro: Vegetação saudável — níveis crescentes de vigor e clorofila.\n\n* Verde muito escuro ou quase preto (menos comum): Vegetação muito densa ou saturação do sensor."
          ],
          [
           "* Verde claro a verde escuro: Vegetação saudável — níveis crescentes de vigor e clorofila.\n\n* Verde muito escuro ou quase preto (menos comum): Vegetação muito densa ou saturação do sensor.\n\nPara interpretar uma imagem NDVI, o primeiro passo é verificar a uniformidade da coloração em toda a área analisada. Uma lavoura saudável e bem conduzida tende a apresentar pouca variação nas tonalidades entre talhões ou faixas, geralmente predominando tons de verde claro a escuro, que indicam vigor vegetativo adequado."
          ],
          [
           "Por outro lado, variações abruptas de cor dentro da área cultivada — principalmente a presença de manchas em tons amarelos, laranjas ou vermelhos — podem indicar anomalias no desenvolvimento da vegetação, comumente chamadas de reboleiras. Essas reboleiras costumam ter formatos circulares, ovais ou irregulares e refletem áreas com estresse localizado, podendo ser causadas por:\n\n*   falhas de plantio\n*   compactação do solo,\n*   deficiência nutricional,\n*   pragas ou doenças,\n*   encharcamento ou deficiência hídrica.\n\nA identificação dessas áreas é essencial para direcionar vistorias em campo e realizar ações de manejo localizado, reduzindo perdas e otimizando recursos."
          ],
          [
           "A identificação dessas áreas é essencial para direcionar vistorias em campo e realizar ações de manejo localizado, reduzindo perdas e otimizando recursos.\n\nAlém da interpretação pontual de uma imagem, é recomendável realizar análises temporais, comparando imagens NDVI ao longo do ciclo da cultura ou entre diferentes safras. Esse acompanhamento permite:\n\n*  Monitorar a evolução do desenvolvimento vegetativo,\n\n*  Identificar atrasos ou falhas em determinados estádios fenológicos,\n\n*  Avaliar o impacto de eventos climáticos extremos (como seca, geada ou excesso de chuvas),\n\n*  Comparar o desempenho entre áreas ou safras diferentes,\n\n*  Antecipar a tomada de decisões, como adubação em cobertura, controle de pragas ou planejamento de colheita."
          ],
          [
           "*  Comparar o desempenho entre áreas ou safras diferentes,\n\n*  Antecipar a tomada de decisões, como adubação em cobertura, controle de pragas ou planejamento de colheita.\n\n*  A análise temporal também ajuda a distinguir reboleiras sazonais (ocasionais) de áreas crônicas com problemas recorrentes, permitindo ações corretivas estruturais mais eficazes.\n\nA forma da curva NDVI pode variar conforme o tipo de cultura, mas geralmente segue um padrão:\n\n### Curva padrão para culturas anuais (ex: soja, milho, trigo):\n\n* Plantio / emergência (NDVI ~ 0.2 a 0.3): valores baixos, indicando solo exposto ou vegetação inicial.\n\n* Desenvolvimento vegetativo (NDVI ~ 0.4 a 0.7): crescimento rápido da biomassa.\n\n* Florescimento / pendoamento (NDVI ~ 0.7 a 0.8): pico de vigor vegetativo."
          ],
          [
           "* Desenvolvimento vegetativo (NDVI ~ 0.4 a 0.7): crescimento rápido da biomassa.\n\n* Florescimento / pendoamento (NDVI ~ 0.7 a 0.8): pico de vigor vegetativo.\n\n* Enchimento de grãos (NDVI ~ 0.6 a 0.7): início da senescência.\n\n* Maturação / pré-colheita (NDVI < 0.4): queda acentuada devido à perda de clorofila.\n\n* Curva para culturas perenes (ex: cana-de-açúcar, café, frutíferas):\nApresenta flutuações sazonais, mas mantém valores relativamente altos (> 0.5) por mais tempo.\n\n### Remondações NDVI\n\nSe Queda após pico significa Fim de ciclo ou estresse e a recomendação é  Confirmar estágio fenológico ou investigar problemas sanitários.\n\n## GNVDI"
          ],
          [
           "### Remondações NDVI\n\nSe Queda após pico significa Fim de ciclo ou estresse e a recomendação é  Confirmar estágio fenológico ou investigar problemas sanitários.\n\n## GNVDI  \n\nO GNDVI (Green Normalized Difference Vegetation Index) é um índice de vegetação derivado de dados de sensoriamento remoto, utilizado para avaliar a atividade fotossintética, a concentração de clorofila e o estado nutricional das plantas, com maior sensibilidade ao nitrogênio. Ele é especialmente útil para detectar estresses fisiológicos e nutricionais precoces, antes que se tornem visíveis a olho nu.\n\nEle é calculado com base na diferença entre a refletância da luz no infravermelho próximo (NIR) e na faixa do verde (Green).\n\nFórmula: (NIR - Green) / (NIR + Green)"
          ],
          [
           "Ele é calculado com base na diferença entre a refletância da luz no infravermelho próximo (NIR) e na faixa do verde (Green).\n\nFórmula: (NIR - Green) / (NIR + Green)\n\nO GNDVI é um índice de vegetação semelhante ao NDVI (Normalized Difference Vegetation Index), mas usa a banda do verde em vez da banda do vermelho. O GNDVI é mais sensível a variações na clorofila e ao estresse hídrico ou nutricional precoce, o que o torna vantajoso para monitoramento agrícola de precisão, como em culturas que respondem fortemente a variações de nitrogênio.\n\n### Cores típicas nos softwares para GNDVI\n\n* Vermelho/Marrom: Valores baixos — solo exposto, água, áreas sem vegetação.\n\n* Amarelo/Laranja: Vegetação fraca ou estressada — áreas com pouco vigor."
          ],
          [
           "### Cores típicas nos softwares para GNDVI\n\n* Vermelho/Marrom: Valores baixos — solo exposto, água, áreas sem vegetação.\n\n* Amarelo/Laranja: Vegetação fraca ou estressada — áreas com pouco vigor.\n\n* Verde claro a verde escuro: Vegetação saudável — níveis crescentes de vigor e clorofila.\n\n* Verde muito escuro ou quase preto (menos comum): Vegetação muito densa ou saturação do sensor.\n\nAo analisar uma imagem GNDVI, o foco está em avaliar a uniformidade da atividade fotossintética da vegetação e a distribuição da clorofila nas plantas. Um cultivo saudável, com nutrição balanceada, tende a exibir valores elevados e homogêneos de GNDVI, geralmente em tons de verde médio a escuro."
          ],
          [
           "Variações abruptas, especialmente manchas em tons amarelados, alaranjados ou avermelhados, são indicativas de reboleiras com estresse nutricional (especialmente deficiência de nitrogênio), estresse hídrico, ou interferências como doenças, compactação ou falhas no manejo.\n\n\nO GNDVI pode ser analisado ao longo do tempo para identificar mudanças no padrão de vigor e clorofila da lavoura, acompanhando o ciclo fenológico e a resposta ao manejo.\n\nCurva Padrão para Culturas Anuais (ex: milho, soja, trigo):\n\n* Plantio / emergência (GNDVI ~ 0.2 a 0.3): valores baixos, indicam vegetação inicial.\n\n* Desenvolvimento vegetativo (GNDVI ~ 0.4 a 0.6): crescimento ativo da biomassa e da clorofila.\n\n* Pico vegetativo (GNDVI > 0.6): estágio ideal de nutrição e fotossíntese."
          ],
          [
           "* Desenvolvimento vegetativo (GNDVI ~ 0.4 a 0.6): crescimento ativo da biomassa e da clorofila.\n\n* Pico vegetativo (GNDVI > 0.6): estágio ideal de nutrição e fotossíntese.\n\n* Senescência / maturação (GNDVI < 0.4): redução do vigor e teor de clorofila.\n\n* Curva para Culturas Perenes (ex: cana, café):\nOscilações sazonais menores, mantendo valores acima de 0.5 por longos períodos.\n\n* Quedas pontuais podem indicar estresses ou momentos de poda.\n\n\n\n## OSAVI\n\nO OSAVI (Optimized Soil Adjusted Vegetation Index) é um índice de vegetação projetado para melhorar a detecção da vegetação em áreas com presença significativa de solo exposto. Ele ajusta o impacto do brilho do solo ao adicionar um fator de correção (L) na fórmula do NDVI tradicional.\n\nFórmula: (NIR - Red) / (NIR + Red + 0,16)"
          ],
          [
           "Fórmula: (NIR - Red) / (NIR + Red + 0,16)\n\nNIR (Near Infrared): Refletância no infravermelho próximo\n\nRed: Refletância no vermelho\n\n0.16 é um fator de correção que minimiza os efeitos da reflectância do solo.\n\nO indice OSAVI reduz significativamente os efeitos do solo na interpretação dos índices de vegetação, especialmente útil em:\n\n* Estágios iniciais de crescimento\n\n* ulturas de porte baixo ou espaçadas\n\n* Áreas com reboleiras ou falhas de plantio\n\n* Ambientes semiáridos ou com baixa cobertura vegetal"
          ],
          [
           "Na análise de uma imagem OSAVI, busca-se observar a distribuição da biomassa verde com menor influência do solo do que no SAVI tradicional.\nCulturas bem estabelecidas e homogêneas tendem a apresentar tons verdes uniformes e altos valores de OSAVI.\nManchas em tons alaranjados, amarelos ou vermelhos podem indicar áreas de reboleiras, estresse hídrico leve, solos descobertos, ou baixa cobertura vegetal. A sensibilidade do OSAVI permite detectar variações mesmo em estágios médios do ciclo da cultura.\nA análise temporal do OSAVI (Optimized Soil-Adjusted Vegetation Index) é extremamente útil para acompanhar a dinâmica da vegetação ao longo do ciclo da cultura, com uma vantagem extra: ele oferece maior precisão nos estádios iniciais, onde o solo ainda é parcialmente visível.\n\n## RECL"
          ],
          [
           "## RECL\n\nO RECL (Red-Edge Chlorophyll Index) é um índice espectral sensível à concentração de clorofila nas folhas das plantas. Ele utiliza a banda do red-edge (transição entre o vermelho e o infravermelho próximo) para detectar mudanças sutis no teor de clorofila antes que os sintomas visuais sejam perceptíveis.\n\n* É altamente útil para identificar estresse fisiológico precoce nas plantas.\n\n* Detectar estresses iniciais por falta de água, doenças, pragas ou deficiência de nutrientes.\n\n* Apoiar o manejo da adubação nitrogenada, ajustando doses com base na necessidade real da cultura.\n\n* Delimitar zonas de manejo, otimizando o uso de insumos com base na variabilidade do campo."
          ],
          [
           "* Apoiar o manejo da adubação nitrogenada, ajustando doses com base na necessidade real da cultura.\n\n* Delimitar zonas de manejo, otimizando o uso de insumos com base na variabilidade do campo.\n\n* Acompanhar o desenvolvimento da lavoura ao longo do ciclo, auxiliando decisões como irrigação, cobertura ou colheita.\n\n* Avaliar a resposta a práticas de manejo, confirmando se houve melhora no vigor após intervenções.\n\nFórmula: (Re - Red) / (Re + Red)\n\nRE (Red-Edge): Banda espectral entre 705 nm e 740 nm\n\nRed: Banda do vermelho (~660 nm)\n\nAo analisar uma imagem RECL, o objetivo é identificar o teor relativo de clorofila nas plantas, o que reflete diretamente seu estado nutricional — especialmente em relação ao nitrogênio.\n\n\n### Análise Temporal dos valores"
          ],
          [
           "| **Tendência no Tempo**              | **Interpretação Agronômica**                                                                                                                |\n| ----------------------------------- | ------------------------------------------------------------------------------------------------------------------------------------------- |\n| **Aumento gradual dos valores**     | Crescimento saudável da vegetação, aumento progressivo do teor de clorofila e vigor. Indica bom desenvolvimento e boa resposta nutricional. |\n| **Estabilidade em valores altos**   | Cultura com boa saúde, vegetação vigorosa e manejo adequado.                                                                                |"
          ],
          [
           "| **Estabilidade em valores altos**   | Cultura com boa saúde, vegetação vigorosa e manejo adequado.                                                                                |\n| **Queda gradual dos valores**       | Processo natural de senescência ou início de estresse nutricional, hídrico ou fitossanitário. Necessita investigação para manejo.           |\n| **Queda brusca em curto período**   | Estresse agudo devido a eventos climáticos extremos (seca, geada), ataque de pragas ou doenças, ou deficiência nutricional severa.          |\n| **Oscilações frequentes**           | Variabilidade ambiental, manejo irregular ou problemas pontuais na área. Pode indicar necessidade de ações localizadas.                     |"
          ],
          [
           "| **Oscilações frequentes**           | Variabilidade ambiental, manejo irregular ou problemas pontuais na área. Pode indicar necessidade de ações localizadas.                     |\n| **Valores persistentemente baixos** | Áreas crônicas com deficiência nutricional ou problemas estruturais no solo. Indica necessidade de intervenção técnica profunda.            |"
          ],
          [
           "## NDWI\n\nO NDWI (Normalized Difference Water Index) é um índice utilizado para detectar a presença e o conteúdo de água na vegetação e no solo. Ele é calculado a partir das bandas do infravermelho próximo (NIR) e do infravermelho de ondas curtas (SWIR) ou do verde, dependendo da versão. O NDWI é muito útil para monitorar o estresse hídrico das plantas, identificar áreas de alagamento e avaliar a umidade do solo, sendo uma ferramenta importante para gestão agrícola e ambiental.\n\n\nExistem duas versões comuns do NDWI, dependendo das bandas usadas:\n\nVersão baseada em NIR e SWIR (mais usada para umidade do solo e vegetação):\n\nFórmula: (NIR - SWIR) / (NIR - SWIR)\n\nVersão baseada em Verde e NIR (usada para detectar água superficial):\nFórmula: (Green - NIR) / (Green + NIR)"
          ],
          [
           "Fórmula: (NIR - SWIR) / (NIR - SWIR)\n\nVersão baseada em Verde e NIR (usada para detectar água superficial):\nFórmula: (Green - NIR) / (Green + NIR)\n\n\nImagens NDWI destacam a umidade na vegetação e no solo. Tons esverdeados e azulados refletem boa disponibilidade de água na planta, enquanto áreas com tons amarelos, laranja ou vermelhos indicam déficit hídrico.\nManchas com baixa intensidade (amareladas a vermelhas) podem sinalizar reboleiras sob estresse hídrico, falhas de irrigação, solos compactados ou deficiência de captação de água.\nO NDWI é crucial para o monitoramento da irrigação e para prever áreas com risco de estresse hídrico, especialmente em períodos críticos do ciclo da cultura.\n\nAnálise temporal do NDWI"
          ],
          [
           "| **Tendência no tempo**            | **Interpretação agronômica**                                                  |\n| --------------------------------- | ----------------------------------------------------------------------------- |\n| **Aumento gradual dos valores**   | Melhora na umidade do solo ou recuperação da vegetação após seca              |\n| **Estabilidade em valores altos** | Condição hídrica adequada e estável para a cultura                            |\n| **Queda gradual dos valores**     | Secamento progressivo do solo, possível estresse hídrico                      |\n| **Queda brusca em curto período** | Evento severo de seca, queimadas ou danos ambientais repentinos               |"
          ],
          [
           "| **Queda brusca em curto período** | Evento severo de seca, queimadas ou danos ambientais repentinos               |\n| **Oscilações frequentes**         | Variabilidade climática, irrigação irregular ou áreas com drenagem deficiente |"
          ],
          [
           "## SAVI\n\n O SAVI (Soil Adjusted Vegetation Index) é um índice de vegetação desenvolvido para minimizar o efeito do solo exposto na estimativa da vegetação, especialmente em áreas com pouca cobertura vegetal. Ele ajusta o índice tradicional NDVI para compensar a influência do solo, tornando-se útil em regiões áridas ou com baixa densidade de plantas.\n\nFórmula: (NIR - Red) x (1 + L)  / (NIR + Red + L)"
          ],
          [
           "Fórmula: (NIR - Red) x (1 + L)  / (NIR + Red + L)\n\n\nAo analisar uma imagem SAVI, o foco está em distinguir áreas com vegetação daquelas com presença significativa de solo exposto. Esse índice é especialmente útil em estágios iniciais do cultivo ou em solos com baixa cobertura vegetal.\nValores elevados e homogêneos de SAVI, com tons de verde, indicam uma vegetação saudável e com boa cobertura.\nTons amarelados, marrons ou avermelhados apontam áreas com interferência do solo, falhas de plantio, vegetação esparsa ou desenvolvimento desuniforme — especialmente em solos mal preparados ou com erosão superficial."
          ],
          [
           "A análise temporal do SAVI permite acompanhar a evolução da vegetação ao longo do ciclo da cultura ou entre diferentes períodos, ajudando a entender o desenvolvimento e a saúde das plantas.\n\nCom essa análise, é possível observar:\n\n* Crescimento progressivo: Um aumento gradual dos valores do SAVI indica que a vegetação está se desenvolvendo bem, com aumento da biomassa e vigor.\n\n* Manutenção da saúde: Valores estáveis e elevados mostram que a cultura está saudável e bem manejada, com boa cobertura vegetal.\n\n* Detecção de estresse: Quedas nos valores, seja gradual ou brusca, podem indicar estresse hídrico, nutricional, ataque de pragas ou doenças, ou mesmo o início da senescência natural da planta."
          ],
          [
           "* Detecção de estresse: Quedas nos valores, seja gradual ou brusca, podem indicar estresse hídrico, nutricional, ataque de pragas ou doenças, ou mesmo o início da senescência natural da planta.\n\n* Variações ambientais: Oscilações nos valores do SAVI refletem mudanças nas condições ambientais, como variações na irrigação, chuvas, ou práticas agrícolas que afetam a vegetação.\n\n* Identificação de áreas problemáticas: Quando a análise é feita espacialmente, áreas com quedas persistentes podem indicar zonas com problemas crônicos, que precisam de intervenção específica."
          ],
          [
           "| **Tendência no Tempo**            | **Interpretação Agronômica**                                            |\n| --------------------------------- | ----------------------------------------------------------------------- |\n| **Aumento gradual dos valores**   | Crescimento e desenvolvimento saudável da vegetação, melhoria no vigor. |\n| **Estabilidade em valores altos** | Vegetação vigorosa, manutenção da saúde e cobertura adequada.           |\n| **Queda gradual dos valores**     | Início de estresse hídrico, nutricional ou fenológico (senescência).    |\n| **Queda brusca em curto período** | Estresse severo, como seca, pragas ou doenças, requer atenção imediata. |\n| **Oscilações frequentes**         | Variações ambientais ou manejo irregular, necessidade de monitoramento. |"
          ]
         ],
         "hovertemplate": "doc_type=features<br>x=%{x}<br>y=%{y}<br>text=%{customdata[0]}<extra></extra>",
         "legendgroup": "features",
         "marker": {
          "color": "#636efa",
          "symbol": "circle"
         },
         "mode": "markers",
         "name": "features",
         "orientation": "v",
         "showlegend": true,
         "type": "scatter",
         "x": {
          "bdata": "hMgJreJz0r+1yx8udL/Ev7QScJMLcM6/PA2jHPOHyb8n26kqNYzTv/GTk7AiPcq/fqvcCSPg0L/Xo/cHVtfWv/mx4A6jwdC/XGakyl/Nz7/8EO4s9VrSv8U++OAO0s2/VHsHzVzzzr/PYhKQPPzCv3NNuaU+c8y/WuK8GHQ7ub/+RqKqPZnIv4PW9ccXdMO/Uppugt/mzb9PfnaS13bQv3DZeMqcusC/4UDnkNQEyL/35YJVdlTRv+Uh8ofvTdG/f9/cXwljz79u2h21qzfNv7Rt34goDMC/",
          "dtype": "f8"
         },
         "xaxis": "x",
         "y": {
          "bdata": "O6Yt/EAb0r/GSs42hWG5v4GAHA+X5cc/MYM2DR/Ssj8R88qMx6u2P6wOg4VNHbC/Ro+p9jBSzL97LyIRdPXPvwk7UGhA77G/3mLtBEcPoT9iP2g1gp3Dv9CnQAAWGdO/Fl8TkHv3sD+D0Hb8emPCv1SbZdqO7MC/SEcmsUg10T/+9NRv6CLRPzOpOv+wdsg/7FZoX+96yr8UfKEbZibMv2vOy10T+9Q/roSNOxKZzz99mfrcsBrHv666OXBiNsa/T6OJnF9qxj/msWCBYZnKP2gBkqPo2NQ/",
          "dtype": "f8"
         },
         "yaxis": "y"
        },
        {
         "customdata": [
          [
           "# Sobre a Prediza\n* A Prediza é uma empresa de ciência da computação aplicada na agricultura, energia e meio ambiente. Apoiando nas tomadas de decisões com uso de inteligência baseada em dados do meio ambiente, do solo, da planta, do microclima e do manejo da lavoura para gerar maior rentabilidade e produtividade.\n\n## Serviços"
          ],
          [
           "## Serviços\n\n### Agricultura Preditiva\n* A Prediza desenvolve soluções de inteligência artificial e IoT para a agricultura.\n* Agricultura Preditiva - Trazendo melhores informações em tempo real para previsibilidade mais precisa de riscos.\n* Detecção de Doenças - Predizendo ocorrência de doenças como o míldio e a glomerella na videira, o ódio e a ferrugem asiática na soja e antracnose na mangueira, entre várias outras.\n* Análise de Microclima - A previsão precisa dessas ações no microclima.\n* Caderno de campo e rastreabilidade - Relatórios de atividade de manejo, página de rastreabilidade, impressão de etiquetas, QR Code, visualização de atividades.\n\n### Desenvolvimento\n* Criação de aplicações de machine learning para gerar informações e previsões precisas para seu negócio."
          ],
          [
           "### Desenvolvimento\n* Criação de aplicações de machine learning para gerar informações e previsões precisas para seu negócio.\n\n### Energia e Meio Ambiente\n* Ruído ambiental - Coleta e geração de dados que auxiliam nas decisões estratégicas que permitam a supressão dos riscos ligados à produção de ruídos através de monitoramento permanente e contínuo de ruido ambiental, geração de mapas de ruído,\n* Apontamento dos locais de riscos ambientais - Relatórios em tempo real do monitoramento de ruído.\n\n### Satelite\n\n* Muito além de imagens de NDVI, fornecemos um conjunto de índices, oriundos de satélites como Landsat e Sentinel, para acompanhar o uso do solo, a qualidade da vegetação e o ciclo fenológico de cada cultivar."
          ],
          [
           "* Tenha os principais índices, como: Índice de Vegetação De Borda Vermelha (RECl), Vegetação Ajustado Ao Solo Modificado (MSAVI), Índice De vegetação Da diferença De Verde Normalizado (GNDVI), Índice De Água Por Diferença Normalizada (NDWI), Índice De Vegetação Ajustado Ao Solo (SAVI), Índice De Vegetação Ajustado Ao Solo Otimizado (OSAVI), Índice De Vegetação Resistente À Atmosfera (ARVI) entre outros.\n\n* Outros índices Índice De Vegetação Melhorado (EVI), Índice De Queima Por Razão Normalizada (NBR), Índice De Pigmento Insensível À Estrutura (SIPI), Índice De Clorofila Verde (GCI), Índice De Neve De Diferença Normalizada (NDSI)\n## História da Prediza"
          ],
          [
           "* Pioneira em inteligência artificial, ciência de dados e internet das coisas para mapear e predizer cenários de riscos que impactam a produção agricola. Simplificamos e otimizamos a tomanda de decisão para o planejamento, gestão e manejo no campo.\n\n* Acelerada pela Ventiur Aceleradora, investida pelo Ministério de Ciência, Tecnologia e Inovação pelo programa FINEP Startup e possui o Grupo Piccin e Molinos Ca*uelas como socios investidores.\n\n## Localização\n* A Prediza está localizada no parque tecnológico, TECNOUCS, da Universidade de Caxias do Sul no Rio Grande do Sul."
          ]
         ],
         "hovertemplate": "doc_type=company<br>x=%{x}<br>y=%{y}<br>text=%{customdata[0]}<extra></extra>",
         "legendgroup": "company",
         "marker": {
          "color": "#EF553B",
          "symbol": "circle"
         },
         "mode": "markers",
         "name": "company",
         "orientation": "v",
         "showlegend": true,
         "type": "scatter",
         "x": {
          "bdata": "72feYPWdxb/ixR/44tLIv2cxYoKsGc2/TGzmnIhozr/Q3xq3EcbLvw==",
          "dtype": "f8"
         },
         "xaxis": "x",
         "y": {
          "bdata": "H7/brUJ5wz+osOxIMxK/P4ps/PiSh6c/NsORTKNlu793h2pEQwHDPw==",
          "dtype": "f8"
         },
         "yaxis": "y"
        },
        {
         "customdata": [
          [
           "id: 1\nfaixa_gndvi: < 0\ninterpretacao: Água, solo nu, sombra\nindicativos: ['Encharcamento', 'Ausência de vegetação', 'Sombra mal corrigida']"
          ],
          [
           "id: 2\nfaixa_gndvi: 0 – 0.2\ninterpretacao: Solo exposto, vegetação rala ou danificada\nindicativos: ['Falha de emergência', 'Estresse hídrico severo', 'Deficiência nutricional aguda']"
          ],
          [
           "id: 3\nfaixa_gndvi: 0.2 – 0.4\ninterpretacao: Vegetação esparsa ou em desenvolvimento inicial\nindicativos: ['Áreas com deficiência moderada de nutrientes (ex: N)', 'Compactação do solo', 'Estresse precoce por pragas/doenças']"
          ],
          [
           "id: 4\nfaixa_gndvi: 0.4 – 0.6\ninterpretacao: Vegetação saudável/moderadamente vigorosa\nindicativos: ['Estado nutricional adequado ou ligeiramente abaixo do ideal', 'Importante monitorar a evolução ao longo do tempo']"
          ],
          [
           "id: 5\nfaixa_gndvi: > 0.6\ninterpretacao: Vegetação densa e com alta atividade fotossintética\nindicativos: ['Estado nutricional excelente', 'Áreas com alto teor de clorofila e crescimento vigoroso', 'Possibilidade de competição entre plantas (ex: matocompetição em bordas ou falhas)']"
          ]
         ],
         "hovertemplate": "doc_type=gndvi_interpretation<br>x=%{x}<br>y=%{y}<br>text=%{customdata[0]}<extra></extra>",
         "legendgroup": "gndvi_interpretation",
         "marker": {
          "color": "#00cc96",
          "symbol": "circle"
         },
         "mode": "markers",
         "name": "gndvi_interpretation",
         "orientation": "v",
         "showlegend": true,
         "type": "scatter",
         "x": {
          "bdata": "waiUrpBLwz/RAq5KKFDCP/q/DiAmu58/1A2Tot6Xtz+m20T93dGqPw==",
          "dtype": "f8"
         },
         "xaxis": "x",
         "y": {
          "bdata": "T7Pq9A6BvL/TqdW4MZO3v4UrO+jZF72/hBPWtswzpb8Bc1DCUF68vw==",
          "dtype": "f8"
         },
         "yaxis": "y"
        },
        {
         "customdata": [
          [
           "id: 1\nfaixa_osavi: < 0.0\ncor_imagem: Roxo\ninterpretacao_agronomica: Áreas sem vegetação ou com excesso de água/sombra"
          ],
          [
           "id: 2\nfaixa_osavi: 0.0 – 0.25\ncor_imagem: Vermelho/laranja\ninterpretacao_agronomica: Falhas de plantio, vegetação muito rala, solo exposto"
          ],
          [
           "id: 3\nfaixa_osavi: 0.25 – 0.50\ncor_imagem: Amarelo\ninterpretacao_agronomica: Estabelecimento inicial da cultura ou estresse leve"
          ],
          [
           "id: 4\nfaixa_osavi: 0.50 – 0.75\ncor_imagem: Verde claro\ninterpretacao_agronomica: Vegetação em crescimento, desenvolvimento moderado"
          ],
          [
           "id: 5\nfaixa_osavi: > 0.75\ncor_imagem: Verde escuro/azul\ninterpretacao_agronomica: Vigor vegetal elevado, cobertura densa e saudável"
          ]
         ],
         "hovertemplate": "doc_type=osavi_interpretation<br>x=%{x}<br>y=%{y}<br>text=%{customdata[0]}<extra></extra>",
         "legendgroup": "osavi_interpretation",
         "marker": {
          "color": "#ab63fa",
          "symbol": "circle"
         },
         "mode": "markers",
         "name": "osavi_interpretation",
         "orientation": "v",
         "showlegend": true,
         "type": "scatter",
         "x": {
          "bdata": "F20OKNHysj/QyQhjPZ62P8xflaZcn8M/PSiDnSAbtT98oQ5acKW+Pw==",
          "dtype": "f8"
         },
         "xaxis": "x",
         "y": {
          "bdata": "Bcdhlo0+qr8TALXXeNm/v5+m6GQvTZu/EcxcUooXtb+Fzwg+uxyzvw==",
          "dtype": "f8"
         },
         "yaxis": "y"
        },
        {
         "customdata": [
          [
           "id: 1\nfaixa_ndwi: Valores altos (0.5 a 1)\ncor_tipica: Verde forte/azul claro\ninterpretacao: Indica alta umidade, presença de água ou vegetação saudável"
          ],
          [
           "id: 2\nfaixa_ndwi: Valores médios (0 a 0.5)\ncor_tipica: Verde claro a amarelo\ninterpretacao: Umidade moderada, possível estresse hídrico inicial"
          ],
          [
           "id: 3\nfaixa_ndwi: Valores baixos (< 0)\ncor_tipica: Marrom, vermelho\ninterpretacao: Solo seco, áreas sem água ou vegetação com estresse severo"
          ]
         ],
         "hovertemplate": "doc_type=ndwi_interpretation<br>x=%{x}<br>y=%{y}<br>text=%{customdata[0]}<extra></extra>",
         "legendgroup": "ndwi_interpretation",
         "marker": {
          "color": "#FFA15A",
          "symbol": "circle"
         },
         "mode": "markers",
         "name": "ndwi_interpretation",
         "orientation": "v",
         "showlegend": true,
         "type": "scatter",
         "x": {
          "bdata": "t188GZm0wT/Wma5rJX/GP++ntbK7Rbc/",
          "dtype": "f8"
         },
         "xaxis": "x",
         "y": {
          "bdata": "hkvKA6jUwr/I6uLzcOzCvwopigq9GcC/",
          "dtype": "f8"
         },
         "yaxis": "y"
        },
        {
         "customdata": [
          [
           "id: 1\nfaixa_tendencia: < 0.3\ninterpretacao: Baixa clorofila\nacoes_recomendadas: Aplicar fertilizante nitrogenado; análise foliar"
          ],
          [
           "id: 2\nfaixa_tendencia: 0.3 – 0.5\ninterpretacao: Crescimento inicial\nacoes_recomendadas: Monitorar disponibilidade hídrica e nutrientes"
          ],
          [
           "id: 3\nfaixa_tendencia: 0.5 – 0.7\ninterpretacao: Boa condição nutricional\nacoes_recomendadas: Manter adubação e irrigação planejada"
          ],
          [
           "id: 4\nfaixa_tendencia: > 0.7\ninterpretacao: Alta atividade fotossintética\nacoes_recomendadas: Acompanhar para evitar desequilíbrios nutricionais"
          ],
          [
           "id: 5\nfaixa_tendencia: Queda precoce\ninterpretacao: Estresse hídrico/nutricional\nacoes_recomendadas: Realizar diagnóstico rápido e correções pontuais"
          ]
         ],
         "hovertemplate": "doc_type=gndvi_insights<br>x=%{x}<br>y=%{y}<br>text=%{customdata[0]}<extra></extra>",
         "legendgroup": "gndvi_insights",
         "marker": {
          "color": "#19d3f3",
          "symbol": "circle"
         },
         "mode": "markers",
         "name": "gndvi_insights",
         "orientation": "v",
         "showlegend": true,
         "type": "scatter",
         "x": {
          "bdata": "2FVTRMOhyj++c3rfsaPNPzhpQz3pU8o/KkeufGXnzT9Z02j6zEPLPw==",
          "dtype": "f8"
         },
         "xaxis": "x",
         "y": {
          "bdata": "MXJBuzd0wL9A5jT5raGUvzwGkfbHYZU/6C78k/RinD+UxFv8OlG8Pw==",
          "dtype": "f8"
         },
         "yaxis": "y"
        },
        {
         "customdata": [
          [
           "id: 1\nestagio_fenologico: 1. Plantio / Pré-emergência\nfaixa_osavi: < 0.20\ninterpretacao: Solo exposto; ausência de biomassa verde\naplicacoes_praticas: Mapear falhas de plantio; estabelecer linha de base do índice"
          ],
          [
           "id: 2\nestagio_fenologico: 2. Emergência / Estabelecimento\nfaixa_osavi: 0.20 – 0.40\ninterpretacao: Início da cobertura vegetal; possível presença de reboleiras\naplicacoes_praticas: Avaliar qualidade da emergência; detectar áreas com atraso no desenvolvimento"
          ],
          [
           "id: 3\nestagio_fenologico: 3. Crescimento Vegetativo\nfaixa_osavi: 0.40 – 0.70\ninterpretacao: Aumento da densidade foliar e fotossíntese ativa; cobertura significativa do solo\naplicacoes_praticas: Monitorar vigor da cultura; verificar resposta à adubação; identificar estresse por compactação ou competição"
          ],
          [
           "id: 4\nestagio_fenologico: 4. Florescimento / Pico de Vigor\nfaixa_osavi: 0.70 – 0.80\ninterpretacao: Máximo desenvolvimento da biomassa verde; fase crítica para produtividade\naplicacoes_praticas: Comparar com safras anteriores; prever produtividade"
          ],
          [
           "id: 5\nestagio_fenologico: 5. Enchimento de Grãos / Início da Senescência\nfaixa_osavi: 0.50 – 0.70\ninterpretacao: Início da perda de clorofila; folhas começam a amarelecer\naplicacoes_praticas: Avaliar antecipação de estresse; acompanhar declínio natural da cultura"
          ],
          [
           "id: 6\nestagio_fenologico: 6. Maturação / Pré-colheita\nfaixa_osavi: < 0.30\ninterpretacao: Senescência completa; fim do ciclo vegetativo\naplicacoes_praticas: Indicar o momento ideal de colheita; confirmar final do ciclo produtivo"
          ]
         ],
         "hovertemplate": "doc_type=osavi_fenologico<br>x=%{x}<br>y=%{y}<br>text=%{customdata[0]}<extra></extra>",
         "legendgroup": "osavi_fenologico",
         "marker": {
          "color": "#FF6692",
          "symbol": "circle"
         },
         "mode": "markers",
         "name": "osavi_fenologico",
         "orientation": "v",
         "showlegend": true,
         "type": "scatter",
         "x": {
          "bdata": "vCSGEXcCtD9lFQlrXeq+P7qQ/rhby7o//hIHiQ7TuT8szWmfh73EP7abg5gcP7g/",
          "dtype": "f8"
         },
         "xaxis": "x",
         "y": {
          "bdata": "f4M8wkgvcb/Fsye5IPtzvxiNBdmV8qi/GUa2DW5Zc78tj3kzfGOQvyTY5oBVGKY/",
          "dtype": "f8"
         },
         "yaxis": "y"
        },
        {
         "customdata": [
          [
           "id: 1\nfaixa_tendencia: < 0\ninterpretacao: Solo seco ou baixa umidade\nacoes_recomendadas: Avaliar necessidade de irrigação urgente"
          ],
          [
           "id: 2\nfaixa_tendencia: 0 – 0.2\ninterpretacao: Pouca água nas plantas\nacoes_recomendadas: Reforçar irrigação ou revisar sistema de drenagem"
          ],
          [
           "id: 3\nfaixa_tendencia: 0.2 – 0.5\ninterpretacao: Boa condição hídrica\nacoes_recomendadas: Continuar monitoramento diário"
          ],
          [
           "id: 4\nfaixa_tendencia: > 0.5\ninterpretacao: Alta retenção hídrica\nacoes_recomendadas: Evitar excesso de irrigação, observar doenças fúngicas"
          ],
          [
           "id: 5\nfaixa_tendencia: Queda súbita\ninterpretacao: Estresse hídrico agudo\nacoes_recomendadas: Ação imediata com irrigação de emergência"
          ]
         ],
         "hovertemplate": "doc_type=ndwi_insights<br>x=%{x}<br>y=%{y}<br>text=%{customdata[0]}<extra></extra>",
         "legendgroup": "ndwi_insights",
         "marker": {
          "color": "#B6E880",
          "symbol": "circle"
         },
         "mode": "markers",
         "name": "ndwi_insights",
         "orientation": "v",
         "showlegend": true,
         "type": "scatter",
         "x": {
          "bdata": "NTIIpnMpzj/w45ugpxvEPwSq71pv7M8/jUZUAwqXyj8GO9tJJVXMPw==",
          "dtype": "f8"
         },
         "xaxis": "x",
         "y": {
          "bdata": "PIaHhzcVsz8egOGVq4ShP6XsS8gxCni/ebbs6GcOpD+jc5sygme7Pw==",
          "dtype": "f8"
         },
         "yaxis": "y"
        },
        {
         "customdata": [
          [
           "id: 2\nfaixa_ndvi: 0 – 0.2\nvigor_vegetativo: Solo exposto ou vegetação muito rala\nindicativos: Reboleiras com falha total ou parcial de germinação\nCompactação do solo\nAtaques iniciais de pragas\nDeficiência hídrica ou salinidade\nrecomendacao: desconhecida"
          ],
          [
           "id: 1\nfaixa_ndvi: < 0\nvigor_vegetativo: Água, solo nu, sombra\nindicativos: Possível falha grave de plantio\nEncharcamento (ponto de acúmulo de água)\nSombras mal corrigidas na imagem\nrecomendacao: Verificar plantio, replantar áreas com falhas"
          ],
          [
           "id: 5\nfaixa_ndvi: > 0.8\nvigor_vegetativo: Vegetação extremamente densa (Florestas)\nindicativos: Pode indicar matocompetição (plantas daninhas vigorosas)\nÁreas fora do padrão do cultivo (ex: bordaduras, vegetação nativa não removida)\nSaturação do sensor em culturas muito densas (ex: cana em estádio avançado)\nrecomendacao: Avaliar se há sombreamento excessivo ou competição por recursos"
          ],
          [
           "id: 3\nfaixa_ndvi: 0.2 – 0.5\nvigor_vegetativo: Vegetação esparsa ou em crescimento inicial\nindicativos: Áreas com atraso no desenvolvimento\nEstresse por nutrientes\nDanos por herbicidas\nInfestação leve a moderada por pragas/doenças\nrecomendacao: Monitorar irrigação e nutrição; aplicar fertilizantes se necessário"
          ],
          [
           "id: 4\nfaixa_ndvi: 0.5 – 0.8\nvigor_vegetativo: Vegetação saudável (esperado para lavoura vigorosa)\nindicativos: Padrão ideal na maioria dos cultivos anuais\nSe houver reboleiras com valores mais baixos ao redor, investigar causa\nrecomendacao: Manter manejo atual, possível início de adubação de cobertura"
          ]
         ],
         "hovertemplate": "doc_type=ndvi_interpretation<br>x=%{x}<br>y=%{y}<br>text=%{customdata[0]}<extra></extra>",
         "legendgroup": "ndvi_interpretation",
         "marker": {
          "color": "#FF97FF",
          "symbol": "circle"
         },
         "mode": "markers",
         "name": "ndvi_interpretation",
         "orientation": "v",
         "showlegend": true,
         "type": "scatter",
         "x": {
          "bdata": "rnAtIlLdfj9h0hgs9AWlP1v9m3ywr6i/mEyRMEAllr9GGZPx8kSXPw==",
          "dtype": "f8"
         },
         "xaxis": "x",
         "y": {
          "bdata": "W/Vn1dwltb/6CpQ+lfW4v4v+1pqMJGy/8ka5j9sQsL9H2gqUxEhwvw==",
          "dtype": "f8"
         },
         "yaxis": "y"
        },
        {
         "customdata": [
          [
           "id: 1\nfaixa_tendencia: < 0.2\ninterpretacao: Vegetação escassa\nacoes_recomendadas: Verificar germinação ou falhas no estabelecimento"
          ],
          [
           "id: 2\nfaixa_tendencia: 0.2 – 0.4\ninterpretacao: Estágio inicial ou estresse leve\nacoes_recomendadas: Aplicar insumos corretivos (água, fertilizantes)"
          ],
          [
           "id: 3\nfaixa_tendencia: 0.4 – 0.6\ninterpretacao: Desenvolvimento satisfatório\nacoes_recomendadas: Monitorar clima e pragas, manter adubação equilibrada"
          ],
          [
           "id: 4\nfaixa_tendencia: > 0.6\ninterpretacao: Vigor alto, pouca interferência do solo\nacoes_recomendadas: Otimizar o uso de insumos e manejo de cobertura"
          ],
          [
           "id: 5\nfaixa_tendencia: Pico mantido por tempo\ninterpretacao: Vigor prolongado\nacoes_recomendadas: Potencial para boa produtividade, considerar colheita escalonada"
          ]
         ],
         "hovertemplate": "doc_type=osavi_insights<br>x=%{x}<br>y=%{y}<br>text=%{customdata[0]}<extra></extra>",
         "legendgroup": "osavi_insights",
         "marker": {
          "color": "#FECB52",
          "symbol": "circle"
         },
         "mode": "markers",
         "name": "osavi_insights",
         "orientation": "v",
         "showlegend": true,
         "type": "scatter",
         "x": {
          "bdata": "ATHNlAQNzD8JF9HIFiHMPx881qNcVss/juS39l370T+fSMQswbPKPw==",
          "dtype": "f8"
         },
         "xaxis": "x",
         "y": {
          "bdata": "577Xxl2YgT+JXOzn8mqtP4AyiaINt5E/we2DveAiuT/Pg9cUg9jBPw==",
          "dtype": "f8"
         },
         "yaxis": "y"
        },
        {
         "customdata": [
          [
           "id: 1\nfaixa_valores: < 0\ncor_visual: Azul, roxo (água, sombra, sem vegetação)\ninterpretacao_agronomica: Solo exposto, áreas sem vegetação, ou água."
          ],
          [
           "id: 2\nfaixa_valores: 0 a 0.2\ncor_visual: Vermelho escuro a marrom\ninterpretacao_agronomica: Vegetação muito esparsa, solo exposto predominante."
          ],
          [
           "id: 3\nfaixa_valores: 0.2 a 0.4\ncor_visual: Laranja a amarelo claro\ninterpretacao_agronomica: Vegetação inicial, baixa densidade, possível estresse ou solo visível."
          ],
          [
           "id: 4\nfaixa_valores: 0.4 a 0.6\ncor_visual: Verde claro a médio\ninterpretacao_agronomica: Vegetação moderada, vigor razoável, bom desenvolvimento inicial."
          ],
          [
           "id: 5\nfaixa_valores: 0.6 a 1.0\ncor_visual: Verde escuro\ninterpretacao_agronomica: Vegetação densa e saudável, bom vigor e cobertura vegetal."
          ]
         ],
         "hovertemplate": "doc_type=savi_interpretation<br>x=%{x}<br>y=%{y}<br>text=%{customdata[0]}<extra></extra>",
         "legendgroup": "savi_interpretation",
         "marker": {
          "color": "#636efa",
          "symbol": "circle"
         },
         "mode": "markers",
         "name": "savi_interpretation",
         "orientation": "v",
         "showlegend": true,
         "type": "scatter",
         "x": {
          "bdata": "VHXVY254rj8nIDItZRa4Pwmc0vkh6bg/K75nTZXluz/wde6wu3i2Pw==",
          "dtype": "f8"
         },
         "xaxis": "x",
         "y": {
          "bdata": "ou1L6PBWsb9Hl7trcyCkv/YsVVp+IK6/douHZNpTpb+d/cdbx6yivw==",
          "dtype": "f8"
         },
         "yaxis": "y"
        },
        {
         "customdata": [
          [
           "id: 1\nfaixa_recl: 0.00 – 0.30\ncor_mapa: Vermelho escuro\ninterpretacao_agronomica: Baixo teor de clorofila – estresse severo, deficiência nutricional acentuada"
          ],
          [
           "id: 2\nfaixa_recl: 0.30 – 0.50\ncor_mapa: Vermelho/laranja forte\ninterpretacao_agronomica: Moderado teor de clorofila – possível início de estresse ou limitação nutricional"
          ],
          [
           "id: 3\nfaixa_recl: 0.50 – 0.70\ncor_mapa: Laranja claro\ninterpretacao_agronomica: Níveis adequados de clorofila – desenvolvimento razoável"
          ],
          [
           "id: 4\nfaixa_recl: 0.70 – 1.00\ncor_mapa: Amarelo/laranja claro\ninterpretacao_agronomica: Alto teor de clorofila – vegetação vigorosa, bem nutrida e saudável"
          ]
         ],
         "hovertemplate": "doc_type=recl_interpretation<br>x=%{x}<br>y=%{y}<br>text=%{customdata[0]}<extra></extra>",
         "legendgroup": "recl_interpretation",
         "marker": {
          "color": "#EF553B",
          "symbol": "circle"
         },
         "mode": "markers",
         "name": "recl_interpretation",
         "orientation": "v",
         "showlegend": true,
         "type": "scatter",
         "x": {
          "bdata": "mdPX9a95tj/Q+BI0IBO1P+8hS3d3vLA/V3Kc5G5IpT8=",
          "dtype": "f8"
         },
         "xaxis": "x",
         "y": {
          "bdata": "wzlk/Xunv79TsoS0hoy8vylq8L3ExcO/uoEcHq/mtr8=",
          "dtype": "f8"
         },
         "yaxis": "y"
        },
        {
         "customdata": [
          [
           "id: 1\npadrao_tendencia: Pico antecipado seguido de queda\nsignificado_agronomico: Crescimento rápido fora do padrão esperado – pode indicar florescimento precoce ou uso excessivo de insumos\nacoes_possiveis: Reavaliar adubação e calendário fenológico"
          ],
          [
           "id: 2\npadrao_tendencia: Estagnação após crescimento inicial\nsignificado_agronomico: Falta de avanço no desenvolvimento – possível limitação nutricional, hídrica ou compactação de solo\nacoes_possiveis: Diagnóstico de solo, irrigação ou aplicação de fertilizantes corretivos"
          ],
          [
           "id: 3\npadrao_tendencia: Quedas sazonais cíclicas\nsignificado_agronomico: Oscilações naturais em culturas perenes (ex: poda ou manejo periódico)\nacoes_possiveis: Monitorar padrões históricos e evitar interpretações incorretas de estresse"
          ],
          [
           "id: 4\npadrao_tendencia: Valores persistentemente baixos em talhões específicos\nsignificado_agronomico: Áreas com histórico de baixa produtividade ou má formação do solo\nacoes_possiveis: Investigar causas estruturais e considerar manejo diferenciado (zoneamento produtivo)"
          ],
          [
           "id: 5\npadrao_tendencia: Curva com variação abrupta sem padrão climático associado\nsignificado_agronomico: Indício de falha técnica: problemas com sensor, nuvens ou má calibração\nacoes_possiveis: Validar com observações em campo ou nova aquisição de imagens"
          ],
          [
           "id: 6\npadrao_tendencia: Redução antes do esperado para o ciclo da cultura\nsignificado_agronomico: Indício precoce de estresse ou antecipação de maturação\nacoes_possiveis: Ação preventiva com irrigação, defensivos ou antecipação da colheita"
          ]
         ],
         "hovertemplate": "doc_type=savi_insights<br>x=%{x}<br>y=%{y}<br>text=%{customdata[0]}<extra></extra>",
         "legendgroup": "savi_insights",
         "marker": {
          "color": "#00cc96",
          "symbol": "circle"
         },
         "mode": "markers",
         "name": "savi_insights",
         "orientation": "v",
         "showlegend": true,
         "type": "scatter",
         "x": {
          "bdata": "sFU/WYoynb+8kMIWwmmEP7QlElXFVIq/6oV6sylhqb8vHRhjitirv+N1aoLP9qO/",
          "dtype": "f8"
         },
         "xaxis": "x",
         "y": {
          "bdata": "gn+hW7zY0T/PHEbLBvLMP0vb6rAQTM8/fqwgpmJYzz8wo6V+FBLIP1II5MkRstM/",
          "dtype": "f8"
         },
         "yaxis": "y"
        },
        {
         "customdata": [
          [
           "id: 1\nfaixa_tendencia: < 0.3\ninterpretacao: Baixa clorofila\nacoes_recomendadas: Aplicar nitrogênio ou corrigir deficiência nutricional"
          ],
          [
           "id: 2\nfaixa_tendencia: 0.3 – 0.6\ninterpretacao: Clorofila em níveis médios\nacoes_recomendadas: Monitorar crescimento e ajustar adubação"
          ],
          [
           "id: 3\nfaixa_tendencia: 0.6 – 0.8\ninterpretacao: Boa nutrição e vigor\nacoes_recomendadas: Manter práticas atuais, otimizar adubação de cobertura"
          ],
          [
           "id: 4\nfaixa_tendencia: > 0.8\ninterpretacao: Alto teor de clorofila\nacoes_recomendadas: Avaliar possível superdosagem de N ou alta densidade"
          ],
          [
           "id: 5\nfaixa_tendencia: Queda antecipada\ninterpretacao: Senescência precoce\nacoes_recomendadas: Verificar pragas, doenças ou estresse hídrico"
          ]
         ],
         "hovertemplate": "doc_type=recl_insights<br>x=%{x}<br>y=%{y}<br>text=%{customdata[0]}<extra></extra>",
         "legendgroup": "recl_insights",
         "marker": {
          "color": "#ab63fa",
          "symbol": "circle"
         },
         "mode": "markers",
         "name": "recl_insights",
         "orientation": "v",
         "showlegend": true,
         "type": "scatter",
         "x": {
          "bdata": "lzZOc9kmzT/4g7eZ1pnNP7yGgOYLN9A/WyBWJDsCzD+qH042VWTQPw==",
          "dtype": "f8"
         },
         "xaxis": "x",
         "y": {
          "bdata": "kkK5p55pvr8dT8xpVAK4v0ywvCbqS58/MmPP93fUub+tXpLnw3jCPw==",
          "dtype": "f8"
         },
         "yaxis": "y"
        }
       ],
       "layout": {
        "legend": {
         "title": {
          "text": "doc_type"
         },
         "tracegroupgap": 0
        },
        "template": {
         "data": {
          "bar": [
           {
            "error_x": {
             "color": "#2a3f5f"
            },
            "error_y": {
             "color": "#2a3f5f"
            },
            "marker": {
             "line": {
              "color": "#E5ECF6",
              "width": 0.5
             },
             "pattern": {
              "fillmode": "overlay",
              "size": 10,
              "solidity": 0.2
             }
            },
            "type": "bar"
           }
          ],
          "barpolar": [
           {
            "marker": {
             "line": {
              "color": "#E5ECF6",
              "width": 0.5
             },
             "pattern": {
              "fillmode": "overlay",
              "size": 10,
              "solidity": 0.2
             }
            },
            "type": "barpolar"
           }
          ],
          "carpet": [
           {
            "aaxis": {
             "endlinecolor": "#2a3f5f",
             "gridcolor": "white",
             "linecolor": "white",
             "minorgridcolor": "white",
             "startlinecolor": "#2a3f5f"
            },
            "baxis": {
             "endlinecolor": "#2a3f5f",
             "gridcolor": "white",
             "linecolor": "white",
             "minorgridcolor": "white",
             "startlinecolor": "#2a3f5f"
            },
            "type": "carpet"
           }
          ],
          "choropleth": [
           {
            "colorbar": {
             "outlinewidth": 0,
             "ticks": ""
            },
            "type": "choropleth"
           }
          ],
          "contour": [
           {
            "colorbar": {
             "outlinewidth": 0,
             "ticks": ""
            },
            "colorscale": [
             [
              0,
              "#0d0887"
             ],
             [
              0.1111111111111111,
              "#46039f"
             ],
             [
              0.2222222222222222,
              "#7201a8"
             ],
             [
              0.3333333333333333,
              "#9c179e"
             ],
             [
              0.4444444444444444,
              "#bd3786"
             ],
             [
              0.5555555555555556,
              "#d8576b"
             ],
             [
              0.6666666666666666,
              "#ed7953"
             ],
             [
              0.7777777777777778,
              "#fb9f3a"
             ],
             [
              0.8888888888888888,
              "#fdca26"
             ],
             [
              1,
              "#f0f921"
             ]
            ],
            "type": "contour"
           }
          ],
          "contourcarpet": [
           {
            "colorbar": {
             "outlinewidth": 0,
             "ticks": ""
            },
            "type": "contourcarpet"
           }
          ],
          "heatmap": [
           {
            "colorbar": {
             "outlinewidth": 0,
             "ticks": ""
            },
            "colorscale": [
             [
              0,
              "#0d0887"
             ],
             [
              0.1111111111111111,
              "#46039f"
             ],
             [
              0.2222222222222222,
              "#7201a8"
             ],
             [
              0.3333333333333333,
              "#9c179e"
             ],
             [
              0.4444444444444444,
              "#bd3786"
             ],
             [
              0.5555555555555556,
              "#d8576b"
             ],
             [
              0.6666666666666666,
              "#ed7953"
             ],
             [
              0.7777777777777778,
              "#fb9f3a"
             ],
             [
              0.8888888888888888,
              "#fdca26"
             ],
             [
              1,
              "#f0f921"
             ]
            ],
            "type": "heatmap"
           }
          ],
          "histogram": [
           {
            "marker": {
             "pattern": {
              "fillmode": "overlay",
              "size": 10,
              "solidity": 0.2
             }
            },
            "type": "histogram"
           }
          ],
          "histogram2d": [
           {
            "colorbar": {
             "outlinewidth": 0,
             "ticks": ""
            },
            "colorscale": [
             [
              0,
              "#0d0887"
             ],
             [
              0.1111111111111111,
              "#46039f"
             ],
             [
              0.2222222222222222,
              "#7201a8"
             ],
             [
              0.3333333333333333,
              "#9c179e"
             ],
             [
              0.4444444444444444,
              "#bd3786"
             ],
             [
              0.5555555555555556,
              "#d8576b"
             ],
             [
              0.6666666666666666,
              "#ed7953"
             ],
             [
              0.7777777777777778,
              "#fb9f3a"
             ],
             [
              0.8888888888888888,
              "#fdca26"
             ],
             [
              1,
              "#f0f921"
             ]
            ],
            "type": "histogram2d"
           }
          ],
          "histogram2dcontour": [
           {
            "colorbar": {
             "outlinewidth": 0,
             "ticks": ""
            },
            "colorscale": [
             [
              0,
              "#0d0887"
             ],
             [
              0.1111111111111111,
              "#46039f"
             ],
             [
              0.2222222222222222,
              "#7201a8"
             ],
             [
              0.3333333333333333,
              "#9c179e"
             ],
             [
              0.4444444444444444,
              "#bd3786"
             ],
             [
              0.5555555555555556,
              "#d8576b"
             ],
             [
              0.6666666666666666,
              "#ed7953"
             ],
             [
              0.7777777777777778,
              "#fb9f3a"
             ],
             [
              0.8888888888888888,
              "#fdca26"
             ],
             [
              1,
              "#f0f921"
             ]
            ],
            "type": "histogram2dcontour"
           }
          ],
          "mesh3d": [
           {
            "colorbar": {
             "outlinewidth": 0,
             "ticks": ""
            },
            "type": "mesh3d"
           }
          ],
          "parcoords": [
           {
            "line": {
             "colorbar": {
              "outlinewidth": 0,
              "ticks": ""
             }
            },
            "type": "parcoords"
           }
          ],
          "pie": [
           {
            "automargin": true,
            "type": "pie"
           }
          ],
          "scatter": [
           {
            "fillpattern": {
             "fillmode": "overlay",
             "size": 10,
             "solidity": 0.2
            },
            "type": "scatter"
           }
          ],
          "scatter3d": [
           {
            "line": {
             "colorbar": {
              "outlinewidth": 0,
              "ticks": ""
             }
            },
            "marker": {
             "colorbar": {
              "outlinewidth": 0,
              "ticks": ""
             }
            },
            "type": "scatter3d"
           }
          ],
          "scattercarpet": [
           {
            "marker": {
             "colorbar": {
              "outlinewidth": 0,
              "ticks": ""
             }
            },
            "type": "scattercarpet"
           }
          ],
          "scattergeo": [
           {
            "marker": {
             "colorbar": {
              "outlinewidth": 0,
              "ticks": ""
             }
            },
            "type": "scattergeo"
           }
          ],
          "scattergl": [
           {
            "marker": {
             "colorbar": {
              "outlinewidth": 0,
              "ticks": ""
             }
            },
            "type": "scattergl"
           }
          ],
          "scattermap": [
           {
            "marker": {
             "colorbar": {
              "outlinewidth": 0,
              "ticks": ""
             }
            },
            "type": "scattermap"
           }
          ],
          "scattermapbox": [
           {
            "marker": {
             "colorbar": {
              "outlinewidth": 0,
              "ticks": ""
             }
            },
            "type": "scattermapbox"
           }
          ],
          "scatterpolar": [
           {
            "marker": {
             "colorbar": {
              "outlinewidth": 0,
              "ticks": ""
             }
            },
            "type": "scatterpolar"
           }
          ],
          "scatterpolargl": [
           {
            "marker": {
             "colorbar": {
              "outlinewidth": 0,
              "ticks": ""
             }
            },
            "type": "scatterpolargl"
           }
          ],
          "scatterternary": [
           {
            "marker": {
             "colorbar": {
              "outlinewidth": 0,
              "ticks": ""
             }
            },
            "type": "scatterternary"
           }
          ],
          "surface": [
           {
            "colorbar": {
             "outlinewidth": 0,
             "ticks": ""
            },
            "colorscale": [
             [
              0,
              "#0d0887"
             ],
             [
              0.1111111111111111,
              "#46039f"
             ],
             [
              0.2222222222222222,
              "#7201a8"
             ],
             [
              0.3333333333333333,
              "#9c179e"
             ],
             [
              0.4444444444444444,
              "#bd3786"
             ],
             [
              0.5555555555555556,
              "#d8576b"
             ],
             [
              0.6666666666666666,
              "#ed7953"
             ],
             [
              0.7777777777777778,
              "#fb9f3a"
             ],
             [
              0.8888888888888888,
              "#fdca26"
             ],
             [
              1,
              "#f0f921"
             ]
            ],
            "type": "surface"
           }
          ],
          "table": [
           {
            "cells": {
             "fill": {
              "color": "#EBF0F8"
             },
             "line": {
              "color": "white"
             }
            },
            "header": {
             "fill": {
              "color": "#C8D4E3"
             },
             "line": {
              "color": "white"
             }
            },
            "type": "table"
           }
          ]
         },
         "layout": {
          "annotationdefaults": {
           "arrowcolor": "#2a3f5f",
           "arrowhead": 0,
           "arrowwidth": 1
          },
          "autotypenumbers": "strict",
          "coloraxis": {
           "colorbar": {
            "outlinewidth": 0,
            "ticks": ""
           }
          },
          "colorscale": {
           "diverging": [
            [
             0,
             "#8e0152"
            ],
            [
             0.1,
             "#c51b7d"
            ],
            [
             0.2,
             "#de77ae"
            ],
            [
             0.3,
             "#f1b6da"
            ],
            [
             0.4,
             "#fde0ef"
            ],
            [
             0.5,
             "#f7f7f7"
            ],
            [
             0.6,
             "#e6f5d0"
            ],
            [
             0.7,
             "#b8e186"
            ],
            [
             0.8,
             "#7fbc41"
            ],
            [
             0.9,
             "#4d9221"
            ],
            [
             1,
             "#276419"
            ]
           ],
           "sequential": [
            [
             0,
             "#0d0887"
            ],
            [
             0.1111111111111111,
             "#46039f"
            ],
            [
             0.2222222222222222,
             "#7201a8"
            ],
            [
             0.3333333333333333,
             "#9c179e"
            ],
            [
             0.4444444444444444,
             "#bd3786"
            ],
            [
             0.5555555555555556,
             "#d8576b"
            ],
            [
             0.6666666666666666,
             "#ed7953"
            ],
            [
             0.7777777777777778,
             "#fb9f3a"
            ],
            [
             0.8888888888888888,
             "#fdca26"
            ],
            [
             1,
             "#f0f921"
            ]
           ],
           "sequentialminus": [
            [
             0,
             "#0d0887"
            ],
            [
             0.1111111111111111,
             "#46039f"
            ],
            [
             0.2222222222222222,
             "#7201a8"
            ],
            [
             0.3333333333333333,
             "#9c179e"
            ],
            [
             0.4444444444444444,
             "#bd3786"
            ],
            [
             0.5555555555555556,
             "#d8576b"
            ],
            [
             0.6666666666666666,
             "#ed7953"
            ],
            [
             0.7777777777777778,
             "#fb9f3a"
            ],
            [
             0.8888888888888888,
             "#fdca26"
            ],
            [
             1,
             "#f0f921"
            ]
           ]
          },
          "colorway": [
           "#636efa",
           "#EF553B",
           "#00cc96",
           "#ab63fa",
           "#FFA15A",
           "#19d3f3",
           "#FF6692",
           "#B6E880",
           "#FF97FF",
           "#FECB52"
          ],
          "font": {
           "color": "#2a3f5f"
          },
          "geo": {
           "bgcolor": "white",
           "lakecolor": "white",
           "landcolor": "#E5ECF6",
           "showlakes": true,
           "showland": true,
           "subunitcolor": "white"
          },
          "hoverlabel": {
           "align": "left"
          },
          "hovermode": "closest",
          "mapbox": {
           "style": "light"
          },
          "paper_bgcolor": "white",
          "plot_bgcolor": "#E5ECF6",
          "polar": {
           "angularaxis": {
            "gridcolor": "white",
            "linecolor": "white",
            "ticks": ""
           },
           "bgcolor": "#E5ECF6",
           "radialaxis": {
            "gridcolor": "white",
            "linecolor": "white",
            "ticks": ""
           }
          },
          "scene": {
           "xaxis": {
            "backgroundcolor": "#E5ECF6",
            "gridcolor": "white",
            "gridwidth": 2,
            "linecolor": "white",
            "showbackground": true,
            "ticks": "",
            "zerolinecolor": "white"
           },
           "yaxis": {
            "backgroundcolor": "#E5ECF6",
            "gridcolor": "white",
            "gridwidth": 2,
            "linecolor": "white",
            "showbackground": true,
            "ticks": "",
            "zerolinecolor": "white"
           },
           "zaxis": {
            "backgroundcolor": "#E5ECF6",
            "gridcolor": "white",
            "gridwidth": 2,
            "linecolor": "white",
            "showbackground": true,
            "ticks": "",
            "zerolinecolor": "white"
           }
          },
          "shapedefaults": {
           "line": {
            "color": "#2a3f5f"
           }
          },
          "ternary": {
           "aaxis": {
            "gridcolor": "white",
            "linecolor": "white",
            "ticks": ""
           },
           "baxis": {
            "gridcolor": "white",
            "linecolor": "white",
            "ticks": ""
           },
           "bgcolor": "#E5ECF6",
           "caxis": {
            "gridcolor": "white",
            "linecolor": "white",
            "ticks": ""
           }
          },
          "title": {
           "x": 0.05
          },
          "xaxis": {
           "automargin": true,
           "gridcolor": "white",
           "linecolor": "white",
           "ticks": "",
           "title": {
            "standoff": 15
           },
           "zerolinecolor": "white",
           "zerolinewidth": 2
          },
          "yaxis": {
           "automargin": true,
           "gridcolor": "white",
           "linecolor": "white",
           "ticks": "",
           "title": {
            "standoff": 15
           },
           "zerolinecolor": "white",
           "zerolinewidth": 2
          }
         }
        },
        "title": {
         "text": "Visualização dos Embeddings por Tipo de Documento"
        },
        "xaxis": {
         "anchor": "y",
         "domain": [
          0,
          1
         ],
         "title": {
          "text": "x"
         }
        },
        "yaxis": {
         "anchor": "x",
         "domain": [
          0,
          1
         ],
         "title": {
          "text": "y"
         }
        }
       }
      }
     },
     "metadata": {},
     "output_type": "display_data"
    }
   ],
   "source": [
    "from sklearn.decomposition import PCA\n",
    "import plotly.express as px\n",
    "import pandas as pd\n",
    "\n",
    "# Gera embeddings e metadados\n",
    "emb_vectors = [embeddings.embed_query(chunk.page_content) for chunk in chunks]\n",
    "texts = [chunk.page_content for chunk in chunks]\n",
    "doc_types = [chunk.metadata.get(\"doc_type\", \"desconhecido\") for chunk in chunks]\n",
    "\n",
    "# Reduz os vetores para 2D\n",
    "pca = PCA(n_components=2)\n",
    "emb_2d = pca.fit_transform(emb_vectors)\n",
    "\n",
    "# Cria DataFrame\n",
    "df = pd.DataFrame({\n",
    "    \"x\": emb_2d[:, 0],\n",
    "    \"y\": emb_2d[:, 1],\n",
    "    \"text\": texts,\n",
    "    \"doc_type\": doc_types\n",
    "})\n",
    "\n",
    "# Plota com Plotly, colorido por tipo de documento\n",
    "fig = px.scatter(\n",
    "    df, x=\"x\", y=\"y\",\n",
    "    color=\"doc_type\",\n",
    "    hover_data=[\"text\"],\n",
    "    title=\"Visualização dos Embeddings por Tipo de Documento\"\n",
    ")\n",
    "fig.show()"
   ]
  },
  {
   "cell_type": "code",
   "execution_count": 32,
   "id": "83652d00",
   "metadata": {},
   "outputs": [
    {
     "data": {
      "application/vnd.plotly.v1+json": {
       "config": {
        "plotlyServerURL": "https://plot.ly"
       },
       "data": [
        {
         "customdata": [
          [
           "# Imagens\n\n\n\n## NDVI\n\nNDVI (Normalized Difference Vegetation Index) é um índice de vegetação utilizado para medir a vitalidade e o estado de saúde das plantas por meio de dados de sensoriamento remoto.\nEle é calculado com base na diferença entre a refletância da luz no infravermelho próximo (NIR) e na faixa do vermelho (Red).\n\nFórmula: (NIR - Red) / (NIR + Red)\n\n### Cores típicas nos softwares para NDVI\n\n* Vermelho/Marrom: Valores baixos — solo exposto, água, áreas sem vegetação.\n\n* Amarelo/Laranja: Vegetação fraca ou estressada — áreas com pouco vigor.\n\n* Verde claro a verde escuro: Vegetação saudável — níveis crescentes de vigor e clorofila.\n\n* Verde muito escuro ou quase preto (menos comum): Vegetação muito densa ou saturação do sensor."
          ],
          [
           "* Verde claro a verde escuro: Vegetação saudável — níveis crescentes de vigor e clorofila.\n\n* Verde muito escuro ou quase preto (menos comum): Vegetação muito densa ou saturação do sensor.\n\nPara interpretar uma imagem NDVI, o primeiro passo é verificar a uniformidade da coloração em toda a área analisada. Uma lavoura saudável e bem conduzida tende a apresentar pouca variação nas tonalidades entre talhões ou faixas, geralmente predominando tons de verde claro a escuro, que indicam vigor vegetativo adequado."
          ],
          [
           "Por outro lado, variações abruptas de cor dentro da área cultivada — principalmente a presença de manchas em tons amarelos, laranjas ou vermelhos — podem indicar anomalias no desenvolvimento da vegetação, comumente chamadas de reboleiras. Essas reboleiras costumam ter formatos circulares, ovais ou irregulares e refletem áreas com estresse localizado, podendo ser causadas por:\n\n*   falhas de plantio\n*   compactação do solo,\n*   deficiência nutricional,\n*   pragas ou doenças,\n*   encharcamento ou deficiência hídrica.\n\nA identificação dessas áreas é essencial para direcionar vistorias em campo e realizar ações de manejo localizado, reduzindo perdas e otimizando recursos."
          ],
          [
           "A identificação dessas áreas é essencial para direcionar vistorias em campo e realizar ações de manejo localizado, reduzindo perdas e otimizando recursos.\n\nAlém da interpretação pontual de uma imagem, é recomendável realizar análises temporais, comparando imagens NDVI ao longo do ciclo da cultura ou entre diferentes safras. Esse acompanhamento permite:\n\n*  Monitorar a evolução do desenvolvimento vegetativo,\n\n*  Identificar atrasos ou falhas em determinados estádios fenológicos,\n\n*  Avaliar o impacto de eventos climáticos extremos (como seca, geada ou excesso de chuvas),\n\n*  Comparar o desempenho entre áreas ou safras diferentes,\n\n*  Antecipar a tomada de decisões, como adubação em cobertura, controle de pragas ou planejamento de colheita."
          ],
          [
           "*  Comparar o desempenho entre áreas ou safras diferentes,\n\n*  Antecipar a tomada de decisões, como adubação em cobertura, controle de pragas ou planejamento de colheita.\n\n*  A análise temporal também ajuda a distinguir reboleiras sazonais (ocasionais) de áreas crônicas com problemas recorrentes, permitindo ações corretivas estruturais mais eficazes.\n\nA forma da curva NDVI pode variar conforme o tipo de cultura, mas geralmente segue um padrão:\n\n### Curva padrão para culturas anuais (ex: soja, milho, trigo):\n\n* Plantio / emergência (NDVI ~ 0.2 a 0.3): valores baixos, indicando solo exposto ou vegetação inicial.\n\n* Desenvolvimento vegetativo (NDVI ~ 0.4 a 0.7): crescimento rápido da biomassa.\n\n* Florescimento / pendoamento (NDVI ~ 0.7 a 0.8): pico de vigor vegetativo."
          ],
          [
           "* Desenvolvimento vegetativo (NDVI ~ 0.4 a 0.7): crescimento rápido da biomassa.\n\n* Florescimento / pendoamento (NDVI ~ 0.7 a 0.8): pico de vigor vegetativo.\n\n* Enchimento de grãos (NDVI ~ 0.6 a 0.7): início da senescência.\n\n* Maturação / pré-colheita (NDVI < 0.4): queda acentuada devido à perda de clorofila.\n\n* Curva para culturas perenes (ex: cana-de-açúcar, café, frutíferas):\nApresenta flutuações sazonais, mas mantém valores relativamente altos (> 0.5) por mais tempo.\n\n### Remondações NDVI\n\nSe Queda após pico significa Fim de ciclo ou estresse e a recomendação é  Confirmar estágio fenológico ou investigar problemas sanitários.\n\n## GNVDI"
          ],
          [
           "### Remondações NDVI\n\nSe Queda após pico significa Fim de ciclo ou estresse e a recomendação é  Confirmar estágio fenológico ou investigar problemas sanitários.\n\n## GNVDI  \n\nO GNDVI (Green Normalized Difference Vegetation Index) é um índice de vegetação derivado de dados de sensoriamento remoto, utilizado para avaliar a atividade fotossintética, a concentração de clorofila e o estado nutricional das plantas, com maior sensibilidade ao nitrogênio. Ele é especialmente útil para detectar estresses fisiológicos e nutricionais precoces, antes que se tornem visíveis a olho nu.\n\nEle é calculado com base na diferença entre a refletância da luz no infravermelho próximo (NIR) e na faixa do verde (Green).\n\nFórmula: (NIR - Green) / (NIR + Green)"
          ],
          [
           "Ele é calculado com base na diferença entre a refletância da luz no infravermelho próximo (NIR) e na faixa do verde (Green).\n\nFórmula: (NIR - Green) / (NIR + Green)\n\nO GNDVI é um índice de vegetação semelhante ao NDVI (Normalized Difference Vegetation Index), mas usa a banda do verde em vez da banda do vermelho. O GNDVI é mais sensível a variações na clorofila e ao estresse hídrico ou nutricional precoce, o que o torna vantajoso para monitoramento agrícola de precisão, como em culturas que respondem fortemente a variações de nitrogênio.\n\n### Cores típicas nos softwares para GNDVI\n\n* Vermelho/Marrom: Valores baixos — solo exposto, água, áreas sem vegetação.\n\n* Amarelo/Laranja: Vegetação fraca ou estressada — áreas com pouco vigor."
          ],
          [
           "### Cores típicas nos softwares para GNDVI\n\n* Vermelho/Marrom: Valores baixos — solo exposto, água, áreas sem vegetação.\n\n* Amarelo/Laranja: Vegetação fraca ou estressada — áreas com pouco vigor.\n\n* Verde claro a verde escuro: Vegetação saudável — níveis crescentes de vigor e clorofila.\n\n* Verde muito escuro ou quase preto (menos comum): Vegetação muito densa ou saturação do sensor.\n\nAo analisar uma imagem GNDVI, o foco está em avaliar a uniformidade da atividade fotossintética da vegetação e a distribuição da clorofila nas plantas. Um cultivo saudável, com nutrição balanceada, tende a exibir valores elevados e homogêneos de GNDVI, geralmente em tons de verde médio a escuro."
          ],
          [
           "Variações abruptas, especialmente manchas em tons amarelados, alaranjados ou avermelhados, são indicativas de reboleiras com estresse nutricional (especialmente deficiência de nitrogênio), estresse hídrico, ou interferências como doenças, compactação ou falhas no manejo.\n\n\nO GNDVI pode ser analisado ao longo do tempo para identificar mudanças no padrão de vigor e clorofila da lavoura, acompanhando o ciclo fenológico e a resposta ao manejo.\n\nCurva Padrão para Culturas Anuais (ex: milho, soja, trigo):\n\n* Plantio / emergência (GNDVI ~ 0.2 a 0.3): valores baixos, indicam vegetação inicial.\n\n* Desenvolvimento vegetativo (GNDVI ~ 0.4 a 0.6): crescimento ativo da biomassa e da clorofila.\n\n* Pico vegetativo (GNDVI > 0.6): estágio ideal de nutrição e fotossíntese."
          ],
          [
           "* Desenvolvimento vegetativo (GNDVI ~ 0.4 a 0.6): crescimento ativo da biomassa e da clorofila.\n\n* Pico vegetativo (GNDVI > 0.6): estágio ideal de nutrição e fotossíntese.\n\n* Senescência / maturação (GNDVI < 0.4): redução do vigor e teor de clorofila.\n\n* Curva para Culturas Perenes (ex: cana, café):\nOscilações sazonais menores, mantendo valores acima de 0.5 por longos períodos.\n\n* Quedas pontuais podem indicar estresses ou momentos de poda.\n\n\n\n## OSAVI\n\nO OSAVI (Optimized Soil Adjusted Vegetation Index) é um índice de vegetação projetado para melhorar a detecção da vegetação em áreas com presença significativa de solo exposto. Ele ajusta o impacto do brilho do solo ao adicionar um fator de correção (L) na fórmula do NDVI tradicional.\n\nFórmula: (NIR - Red) / (NIR + Red + 0,16)"
          ],
          [
           "Fórmula: (NIR - Red) / (NIR + Red + 0,16)\n\nNIR (Near Infrared): Refletância no infravermelho próximo\n\nRed: Refletância no vermelho\n\n0.16 é um fator de correção que minimiza os efeitos da reflectância do solo.\n\nO indice OSAVI reduz significativamente os efeitos do solo na interpretação dos índices de vegetação, especialmente útil em:\n\n* Estágios iniciais de crescimento\n\n* ulturas de porte baixo ou espaçadas\n\n* Áreas com reboleiras ou falhas de plantio\n\n* Ambientes semiáridos ou com baixa cobertura vegetal"
          ],
          [
           "Na análise de uma imagem OSAVI, busca-se observar a distribuição da biomassa verde com menor influência do solo do que no SAVI tradicional.\nCulturas bem estabelecidas e homogêneas tendem a apresentar tons verdes uniformes e altos valores de OSAVI.\nManchas em tons alaranjados, amarelos ou vermelhos podem indicar áreas de reboleiras, estresse hídrico leve, solos descobertos, ou baixa cobertura vegetal. A sensibilidade do OSAVI permite detectar variações mesmo em estágios médios do ciclo da cultura.\nA análise temporal do OSAVI (Optimized Soil-Adjusted Vegetation Index) é extremamente útil para acompanhar a dinâmica da vegetação ao longo do ciclo da cultura, com uma vantagem extra: ele oferece maior precisão nos estádios iniciais, onde o solo ainda é parcialmente visível.\n\n## RECL"
          ],
          [
           "## RECL\n\nO RECL (Red-Edge Chlorophyll Index) é um índice espectral sensível à concentração de clorofila nas folhas das plantas. Ele utiliza a banda do red-edge (transição entre o vermelho e o infravermelho próximo) para detectar mudanças sutis no teor de clorofila antes que os sintomas visuais sejam perceptíveis.\n\n* É altamente útil para identificar estresse fisiológico precoce nas plantas.\n\n* Detectar estresses iniciais por falta de água, doenças, pragas ou deficiência de nutrientes.\n\n* Apoiar o manejo da adubação nitrogenada, ajustando doses com base na necessidade real da cultura.\n\n* Delimitar zonas de manejo, otimizando o uso de insumos com base na variabilidade do campo."
          ],
          [
           "* Apoiar o manejo da adubação nitrogenada, ajustando doses com base na necessidade real da cultura.\n\n* Delimitar zonas de manejo, otimizando o uso de insumos com base na variabilidade do campo.\n\n* Acompanhar o desenvolvimento da lavoura ao longo do ciclo, auxiliando decisões como irrigação, cobertura ou colheita.\n\n* Avaliar a resposta a práticas de manejo, confirmando se houve melhora no vigor após intervenções.\n\nFórmula: (Re - Red) / (Re + Red)\n\nRE (Red-Edge): Banda espectral entre 705 nm e 740 nm\n\nRed: Banda do vermelho (~660 nm)\n\nAo analisar uma imagem RECL, o objetivo é identificar o teor relativo de clorofila nas plantas, o que reflete diretamente seu estado nutricional — especialmente em relação ao nitrogênio.\n\n\n### Análise Temporal dos valores"
          ],
          [
           "| **Tendência no Tempo**              | **Interpretação Agronômica**                                                                                                                |\n| ----------------------------------- | ------------------------------------------------------------------------------------------------------------------------------------------- |\n| **Aumento gradual dos valores**     | Crescimento saudável da vegetação, aumento progressivo do teor de clorofila e vigor. Indica bom desenvolvimento e boa resposta nutricional. |\n| **Estabilidade em valores altos**   | Cultura com boa saúde, vegetação vigorosa e manejo adequado.                                                                                |"
          ],
          [
           "| **Estabilidade em valores altos**   | Cultura com boa saúde, vegetação vigorosa e manejo adequado.                                                                                |\n| **Queda gradual dos valores**       | Processo natural de senescência ou início de estresse nutricional, hídrico ou fitossanitário. Necessita investigação para manejo.           |\n| **Queda brusca em curto período**   | Estresse agudo devido a eventos climáticos extremos (seca, geada), ataque de pragas ou doenças, ou deficiência nutricional severa.          |\n| **Oscilações frequentes**           | Variabilidade ambiental, manejo irregular ou problemas pontuais na área. Pode indicar necessidade de ações localizadas.                     |"
          ],
          [
           "| **Oscilações frequentes**           | Variabilidade ambiental, manejo irregular ou problemas pontuais na área. Pode indicar necessidade de ações localizadas.                     |\n| **Valores persistentemente baixos** | Áreas crônicas com deficiência nutricional ou problemas estruturais no solo. Indica necessidade de intervenção técnica profunda.            |"
          ],
          [
           "## NDWI\n\nO NDWI (Normalized Difference Water Index) é um índice utilizado para detectar a presença e o conteúdo de água na vegetação e no solo. Ele é calculado a partir das bandas do infravermelho próximo (NIR) e do infravermelho de ondas curtas (SWIR) ou do verde, dependendo da versão. O NDWI é muito útil para monitorar o estresse hídrico das plantas, identificar áreas de alagamento e avaliar a umidade do solo, sendo uma ferramenta importante para gestão agrícola e ambiental.\n\n\nExistem duas versões comuns do NDWI, dependendo das bandas usadas:\n\nVersão baseada em NIR e SWIR (mais usada para umidade do solo e vegetação):\n\nFórmula: (NIR - SWIR) / (NIR - SWIR)\n\nVersão baseada em Verde e NIR (usada para detectar água superficial):\nFórmula: (Green - NIR) / (Green + NIR)"
          ],
          [
           "Fórmula: (NIR - SWIR) / (NIR - SWIR)\n\nVersão baseada em Verde e NIR (usada para detectar água superficial):\nFórmula: (Green - NIR) / (Green + NIR)\n\n\nImagens NDWI destacam a umidade na vegetação e no solo. Tons esverdeados e azulados refletem boa disponibilidade de água na planta, enquanto áreas com tons amarelos, laranja ou vermelhos indicam déficit hídrico.\nManchas com baixa intensidade (amareladas a vermelhas) podem sinalizar reboleiras sob estresse hídrico, falhas de irrigação, solos compactados ou deficiência de captação de água.\nO NDWI é crucial para o monitoramento da irrigação e para prever áreas com risco de estresse hídrico, especialmente em períodos críticos do ciclo da cultura.\n\nAnálise temporal do NDWI"
          ],
          [
           "| **Tendência no tempo**            | **Interpretação agronômica**                                                  |\n| --------------------------------- | ----------------------------------------------------------------------------- |\n| **Aumento gradual dos valores**   | Melhora na umidade do solo ou recuperação da vegetação após seca              |\n| **Estabilidade em valores altos** | Condição hídrica adequada e estável para a cultura                            |\n| **Queda gradual dos valores**     | Secamento progressivo do solo, possível estresse hídrico                      |\n| **Queda brusca em curto período** | Evento severo de seca, queimadas ou danos ambientais repentinos               |"
          ],
          [
           "| **Queda brusca em curto período** | Evento severo de seca, queimadas ou danos ambientais repentinos               |\n| **Oscilações frequentes**         | Variabilidade climática, irrigação irregular ou áreas com drenagem deficiente |"
          ],
          [
           "## SAVI\n\n O SAVI (Soil Adjusted Vegetation Index) é um índice de vegetação desenvolvido para minimizar o efeito do solo exposto na estimativa da vegetação, especialmente em áreas com pouca cobertura vegetal. Ele ajusta o índice tradicional NDVI para compensar a influência do solo, tornando-se útil em regiões áridas ou com baixa densidade de plantas.\n\nFórmula: (NIR - Red) x (1 + L)  / (NIR + Red + L)"
          ],
          [
           "Fórmula: (NIR - Red) x (1 + L)  / (NIR + Red + L)\n\n\nAo analisar uma imagem SAVI, o foco está em distinguir áreas com vegetação daquelas com presença significativa de solo exposto. Esse índice é especialmente útil em estágios iniciais do cultivo ou em solos com baixa cobertura vegetal.\nValores elevados e homogêneos de SAVI, com tons de verde, indicam uma vegetação saudável e com boa cobertura.\nTons amarelados, marrons ou avermelhados apontam áreas com interferência do solo, falhas de plantio, vegetação esparsa ou desenvolvimento desuniforme — especialmente em solos mal preparados ou com erosão superficial."
          ],
          [
           "A análise temporal do SAVI permite acompanhar a evolução da vegetação ao longo do ciclo da cultura ou entre diferentes períodos, ajudando a entender o desenvolvimento e a saúde das plantas.\n\nCom essa análise, é possível observar:\n\n* Crescimento progressivo: Um aumento gradual dos valores do SAVI indica que a vegetação está se desenvolvendo bem, com aumento da biomassa e vigor.\n\n* Manutenção da saúde: Valores estáveis e elevados mostram que a cultura está saudável e bem manejada, com boa cobertura vegetal.\n\n* Detecção de estresse: Quedas nos valores, seja gradual ou brusca, podem indicar estresse hídrico, nutricional, ataque de pragas ou doenças, ou mesmo o início da senescência natural da planta."
          ],
          [
           "* Detecção de estresse: Quedas nos valores, seja gradual ou brusca, podem indicar estresse hídrico, nutricional, ataque de pragas ou doenças, ou mesmo o início da senescência natural da planta.\n\n* Variações ambientais: Oscilações nos valores do SAVI refletem mudanças nas condições ambientais, como variações na irrigação, chuvas, ou práticas agrícolas que afetam a vegetação.\n\n* Identificação de áreas problemáticas: Quando a análise é feita espacialmente, áreas com quedas persistentes podem indicar zonas com problemas crônicos, que precisam de intervenção específica."
          ],
          [
           "| **Tendência no Tempo**            | **Interpretação Agronômica**                                            |\n| --------------------------------- | ----------------------------------------------------------------------- |\n| **Aumento gradual dos valores**   | Crescimento e desenvolvimento saudável da vegetação, melhoria no vigor. |\n| **Estabilidade em valores altos** | Vegetação vigorosa, manutenção da saúde e cobertura adequada.           |\n| **Queda gradual dos valores**     | Início de estresse hídrico, nutricional ou fenológico (senescência).    |\n| **Queda brusca em curto período** | Estresse severo, como seca, pragas ou doenças, requer atenção imediata. |\n| **Oscilações frequentes**         | Variações ambientais ou manejo irregular, necessidade de monitoramento. |"
          ]
         ],
         "hovertemplate": "doc_type=features<br>x=%{x}<br>y=%{y}<br>z=%{z}<br>text=%{customdata[0]}<extra></extra>",
         "legendgroup": "features",
         "marker": {
          "color": "#636efa",
          "symbol": "circle"
         },
         "mode": "markers",
         "name": "features",
         "scene": "scene",
         "showlegend": true,
         "type": "scatter3d",
         "x": {
          "bdata": "9DYxguJz0r9pKBvoc7/Ev8Y06JcLcM6/Bur5ovKHyb+fc+Y/NYzTv3Ey16ciPcq/z9aP1iLg0L/mJJ4pVtfWv6SUOCSjwdC/QMak8l/Nz7+vWBxC9VrSv5o+/qQP0s2/Lp12EVzzzr8g9qaiO/zCv9+THEk/c8y/3mcNEnU7ub+DL8rvPZnIvzlLJi4YdMO/A8h0Pt/mzb+xDHO513bQv4Y3ckWdusC/n8JH2dQEyL9IVVctdlTRv9necgHwTdG/OAhRHwljz79SKNODqzfNvyeBxdooDMC/",
          "dtype": "f8"
         },
         "y": {
          "bdata": "0JC/eUkb0r9ml9Zzc2G5vx5HPxyO5cc/YR4KPiDSsj/qO8fk16u2P3sLKvY5HbC/2+67SjxSzL9d0BezcPXPv3T3xNco77G/12GBkXwPoT8izMwZdp3Dv3TXdUUUGdO/cSjeqXb3sD9upReDlmPCv6yi5rR87MC/MoEVEVQ10T+g5P686SLRP+XVo8qfdsg/Tzpw4O56yr+yddToTCbMvzkl0jMh+9Q/rqMDEx6Zzz/J/Oh7xRrHv14A+wpRNsa/V+LKhV9qxj+rTjwHX5nKP+fLyu3v2NQ/",
          "dtype": "f8"
         },
         "z": {
          "bdata": "0M2zxEhepz8eWkKatDKgv2p/kY8zEL2/URL5Ed8ppL/WV/iFy1ySv+Ruw1pUwZ0/mbmMm9+AwT9qVphCwAevPx6kLTykf6G/ZRxJZc3em7+fn2FQHlKhv6soetcJz8c/SlnVjwjUvL/Fims1WDy3P8N7njU2AbA/XsHkvor0rL9fvxkkRMyZPzc478lxurg/mRfkynbXzz/TAIwDZyHMP5Bh6xpJc22/HMsQerNQwT9mG2pG0+qgP9cv5NhR9Ze/g/ooj1Dmtb8Px7ZnMjR2v1ZkeaBUKZC/",
          "dtype": "f8"
         }
        },
        {
         "customdata": [
          [
           "# Sobre a Prediza\n* A Prediza é uma empresa de ciência da computação aplicada na agricultura, energia e meio ambiente. Apoiando nas tomadas de decisões com uso de inteligência baseada em dados do meio ambiente, do solo, da planta, do microclima e do manejo da lavoura para gerar maior rentabilidade e produtividade.\n\n## Serviços"
          ],
          [
           "## Serviços\n\n### Agricultura Preditiva\n* A Prediza desenvolve soluções de inteligência artificial e IoT para a agricultura.\n* Agricultura Preditiva - Trazendo melhores informações em tempo real para previsibilidade mais precisa de riscos.\n* Detecção de Doenças - Predizendo ocorrência de doenças como o míldio e a glomerella na videira, o ódio e a ferrugem asiática na soja e antracnose na mangueira, entre várias outras.\n* Análise de Microclima - A previsão precisa dessas ações no microclima.\n* Caderno de campo e rastreabilidade - Relatórios de atividade de manejo, página de rastreabilidade, impressão de etiquetas, QR Code, visualização de atividades.\n\n### Desenvolvimento\n* Criação de aplicações de machine learning para gerar informações e previsões precisas para seu negócio."
          ],
          [
           "### Desenvolvimento\n* Criação de aplicações de machine learning para gerar informações e previsões precisas para seu negócio.\n\n### Energia e Meio Ambiente\n* Ruído ambiental - Coleta e geração de dados que auxiliam nas decisões estratégicas que permitam a supressão dos riscos ligados à produção de ruídos através de monitoramento permanente e contínuo de ruido ambiental, geração de mapas de ruído,\n* Apontamento dos locais de riscos ambientais - Relatórios em tempo real do monitoramento de ruído.\n\n### Satelite\n\n* Muito além de imagens de NDVI, fornecemos um conjunto de índices, oriundos de satélites como Landsat e Sentinel, para acompanhar o uso do solo, a qualidade da vegetação e o ciclo fenológico de cada cultivar."
          ],
          [
           "* Tenha os principais índices, como: Índice de Vegetação De Borda Vermelha (RECl), Vegetação Ajustado Ao Solo Modificado (MSAVI), Índice De vegetação Da diferença De Verde Normalizado (GNDVI), Índice De Água Por Diferença Normalizada (NDWI), Índice De Vegetação Ajustado Ao Solo (SAVI), Índice De Vegetação Ajustado Ao Solo Otimizado (OSAVI), Índice De Vegetação Resistente À Atmosfera (ARVI) entre outros.\n\n* Outros índices Índice De Vegetação Melhorado (EVI), Índice De Queima Por Razão Normalizada (NBR), Índice De Pigmento Insensível À Estrutura (SIPI), Índice De Clorofila Verde (GCI), Índice De Neve De Diferença Normalizada (NDSI)\n## História da Prediza"
          ],
          [
           "* Pioneira em inteligência artificial, ciência de dados e internet das coisas para mapear e predizer cenários de riscos que impactam a produção agricola. Simplificamos e otimizamos a tomanda de decisão para o planejamento, gestão e manejo no campo.\n\n* Acelerada pela Ventiur Aceleradora, investida pelo Ministério de Ciência, Tecnologia e Inovação pelo programa FINEP Startup e possui o Grupo Piccin e Molinos Ca*uelas como socios investidores.\n\n## Localização\n* A Prediza está localizada no parque tecnológico, TECNOUCS, da Universidade de Caxias do Sul no Rio Grande do Sul."
          ]
         ],
         "hovertemplate": "doc_type=company<br>x=%{x}<br>y=%{y}<br>z=%{z}<br>text=%{customdata[0]}<extra></extra>",
         "legendgroup": "company",
         "marker": {
          "color": "#EF553B",
          "symbol": "circle"
         },
         "mode": "markers",
         "name": "company",
         "scene": "scene",
         "showlegend": true,
         "type": "scatter3d",
         "x": {
          "bdata": "+SVVffWdxb8pIZaV4tLIv1fKtkysGc2/KeyAgIdozr/s/BD/EcbLvw==",
          "dtype": "f8"
         },
         "y": {
          "bdata": "2+ej+FR5wz93RcEcNxK/P/GEoC6Vh6c/HvM7aQ5mu79Oxf6bRAHDPw==",
          "dtype": "f8"
         },
         "z": {
          "bdata": "r4SUn51+tD+IK7dZqCOLPyLIxlngqbs/UimOk4bLwD/oT5pHGneqvw==",
          "dtype": "f8"
         }
        },
        {
         "customdata": [
          [
           "id: 1\nfaixa_gndvi: < 0\ninterpretacao: Água, solo nu, sombra\nindicativos: ['Encharcamento', 'Ausência de vegetação', 'Sombra mal corrigida']"
          ],
          [
           "id: 2\nfaixa_gndvi: 0 – 0.2\ninterpretacao: Solo exposto, vegetação rala ou danificada\nindicativos: ['Falha de emergência', 'Estresse hídrico severo', 'Deficiência nutricional aguda']"
          ],
          [
           "id: 3\nfaixa_gndvi: 0.2 – 0.4\ninterpretacao: Vegetação esparsa ou em desenvolvimento inicial\nindicativos: ['Áreas com deficiência moderada de nutrientes (ex: N)', 'Compactação do solo', 'Estresse precoce por pragas/doenças']"
          ],
          [
           "id: 4\nfaixa_gndvi: 0.4 – 0.6\ninterpretacao: Vegetação saudável/moderadamente vigorosa\nindicativos: ['Estado nutricional adequado ou ligeiramente abaixo do ideal', 'Importante monitorar a evolução ao longo do tempo']"
          ],
          [
           "id: 5\nfaixa_gndvi: > 0.6\ninterpretacao: Vegetação densa e com alta atividade fotossintética\nindicativos: ['Estado nutricional excelente', 'Áreas com alto teor de clorofila e crescimento vigoroso', 'Possibilidade de competição entre plantas (ex: matocompetição em bordas ou falhas)']"
          ]
         ],
         "hovertemplate": "doc_type=gndvi_interpretation<br>x=%{x}<br>y=%{y}<br>z=%{z}<br>text=%{customdata[0]}<extra></extra>",
         "legendgroup": "gndvi_interpretation",
         "marker": {
          "color": "#00cc96",
          "symbol": "circle"
         },
         "mode": "markers",
         "name": "gndvi_interpretation",
         "scene": "scene",
         "showlegend": true,
         "type": "scatter3d",
         "x": {
          "bdata": "8DsfEJBLwz/1v6bbJ1DCP5KzsRYmu58/g/ZbB9+Xtz+DNz7F3tGqPw==",
          "dtype": "f8"
         },
         "y": {
          "bdata": "6i6fW7aAvL8lIRhLGpO3v0MajjPzF72/F094NAY0pb/i/PxiTl68vw==",
          "dtype": "f8"
         },
         "z": {
          "bdata": "/vNgZZNIrz815KkonReXPx18CZBUm5O/QVUeMQ9NsL+lGe7yQcO4vw==",
          "dtype": "f8"
         }
        },
        {
         "customdata": [
          [
           "id: 1\nfaixa_osavi: < 0.0\ncor_imagem: Roxo\ninterpretacao_agronomica: Áreas sem vegetação ou com excesso de água/sombra"
          ],
          [
           "id: 2\nfaixa_osavi: 0.0 – 0.25\ncor_imagem: Vermelho/laranja\ninterpretacao_agronomica: Falhas de plantio, vegetação muito rala, solo exposto"
          ],
          [
           "id: 3\nfaixa_osavi: 0.25 – 0.50\ncor_imagem: Amarelo\ninterpretacao_agronomica: Estabelecimento inicial da cultura ou estresse leve"
          ],
          [
           "id: 4\nfaixa_osavi: 0.50 – 0.75\ncor_imagem: Verde claro\ninterpretacao_agronomica: Vegetação em crescimento, desenvolvimento moderado"
          ],
          [
           "id: 5\nfaixa_osavi: > 0.75\ncor_imagem: Verde escuro/azul\ninterpretacao_agronomica: Vigor vegetal elevado, cobertura densa e saudável"
          ]
         ],
         "hovertemplate": "doc_type=osavi_interpretation<br>x=%{x}<br>y=%{y}<br>z=%{z}<br>text=%{customdata[0]}<extra></extra>",
         "legendgroup": "osavi_interpretation",
         "marker": {
          "color": "#ab63fa",
          "symbol": "circle"
         },
         "mode": "markers",
         "name": "osavi_interpretation",
         "scene": "scene",
         "showlegend": true,
         "type": "scatter3d",
         "x": {
          "bdata": "6WpxAdHysj/NthKPPZ62P9sU8dtcn8M/Ic60LyEbtT/YKZnUcKW+Pw==",
          "dtype": "f8"
         },
         "y": {
          "bdata": "eUvB10k+qr9jj+wwi9m/vwSVXQEUTZu/jeqjgYMXtb9qUpyipRyzvw==",
          "dtype": "f8"
         },
         "z": {
          "bdata": "Eg2nmajyx7/Uy2sE+3bMv7Tp0euCjMq/idslVKJCzr8qJHVtOgDNvw==",
          "dtype": "f8"
         }
        },
        {
         "customdata": [
          [
           "id: 1\nfaixa_ndwi: Valores altos (0.5 a 1)\ncor_tipica: Verde forte/azul claro\ninterpretacao: Indica alta umidade, presença de água ou vegetação saudável"
          ],
          [
           "id: 2\nfaixa_ndwi: Valores médios (0 a 0.5)\ncor_tipica: Verde claro a amarelo\ninterpretacao: Umidade moderada, possível estresse hídrico inicial"
          ],
          [
           "id: 3\nfaixa_ndwi: Valores baixos (< 0)\ncor_tipica: Marrom, vermelho\ninterpretacao: Solo seco, áreas sem água ou vegetação com estresse severo"
          ]
         ],
         "hovertemplate": "doc_type=ndwi_interpretation<br>x=%{x}<br>y=%{y}<br>z=%{z}<br>text=%{customdata[0]}<extra></extra>",
         "legendgroup": "ndwi_interpretation",
         "marker": {
          "color": "#FFA15A",
          "symbol": "circle"
         },
         "mode": "markers",
         "name": "ndwi_interpretation",
         "scene": "scene",
         "showlegend": true,
         "type": "scatter3d",
         "x": {
          "bdata": "Ml082pi0wT+wjCBLJX/GP40PcLi6Rbc/",
          "dtype": "f8"
         },
         "y": {
          "bdata": "+xUAkJrUwr+nYbOtc+zCv53CCZ67GcC/",
          "dtype": "f8"
         },
         "z": {
          "bdata": "HV/uOnXsmz+FVPKjEr6zP09AW2cNYKI/",
          "dtype": "f8"
         }
        },
        {
         "customdata": [
          [
           "id: 1\nfaixa_tendencia: < 0.3\ninterpretacao: Baixa clorofila\nacoes_recomendadas: Aplicar fertilizante nitrogenado; análise foliar"
          ],
          [
           "id: 2\nfaixa_tendencia: 0.3 – 0.5\ninterpretacao: Crescimento inicial\nacoes_recomendadas: Monitorar disponibilidade hídrica e nutrientes"
          ],
          [
           "id: 3\nfaixa_tendencia: 0.5 – 0.7\ninterpretacao: Boa condição nutricional\nacoes_recomendadas: Manter adubação e irrigação planejada"
          ],
          [
           "id: 4\nfaixa_tendencia: > 0.7\ninterpretacao: Alta atividade fotossintética\nacoes_recomendadas: Acompanhar para evitar desequilíbrios nutricionais"
          ],
          [
           "id: 5\nfaixa_tendencia: Queda precoce\ninterpretacao: Estresse hídrico/nutricional\nacoes_recomendadas: Realizar diagnóstico rápido e correções pontuais"
          ]
         ],
         "hovertemplate": "doc_type=gndvi_insights<br>x=%{x}<br>y=%{y}<br>z=%{z}<br>text=%{customdata[0]}<extra></extra>",
         "legendgroup": "gndvi_insights",
         "marker": {
          "color": "#19d3f3",
          "symbol": "circle"
         },
         "mode": "markers",
         "name": "gndvi_insights",
         "scene": "scene",
         "showlegend": true,
         "type": "scatter3d",
         "x": {
          "bdata": "4urY+MKhyj/vn2/esqPNPzHgLnvpU8o/zdH1W2XnzT84EgLHzUPLPw==",
          "dtype": "f8"
         },
         "y": {
          "bdata": "k5bHRC50wL8k7B1lBKOUv0gkIL2jYZU/lWAc8hFjnD8Sf7b+EFG8Pw==",
          "dtype": "f8"
         },
         "z": {
          "bdata": "7f9N+bunpz/fW759IMfCP+ldLAYMsag/AWI0KV4Xez/G0oOE5qPHPw==",
          "dtype": "f8"
         }
        },
        {
         "customdata": [
          [
           "id: 1\nestagio_fenologico: 1. Plantio / Pré-emergência\nfaixa_osavi: < 0.20\ninterpretacao: Solo exposto; ausência de biomassa verde\naplicacoes_praticas: Mapear falhas de plantio; estabelecer linha de base do índice"
          ],
          [
           "id: 2\nestagio_fenologico: 2. Emergência / Estabelecimento\nfaixa_osavi: 0.20 – 0.40\ninterpretacao: Início da cobertura vegetal; possível presença de reboleiras\naplicacoes_praticas: Avaliar qualidade da emergência; detectar áreas com atraso no desenvolvimento"
          ],
          [
           "id: 3\nestagio_fenologico: 3. Crescimento Vegetativo\nfaixa_osavi: 0.40 – 0.70\ninterpretacao: Aumento da densidade foliar e fotossíntese ativa; cobertura significativa do solo\naplicacoes_praticas: Monitorar vigor da cultura; verificar resposta à adubação; identificar estresse por compactação ou competição"
          ],
          [
           "id: 4\nestagio_fenologico: 4. Florescimento / Pico de Vigor\nfaixa_osavi: 0.70 – 0.80\ninterpretacao: Máximo desenvolvimento da biomassa verde; fase crítica para produtividade\naplicacoes_praticas: Comparar com safras anteriores; prever produtividade"
          ],
          [
           "id: 5\nestagio_fenologico: 5. Enchimento de Grãos / Início da Senescência\nfaixa_osavi: 0.50 – 0.70\ninterpretacao: Início da perda de clorofila; folhas começam a amarelecer\naplicacoes_praticas: Avaliar antecipação de estresse; acompanhar declínio natural da cultura"
          ],
          [
           "id: 6\nestagio_fenologico: 6. Maturação / Pré-colheita\nfaixa_osavi: < 0.30\ninterpretacao: Senescência completa; fim do ciclo vegetativo\naplicacoes_praticas: Indicar o momento ideal de colheita; confirmar final do ciclo produtivo"
          ]
         ],
         "hovertemplate": "doc_type=osavi_fenologico<br>x=%{x}<br>y=%{y}<br>z=%{z}<br>text=%{customdata[0]}<extra></extra>",
         "legendgroup": "osavi_fenologico",
         "marker": {
          "color": "#FF6692",
          "symbol": "circle"
         },
         "mode": "markers",
         "name": "osavi_fenologico",
         "scene": "scene",
         "showlegend": true,
         "type": "scatter3d",
         "x": {
          "bdata": "yYlTO3UCtD8w3L/mW+q+P6ier55by7o/SsGBWA3TuT/gAidph73EPzwVrFwaP7g/",
          "dtype": "f8"
         },
         "y": {
          "bdata": "VkkBy/Yrcb/YbYKmSvpzvyqVMS6p8qi/o+ygh4pXc7/TNvnEzWKQvyYpjd3nGKY/",
          "dtype": "f8"
         },
         "z": {
          "bdata": "x4Qh4tG/ib/TAStF+g2tP1dhpP7CcaG/LJqhloeSmb9eQObhQxq7P6VSMNU+C7M/",
          "dtype": "f8"
         }
        },
        {
         "customdata": [
          [
           "id: 1\nfaixa_tendencia: < 0\ninterpretacao: Solo seco ou baixa umidade\nacoes_recomendadas: Avaliar necessidade de irrigação urgente"
          ],
          [
           "id: 2\nfaixa_tendencia: 0 – 0.2\ninterpretacao: Pouca água nas plantas\nacoes_recomendadas: Reforçar irrigação ou revisar sistema de drenagem"
          ],
          [
           "id: 3\nfaixa_tendencia: 0.2 – 0.5\ninterpretacao: Boa condição hídrica\nacoes_recomendadas: Continuar monitoramento diário"
          ],
          [
           "id: 4\nfaixa_tendencia: > 0.5\ninterpretacao: Alta retenção hídrica\nacoes_recomendadas: Evitar excesso de irrigação, observar doenças fúngicas"
          ],
          [
           "id: 5\nfaixa_tendencia: Queda súbita\ninterpretacao: Estresse hídrico agudo\nacoes_recomendadas: Ação imediata com irrigação de emergência"
          ]
         ],
         "hovertemplate": "doc_type=ndwi_insights<br>x=%{x}<br>y=%{y}<br>z=%{z}<br>text=%{customdata[0]}<extra></extra>",
         "legendgroup": "ndwi_insights",
         "marker": {
          "color": "#B6E880",
          "symbol": "circle"
         },
         "mode": "markers",
         "name": "ndwi_insights",
         "scene": "scene",
         "showlegend": true,
         "type": "scatter3d",
         "x": {
          "bdata": "6IRPY3Mpzj8q1y6XpxvEPxZx3j9w7M8/Tmv7gQqXyj+7qzWmJVXMPw==",
          "dtype": "f8"
         },
         "y": {
          "bdata": "rsg+71sVsz/0tJGJ64ShP6KMu1rGDni/g1HtUacOpD9RB4dfqme7Pw==",
          "dtype": "f8"
         },
         "z": {
          "bdata": "JXVTP7X+tz8LVR8V8j65P8OSEr6SzsQ/0Q7euVMlsj+RRN7R8XLCPw==",
          "dtype": "f8"
         }
        },
        {
         "customdata": [
          [
           "id: 2\nfaixa_ndvi: 0 – 0.2\nvigor_vegetativo: Solo exposto ou vegetação muito rala\nindicativos: Reboleiras com falha total ou parcial de germinação\nCompactação do solo\nAtaques iniciais de pragas\nDeficiência hídrica ou salinidade\nrecomendacao: desconhecida"
          ],
          [
           "id: 1\nfaixa_ndvi: < 0\nvigor_vegetativo: Água, solo nu, sombra\nindicativos: Possível falha grave de plantio\nEncharcamento (ponto de acúmulo de água)\nSombras mal corrigidas na imagem\nrecomendacao: Verificar plantio, replantar áreas com falhas"
          ],
          [
           "id: 5\nfaixa_ndvi: > 0.8\nvigor_vegetativo: Vegetação extremamente densa (Florestas)\nindicativos: Pode indicar matocompetição (plantas daninhas vigorosas)\nÁreas fora do padrão do cultivo (ex: bordaduras, vegetação nativa não removida)\nSaturação do sensor em culturas muito densas (ex: cana em estádio avançado)\nrecomendacao: Avaliar se há sombreamento excessivo ou competição por recursos"
          ],
          [
           "id: 3\nfaixa_ndvi: 0.2 – 0.5\nvigor_vegetativo: Vegetação esparsa ou em crescimento inicial\nindicativos: Áreas com atraso no desenvolvimento\nEstresse por nutrientes\nDanos por herbicidas\nInfestação leve a moderada por pragas/doenças\nrecomendacao: Monitorar irrigação e nutrição; aplicar fertilizantes se necessário"
          ],
          [
           "id: 4\nfaixa_ndvi: 0.5 – 0.8\nvigor_vegetativo: Vegetação saudável (esperado para lavoura vigorosa)\nindicativos: Padrão ideal na maioria dos cultivos anuais\nSe houver reboleiras com valores mais baixos ao redor, investigar causa\nrecomendacao: Manter manejo atual, possível início de adubação de cobertura"
          ]
         ],
         "hovertemplate": "doc_type=ndvi_interpretation<br>x=%{x}<br>y=%{y}<br>z=%{z}<br>text=%{customdata[0]}<extra></extra>",
         "legendgroup": "ndvi_interpretation",
         "marker": {
          "color": "#FF97FF",
          "symbol": "circle"
         },
         "mode": "markers",
         "name": "ndvi_interpretation",
         "scene": "scene",
         "showlegend": true,
         "type": "scatter3d",
         "x": {
          "bdata": "NvTlAljdfj8cqagT8wWlP+Jv+oqtr6i/84EQNzkllr90hM0Y9ESXPw==",
          "dtype": "f8"
         },
         "y": {
          "bdata": "OfJIKQwmtb8jpTdna/W4vwBaW487K2y/lXwz9y0RsL8J8LsUTUtwvw==",
          "dtype": "f8"
         },
         "z": {
          "bdata": "UXrdnStLnb9xAaDigJuiv16irSqkD7a/St782r7PtL8FP1MJz7zAvw==",
          "dtype": "f8"
         }
        },
        {
         "customdata": [
          [
           "id: 1\nfaixa_tendencia: < 0.2\ninterpretacao: Vegetação escassa\nacoes_recomendadas: Verificar germinação ou falhas no estabelecimento"
          ],
          [
           "id: 2\nfaixa_tendencia: 0.2 – 0.4\ninterpretacao: Estágio inicial ou estresse leve\nacoes_recomendadas: Aplicar insumos corretivos (água, fertilizantes)"
          ],
          [
           "id: 3\nfaixa_tendencia: 0.4 – 0.6\ninterpretacao: Desenvolvimento satisfatório\nacoes_recomendadas: Monitorar clima e pragas, manter adubação equilibrada"
          ],
          [
           "id: 4\nfaixa_tendencia: > 0.6\ninterpretacao: Vigor alto, pouca interferência do solo\nacoes_recomendadas: Otimizar o uso de insumos e manejo de cobertura"
          ],
          [
           "id: 5\nfaixa_tendencia: Pico mantido por tempo\ninterpretacao: Vigor prolongado\nacoes_recomendadas: Potencial para boa produtividade, considerar colheita escalonada"
          ]
         ],
         "hovertemplate": "doc_type=osavi_insights<br>x=%{x}<br>y=%{y}<br>z=%{z}<br>text=%{customdata[0]}<extra></extra>",
         "legendgroup": "osavi_insights",
         "marker": {
          "color": "#FECB52",
          "symbol": "circle"
         },
         "mode": "markers",
         "name": "osavi_insights",
         "scene": "scene",
         "showlegend": true,
         "type": "scatter3d",
         "x": {
          "bdata": "SSZpggQNzD+X5yWCFiHMPzX6zPNcVss/LJiF4F370T+Prm3iwLPKPw==",
          "dtype": "f8"
         },
         "y": {
          "bdata": "tMR7rfGXgT9zLevWIGutP+v4sLZXtpE/rGeJ19YiuT+aF6k2f9jBPw==",
          "dtype": "f8"
         },
         "z": {
          "bdata": "oObmskyGlr+C+SkSSp21P4gppG1NJL4/HlVqPNlisz/OtzB6i0bBPw==",
          "dtype": "f8"
         }
        },
        {
         "customdata": [
          [
           "id: 1\nfaixa_valores: < 0\ncor_visual: Azul, roxo (água, sombra, sem vegetação)\ninterpretacao_agronomica: Solo exposto, áreas sem vegetação, ou água."
          ],
          [
           "id: 2\nfaixa_valores: 0 a 0.2\ncor_visual: Vermelho escuro a marrom\ninterpretacao_agronomica: Vegetação muito esparsa, solo exposto predominante."
          ],
          [
           "id: 3\nfaixa_valores: 0.2 a 0.4\ncor_visual: Laranja a amarelo claro\ninterpretacao_agronomica: Vegetação inicial, baixa densidade, possível estresse ou solo visível."
          ],
          [
           "id: 4\nfaixa_valores: 0.4 a 0.6\ncor_visual: Verde claro a médio\ninterpretacao_agronomica: Vegetação moderada, vigor razoável, bom desenvolvimento inicial."
          ],
          [
           "id: 5\nfaixa_valores: 0.6 a 1.0\ncor_visual: Verde escuro\ninterpretacao_agronomica: Vegetação densa e saudável, bom vigor e cobertura vegetal."
          ]
         ],
         "hovertemplate": "doc_type=savi_interpretation<br>x=%{x}<br>y=%{y}<br>z=%{z}<br>text=%{customdata[0]}<extra></extra>",
         "legendgroup": "savi_interpretation",
         "marker": {
          "color": "#636efa",
          "symbol": "circle"
         },
         "mode": "markers",
         "name": "savi_interpretation",
         "scene": "scene",
         "showlegend": true,
         "type": "scatter3d",
         "x": {
          "bdata": "YwLCymx4rj/pLRbFZBa4P2Qqz2si6bg/kAV6u5Xluz8ua/FOvHi2Pw==",
          "dtype": "f8"
         },
         "y": {
          "bdata": "9Yc2A91Wsb8ANPEiiiCkv6UQvVypIK6/qwhZ3fNTpb9tNa98xayivw==",
          "dtype": "f8"
         },
         "z": {
          "bdata": "M7e5ahZVxL9MD5/ZcIDMvzPP9tt3isu/V18LPsxozb8gcT+v6V3Lvw==",
          "dtype": "f8"
         }
        },
        {
         "customdata": [
          [
           "id: 1\nfaixa_recl: 0.00 – 0.30\ncor_mapa: Vermelho escuro\ninterpretacao_agronomica: Baixo teor de clorofila – estresse severo, deficiência nutricional acentuada"
          ],
          [
           "id: 2\nfaixa_recl: 0.30 – 0.50\ncor_mapa: Vermelho/laranja forte\ninterpretacao_agronomica: Moderado teor de clorofila – possível início de estresse ou limitação nutricional"
          ],
          [
           "id: 3\nfaixa_recl: 0.50 – 0.70\ncor_mapa: Laranja claro\ninterpretacao_agronomica: Níveis adequados de clorofila – desenvolvimento razoável"
          ],
          [
           "id: 4\nfaixa_recl: 0.70 – 1.00\ncor_mapa: Amarelo/laranja claro\ninterpretacao_agronomica: Alto teor de clorofila – vegetação vigorosa, bem nutrida e saudável"
          ]
         ],
         "hovertemplate": "doc_type=recl_interpretation<br>x=%{x}<br>y=%{y}<br>z=%{z}<br>text=%{customdata[0]}<extra></extra>",
         "legendgroup": "recl_interpretation",
         "marker": {
          "color": "#EF553B",
          "symbol": "circle"
         },
         "mode": "markers",
         "name": "recl_interpretation",
         "scene": "scene",
         "showlegend": true,
         "type": "scatter3d",
         "x": {
          "bdata": "TAlXqq95tj8QVEgwIBO1P9nG46l3vLA/5vvzG29IpT8=",
          "dtype": "f8"
         },
         "y": {
          "bdata": "4wQWK3Wnv7+x+v2SlYy8vw0GSh7HxcO/X7y5g6bmtr8=",
          "dtype": "f8"
         },
         "z": {
          "bdata": "RDptYqMxxb9KytRQsoy/v8DeHo2HYL+/T+TwiPrTyL8=",
          "dtype": "f8"
         }
        },
        {
         "customdata": [
          [
           "id: 1\npadrao_tendencia: Pico antecipado seguido de queda\nsignificado_agronomico: Crescimento rápido fora do padrão esperado – pode indicar florescimento precoce ou uso excessivo de insumos\nacoes_possiveis: Reavaliar adubação e calendário fenológico"
          ],
          [
           "id: 2\npadrao_tendencia: Estagnação após crescimento inicial\nsignificado_agronomico: Falta de avanço no desenvolvimento – possível limitação nutricional, hídrica ou compactação de solo\nacoes_possiveis: Diagnóstico de solo, irrigação ou aplicação de fertilizantes corretivos"
          ],
          [
           "id: 3\npadrao_tendencia: Quedas sazonais cíclicas\nsignificado_agronomico: Oscilações naturais em culturas perenes (ex: poda ou manejo periódico)\nacoes_possiveis: Monitorar padrões históricos e evitar interpretações incorretas de estresse"
          ],
          [
           "id: 4\npadrao_tendencia: Valores persistentemente baixos em talhões específicos\nsignificado_agronomico: Áreas com histórico de baixa produtividade ou má formação do solo\nacoes_possiveis: Investigar causas estruturais e considerar manejo diferenciado (zoneamento produtivo)"
          ],
          [
           "id: 5\npadrao_tendencia: Curva com variação abrupta sem padrão climático associado\nsignificado_agronomico: Indício de falha técnica: problemas com sensor, nuvens ou má calibração\nacoes_possiveis: Validar com observações em campo ou nova aquisição de imagens"
          ],
          [
           "id: 6\npadrao_tendencia: Redução antes do esperado para o ciclo da cultura\nsignificado_agronomico: Indício precoce de estresse ou antecipação de maturação\nacoes_possiveis: Ação preventiva com irrigação, defensivos ou antecipação da colheita"
          ]
         ],
         "hovertemplate": "doc_type=savi_insights<br>x=%{x}<br>y=%{y}<br>z=%{z}<br>text=%{customdata[0]}<extra></extra>",
         "legendgroup": "savi_insights",
         "marker": {
          "color": "#00cc96",
          "symbol": "circle"
         },
         "mode": "markers",
         "name": "savi_insights",
         "scene": "scene",
         "showlegend": true,
         "type": "scatter3d",
         "x": {
          "bdata": "aoXZP4oynb/+5Ne7w2mEP5x669vAVIq/Zt3OPithqb9xYzbmh9irvza1yoHP9qO/",
          "dtype": "f8"
         },
         "y": {
          "bdata": "I7dgEbTY0T+OYkRw+PHMP7ZgyUH3S88/FIj3D09Yzz9DLuTSARLIP/kNC0oTstM/",
          "dtype": "f8"
         },
         "z": {
          "bdata": "70jw+kC6nL9yy1h89oafv/SKPMoX75u/91y63V/PuL8G80oI382mP46VD5ekI5M/",
          "dtype": "f8"
         }
        },
        {
         "customdata": [
          [
           "id: 1\nfaixa_tendencia: < 0.3\ninterpretacao: Baixa clorofila\nacoes_recomendadas: Aplicar nitrogênio ou corrigir deficiência nutricional"
          ],
          [
           "id: 2\nfaixa_tendencia: 0.3 – 0.6\ninterpretacao: Clorofila em níveis médios\nacoes_recomendadas: Monitorar crescimento e ajustar adubação"
          ],
          [
           "id: 3\nfaixa_tendencia: 0.6 – 0.8\ninterpretacao: Boa nutrição e vigor\nacoes_recomendadas: Manter práticas atuais, otimizar adubação de cobertura"
          ],
          [
           "id: 4\nfaixa_tendencia: > 0.8\ninterpretacao: Alto teor de clorofila\nacoes_recomendadas: Avaliar possível superdosagem de N ou alta densidade"
          ],
          [
           "id: 5\nfaixa_tendencia: Queda antecipada\ninterpretacao: Senescência precoce\nacoes_recomendadas: Verificar pragas, doenças ou estresse hídrico"
          ]
         ],
         "hovertemplate": "doc_type=recl_insights<br>x=%{x}<br>y=%{y}<br>z=%{z}<br>text=%{customdata[0]}<extra></extra>",
         "legendgroup": "recl_insights",
         "marker": {
          "color": "#ab63fa",
          "symbol": "circle"
         },
         "mode": "markers",
         "name": "recl_insights",
         "scene": "scene",
         "showlegend": true,
         "type": "scatter3d",
         "x": {
          "bdata": "jGwP1tgmzT8FXwft1pnNPy3A3dULN9A/pIaGzzoCzD8fKTh2VWTQPw==",
          "dtype": "f8"
         },
         "y": {
          "bdata": "gZhSVoJpvr+PG+PyegK4v5fheVaCS58/So6rB0LUub94BnzTvXjCPw==",
          "dtype": "f8"
         },
         "z": {
          "bdata": "8Hpb3Md6sj/DDvwqQ8jDP3a4w9FT+5g/J64BKO2RtT+z4ahsAyPMPw==",
          "dtype": "f8"
         }
        }
       ],
       "layout": {
        "legend": {
         "title": {
          "text": "doc_type"
         },
         "tracegroupgap": 0
        },
        "scene": {
         "domain": {
          "x": [
           0,
           1
          ],
          "y": [
           0,
           1
          ]
         },
         "xaxis": {
          "title": {
           "text": "x"
          }
         },
         "yaxis": {
          "title": {
           "text": "y"
          }
         },
         "zaxis": {
          "title": {
           "text": "z"
          }
         }
        },
        "template": {
         "data": {
          "bar": [
           {
            "error_x": {
             "color": "#2a3f5f"
            },
            "error_y": {
             "color": "#2a3f5f"
            },
            "marker": {
             "line": {
              "color": "#E5ECF6",
              "width": 0.5
             },
             "pattern": {
              "fillmode": "overlay",
              "size": 10,
              "solidity": 0.2
             }
            },
            "type": "bar"
           }
          ],
          "barpolar": [
           {
            "marker": {
             "line": {
              "color": "#E5ECF6",
              "width": 0.5
             },
             "pattern": {
              "fillmode": "overlay",
              "size": 10,
              "solidity": 0.2
             }
            },
            "type": "barpolar"
           }
          ],
          "carpet": [
           {
            "aaxis": {
             "endlinecolor": "#2a3f5f",
             "gridcolor": "white",
             "linecolor": "white",
             "minorgridcolor": "white",
             "startlinecolor": "#2a3f5f"
            },
            "baxis": {
             "endlinecolor": "#2a3f5f",
             "gridcolor": "white",
             "linecolor": "white",
             "minorgridcolor": "white",
             "startlinecolor": "#2a3f5f"
            },
            "type": "carpet"
           }
          ],
          "choropleth": [
           {
            "colorbar": {
             "outlinewidth": 0,
             "ticks": ""
            },
            "type": "choropleth"
           }
          ],
          "contour": [
           {
            "colorbar": {
             "outlinewidth": 0,
             "ticks": ""
            },
            "colorscale": [
             [
              0,
              "#0d0887"
             ],
             [
              0.1111111111111111,
              "#46039f"
             ],
             [
              0.2222222222222222,
              "#7201a8"
             ],
             [
              0.3333333333333333,
              "#9c179e"
             ],
             [
              0.4444444444444444,
              "#bd3786"
             ],
             [
              0.5555555555555556,
              "#d8576b"
             ],
             [
              0.6666666666666666,
              "#ed7953"
             ],
             [
              0.7777777777777778,
              "#fb9f3a"
             ],
             [
              0.8888888888888888,
              "#fdca26"
             ],
             [
              1,
              "#f0f921"
             ]
            ],
            "type": "contour"
           }
          ],
          "contourcarpet": [
           {
            "colorbar": {
             "outlinewidth": 0,
             "ticks": ""
            },
            "type": "contourcarpet"
           }
          ],
          "heatmap": [
           {
            "colorbar": {
             "outlinewidth": 0,
             "ticks": ""
            },
            "colorscale": [
             [
              0,
              "#0d0887"
             ],
             [
              0.1111111111111111,
              "#46039f"
             ],
             [
              0.2222222222222222,
              "#7201a8"
             ],
             [
              0.3333333333333333,
              "#9c179e"
             ],
             [
              0.4444444444444444,
              "#bd3786"
             ],
             [
              0.5555555555555556,
              "#d8576b"
             ],
             [
              0.6666666666666666,
              "#ed7953"
             ],
             [
              0.7777777777777778,
              "#fb9f3a"
             ],
             [
              0.8888888888888888,
              "#fdca26"
             ],
             [
              1,
              "#f0f921"
             ]
            ],
            "type": "heatmap"
           }
          ],
          "histogram": [
           {
            "marker": {
             "pattern": {
              "fillmode": "overlay",
              "size": 10,
              "solidity": 0.2
             }
            },
            "type": "histogram"
           }
          ],
          "histogram2d": [
           {
            "colorbar": {
             "outlinewidth": 0,
             "ticks": ""
            },
            "colorscale": [
             [
              0,
              "#0d0887"
             ],
             [
              0.1111111111111111,
              "#46039f"
             ],
             [
              0.2222222222222222,
              "#7201a8"
             ],
             [
              0.3333333333333333,
              "#9c179e"
             ],
             [
              0.4444444444444444,
              "#bd3786"
             ],
             [
              0.5555555555555556,
              "#d8576b"
             ],
             [
              0.6666666666666666,
              "#ed7953"
             ],
             [
              0.7777777777777778,
              "#fb9f3a"
             ],
             [
              0.8888888888888888,
              "#fdca26"
             ],
             [
              1,
              "#f0f921"
             ]
            ],
            "type": "histogram2d"
           }
          ],
          "histogram2dcontour": [
           {
            "colorbar": {
             "outlinewidth": 0,
             "ticks": ""
            },
            "colorscale": [
             [
              0,
              "#0d0887"
             ],
             [
              0.1111111111111111,
              "#46039f"
             ],
             [
              0.2222222222222222,
              "#7201a8"
             ],
             [
              0.3333333333333333,
              "#9c179e"
             ],
             [
              0.4444444444444444,
              "#bd3786"
             ],
             [
              0.5555555555555556,
              "#d8576b"
             ],
             [
              0.6666666666666666,
              "#ed7953"
             ],
             [
              0.7777777777777778,
              "#fb9f3a"
             ],
             [
              0.8888888888888888,
              "#fdca26"
             ],
             [
              1,
              "#f0f921"
             ]
            ],
            "type": "histogram2dcontour"
           }
          ],
          "mesh3d": [
           {
            "colorbar": {
             "outlinewidth": 0,
             "ticks": ""
            },
            "type": "mesh3d"
           }
          ],
          "parcoords": [
           {
            "line": {
             "colorbar": {
              "outlinewidth": 0,
              "ticks": ""
             }
            },
            "type": "parcoords"
           }
          ],
          "pie": [
           {
            "automargin": true,
            "type": "pie"
           }
          ],
          "scatter": [
           {
            "fillpattern": {
             "fillmode": "overlay",
             "size": 10,
             "solidity": 0.2
            },
            "type": "scatter"
           }
          ],
          "scatter3d": [
           {
            "line": {
             "colorbar": {
              "outlinewidth": 0,
              "ticks": ""
             }
            },
            "marker": {
             "colorbar": {
              "outlinewidth": 0,
              "ticks": ""
             }
            },
            "type": "scatter3d"
           }
          ],
          "scattercarpet": [
           {
            "marker": {
             "colorbar": {
              "outlinewidth": 0,
              "ticks": ""
             }
            },
            "type": "scattercarpet"
           }
          ],
          "scattergeo": [
           {
            "marker": {
             "colorbar": {
              "outlinewidth": 0,
              "ticks": ""
             }
            },
            "type": "scattergeo"
           }
          ],
          "scattergl": [
           {
            "marker": {
             "colorbar": {
              "outlinewidth": 0,
              "ticks": ""
             }
            },
            "type": "scattergl"
           }
          ],
          "scattermap": [
           {
            "marker": {
             "colorbar": {
              "outlinewidth": 0,
              "ticks": ""
             }
            },
            "type": "scattermap"
           }
          ],
          "scattermapbox": [
           {
            "marker": {
             "colorbar": {
              "outlinewidth": 0,
              "ticks": ""
             }
            },
            "type": "scattermapbox"
           }
          ],
          "scatterpolar": [
           {
            "marker": {
             "colorbar": {
              "outlinewidth": 0,
              "ticks": ""
             }
            },
            "type": "scatterpolar"
           }
          ],
          "scatterpolargl": [
           {
            "marker": {
             "colorbar": {
              "outlinewidth": 0,
              "ticks": ""
             }
            },
            "type": "scatterpolargl"
           }
          ],
          "scatterternary": [
           {
            "marker": {
             "colorbar": {
              "outlinewidth": 0,
              "ticks": ""
             }
            },
            "type": "scatterternary"
           }
          ],
          "surface": [
           {
            "colorbar": {
             "outlinewidth": 0,
             "ticks": ""
            },
            "colorscale": [
             [
              0,
              "#0d0887"
             ],
             [
              0.1111111111111111,
              "#46039f"
             ],
             [
              0.2222222222222222,
              "#7201a8"
             ],
             [
              0.3333333333333333,
              "#9c179e"
             ],
             [
              0.4444444444444444,
              "#bd3786"
             ],
             [
              0.5555555555555556,
              "#d8576b"
             ],
             [
              0.6666666666666666,
              "#ed7953"
             ],
             [
              0.7777777777777778,
              "#fb9f3a"
             ],
             [
              0.8888888888888888,
              "#fdca26"
             ],
             [
              1,
              "#f0f921"
             ]
            ],
            "type": "surface"
           }
          ],
          "table": [
           {
            "cells": {
             "fill": {
              "color": "#EBF0F8"
             },
             "line": {
              "color": "white"
             }
            },
            "header": {
             "fill": {
              "color": "#C8D4E3"
             },
             "line": {
              "color": "white"
             }
            },
            "type": "table"
           }
          ]
         },
         "layout": {
          "annotationdefaults": {
           "arrowcolor": "#2a3f5f",
           "arrowhead": 0,
           "arrowwidth": 1
          },
          "autotypenumbers": "strict",
          "coloraxis": {
           "colorbar": {
            "outlinewidth": 0,
            "ticks": ""
           }
          },
          "colorscale": {
           "diverging": [
            [
             0,
             "#8e0152"
            ],
            [
             0.1,
             "#c51b7d"
            ],
            [
             0.2,
             "#de77ae"
            ],
            [
             0.3,
             "#f1b6da"
            ],
            [
             0.4,
             "#fde0ef"
            ],
            [
             0.5,
             "#f7f7f7"
            ],
            [
             0.6,
             "#e6f5d0"
            ],
            [
             0.7,
             "#b8e186"
            ],
            [
             0.8,
             "#7fbc41"
            ],
            [
             0.9,
             "#4d9221"
            ],
            [
             1,
             "#276419"
            ]
           ],
           "sequential": [
            [
             0,
             "#0d0887"
            ],
            [
             0.1111111111111111,
             "#46039f"
            ],
            [
             0.2222222222222222,
             "#7201a8"
            ],
            [
             0.3333333333333333,
             "#9c179e"
            ],
            [
             0.4444444444444444,
             "#bd3786"
            ],
            [
             0.5555555555555556,
             "#d8576b"
            ],
            [
             0.6666666666666666,
             "#ed7953"
            ],
            [
             0.7777777777777778,
             "#fb9f3a"
            ],
            [
             0.8888888888888888,
             "#fdca26"
            ],
            [
             1,
             "#f0f921"
            ]
           ],
           "sequentialminus": [
            [
             0,
             "#0d0887"
            ],
            [
             0.1111111111111111,
             "#46039f"
            ],
            [
             0.2222222222222222,
             "#7201a8"
            ],
            [
             0.3333333333333333,
             "#9c179e"
            ],
            [
             0.4444444444444444,
             "#bd3786"
            ],
            [
             0.5555555555555556,
             "#d8576b"
            ],
            [
             0.6666666666666666,
             "#ed7953"
            ],
            [
             0.7777777777777778,
             "#fb9f3a"
            ],
            [
             0.8888888888888888,
             "#fdca26"
            ],
            [
             1,
             "#f0f921"
            ]
           ]
          },
          "colorway": [
           "#636efa",
           "#EF553B",
           "#00cc96",
           "#ab63fa",
           "#FFA15A",
           "#19d3f3",
           "#FF6692",
           "#B6E880",
           "#FF97FF",
           "#FECB52"
          ],
          "font": {
           "color": "#2a3f5f"
          },
          "geo": {
           "bgcolor": "white",
           "lakecolor": "white",
           "landcolor": "#E5ECF6",
           "showlakes": true,
           "showland": true,
           "subunitcolor": "white"
          },
          "hoverlabel": {
           "align": "left"
          },
          "hovermode": "closest",
          "mapbox": {
           "style": "light"
          },
          "paper_bgcolor": "white",
          "plot_bgcolor": "#E5ECF6",
          "polar": {
           "angularaxis": {
            "gridcolor": "white",
            "linecolor": "white",
            "ticks": ""
           },
           "bgcolor": "#E5ECF6",
           "radialaxis": {
            "gridcolor": "white",
            "linecolor": "white",
            "ticks": ""
           }
          },
          "scene": {
           "xaxis": {
            "backgroundcolor": "#E5ECF6",
            "gridcolor": "white",
            "gridwidth": 2,
            "linecolor": "white",
            "showbackground": true,
            "ticks": "",
            "zerolinecolor": "white"
           },
           "yaxis": {
            "backgroundcolor": "#E5ECF6",
            "gridcolor": "white",
            "gridwidth": 2,
            "linecolor": "white",
            "showbackground": true,
            "ticks": "",
            "zerolinecolor": "white"
           },
           "zaxis": {
            "backgroundcolor": "#E5ECF6",
            "gridcolor": "white",
            "gridwidth": 2,
            "linecolor": "white",
            "showbackground": true,
            "ticks": "",
            "zerolinecolor": "white"
           }
          },
          "shapedefaults": {
           "line": {
            "color": "#2a3f5f"
           }
          },
          "ternary": {
           "aaxis": {
            "gridcolor": "white",
            "linecolor": "white",
            "ticks": ""
           },
           "baxis": {
            "gridcolor": "white",
            "linecolor": "white",
            "ticks": ""
           },
           "bgcolor": "#E5ECF6",
           "caxis": {
            "gridcolor": "white",
            "linecolor": "white",
            "ticks": ""
           }
          },
          "title": {
           "x": 0.05
          },
          "xaxis": {
           "automargin": true,
           "gridcolor": "white",
           "linecolor": "white",
           "ticks": "",
           "title": {
            "standoff": 15
           },
           "zerolinecolor": "white",
           "zerolinewidth": 2
          },
          "yaxis": {
           "automargin": true,
           "gridcolor": "white",
           "linecolor": "white",
           "ticks": "",
           "title": {
            "standoff": 15
           },
           "zerolinecolor": "white",
           "zerolinewidth": 2
          }
         }
        },
        "title": {
         "text": "Visualização 3D dos Embeddings por Tipo de Documento"
        }
       }
      }
     },
     "metadata": {},
     "output_type": "display_data"
    }
   ],
   "source": [
    "\n",
    "# Reduz para 3D\n",
    "pca = PCA(n_components=3)\n",
    "emb_3d = pca.fit_transform(emb_vectors)\n",
    "\n",
    "# Cria DataFrame\n",
    "df = pd.DataFrame({\n",
    "    \"x\": emb_3d[:, 0],\n",
    "    \"y\": emb_3d[:, 1],\n",
    "    \"z\": emb_3d[:, 2],\n",
    "    \"text\": texts,\n",
    "    \"doc_type\": doc_types\n",
    "})\n",
    "\n",
    "# Gráfico 3D com Plotly\n",
    "fig = px.scatter_3d(\n",
    "    df, x=\"x\", y=\"y\", z=\"z\",\n",
    "    color=\"doc_type\",\n",
    "    hover_data=[\"text\"],\n",
    "    title=\"Visualização 3D dos Embeddings por Tipo de Documento\"\n",
    ")\n",
    "\n",
    "fig.show()"
   ]
  },
  {
   "cell_type": "code",
   "execution_count": 14,
   "id": "4f0201a4",
   "metadata": {},
   "outputs": [],
   "source": [
    "# create a new Chat\n",
    "llm = ChatOllama(temperature=0.7, model=\"phi4-mini\")\n",
    "# set up the conversation memory for the chat\n",
    "memory = ConversationBufferMemory(memory_key='chat_history', return_messages=True)\n",
    "\n",
    "# the retriever is an abstraction over the VectorStore that will be used during RAG\n",
    "retriever = vector_store.as_retriever()\n",
    "\n",
    "# putting it together: set up the conversation chain with the Ollama, the vector store and memory\n",
    "conversation_chain = ConversationalRetrievalChain.from_llm(llm=llm, retriever=retriever, memory=memory)\n"
   ]
  },
  {
   "cell_type": "code",
   "execution_count": 15,
   "id": "75ac63a0",
   "metadata": {},
   "outputs": [
    {
     "name": "stdout",
     "output_type": "stream",
     "text": [
      "Prediza é uma empresa de ciência da computação aplicada na agricultura, energia e meio ambiente. Ela apoia tomadas de decisões com base em inteligência derivada de dados do meio ambiente, do solo, das plantas, microclimas e manejo agrícola para aumentar a produtividade e rentabilidade. A Prediza oferece serviços como Agricultura Preditiva, que utiliza soluções de IA e IoT para fornecer informações valiosas na agricultura, incluindo detecção precoce de doenças e estresse hídrico com ações recomendadas para correção rápida.\n"
     ]
    }
   ],
   "source": [
    "# teste\n",
    "query = \"O que ou quem é Prediza ?\"\n",
    "result = conversation_chain.invoke({\"question\": query})\n",
    "print(result[\"answer\"])"
   ]
  },
  {
   "cell_type": "code",
   "execution_count": 16,
   "id": "492e8fe1",
   "metadata": {},
   "outputs": [],
   "source": [
    "\n",
    "system_message = \"Você é especialista em responder perguntas precisas sobre a empresa Prediza. Seja breve e preciso. Se não souber a resposta, diga. Não invente nada se não tiver recebido contexto relevante.\"\n",
    "idioma = \"Sempre responda no idioma Português, Brasil.\"\n",
    "\n",
    "\n",
    "def chat(question,system_message=system_message, idioma=idioma):\n",
    "    messages = [{\"role\": \"system\", \"content\": system_message}]\n",
    "    messages.append({\"role\": \"user\", \"content\": question})\n",
    "    messages.append({\"role\": \"language\", \"content\": idioma})\n",
    "    result = conversation_chain.invoke({\"question\": messages})\n",
    "    return result[\"answer\"]"
   ]
  },
  {
   "cell_type": "code",
   "execution_count": 17,
   "id": "34c2aecd",
   "metadata": {},
   "outputs": [
    {
     "name": "stdout",
     "output_type": "stream",
     "text": [
      "* Running on local URL:  http://127.0.0.1:7860\n",
      "* To create a public link, set `share=True` in `launch()`.\n"
     ]
    },
    {
     "data": {
      "text/html": [
       "<div><iframe src=\"http://127.0.0.1:7860/\" width=\"100%\" height=\"500\" allow=\"autoplay; camera; microphone; clipboard-read; clipboard-write;\" frameborder=\"0\" allowfullscreen></iframe></div>"
      ],
      "text/plain": [
       "<IPython.core.display.HTML object>"
      ]
     },
     "metadata": {},
     "output_type": "display_data"
    }
   ],
   "source": [
    "# Gradio:\n",
    "view = gr.ChatInterface(chat, type=\"messages\").launch(inbrowser=True)"
   ]
  }
 ],
 "metadata": {
  "kernelspec": {
   "display_name": "env_rag",
   "language": "python",
   "name": "python3"
  },
  "language_info": {
   "codemirror_mode": {
    "name": "ipython",
    "version": 3
   },
   "file_extension": ".py",
   "mimetype": "text/x-python",
   "name": "python",
   "nbconvert_exporter": "python",
   "pygments_lexer": "ipython3",
   "version": "3.13.3"
  }
 },
 "nbformat": 4,
 "nbformat_minor": 5
}
